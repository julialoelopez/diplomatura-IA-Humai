{
  "cells": [
    {
      "cell_type": "markdown",
      "metadata": {
        "id": "view-in-github",
        "colab_type": "text"
      },
      "source": [
        "<a href=\"https://colab.research.google.com/github/julialoelopez/diplomatura-IA-Humai/blob/main/bash_cli_vscode.ipynb\" target=\"_parent\"><img src=\"https://colab.research.google.com/assets/colab-badge.svg\" alt=\"Open In Colab\"/></a>"
      ]
    },
    {
      "cell_type": "markdown",
      "id": "206be922",
      "metadata": {
        "id": "206be922"
      },
      "source": [
        "<a href=\"https://colab.research.google.com/github/institutohumai/cursos-python/blob/master/PracticasDeDesarrollo/1_Desarrollo_I/bash_cli_vscode.ipynb\" target=\"_parent\"><img src=\"https://colab.research.google.com/assets/colab-badge.svg\" alt=\"Open In Colab\" data-canonical-src=\"https://colab.research.google.com/assets/colab-badge.svg\"></a>"
      ]
    },
    {
      "cell_type": "markdown",
      "id": "ef7843dd-fccd-4f16-84a4-66d643b9ba20",
      "metadata": {
        "tags": [],
        "id": "ef7843dd-fccd-4f16-84a4-66d643b9ba20"
      },
      "source": [
        "# 1. Bash: cómo sentirte un casi hacker"
      ]
    },
    {
      "cell_type": "markdown",
      "id": "d99380d1-d724-4657-8ae4-d3993269c8b0",
      "metadata": {
        "id": "d99380d1-d724-4657-8ae4-d3993269c8b0"
      },
      "source": [
        "![image](https://github.com/institutohumai/cursos-python/blob/master/PracticasDeDesarrollo/1_Desarrollo_I/imgs/1.png?raw=1)"
      ]
    },
    {
      "cell_type": "markdown",
      "id": "36543b21-e14c-4006-af33-0d0a0cae102d",
      "metadata": {
        "id": "36543b21-e14c-4006-af33-0d0a0cae102d"
      },
      "source": [
        "## 1.1. Introducción a conceptos básicos"
      ]
    },
    {
      "cell_type": "markdown",
      "id": "9f3d0b0b-4726-4487-ae65-3bfb35ebf7a2",
      "metadata": {
        "id": "9f3d0b0b-4726-4487-ae65-3bfb35ebf7a2"
      },
      "source": [
        "### ¿Qué es Bash?\n",
        "\n",
        "**Bash** es un command language interpreter (CLI, intérprete de comandos) que funciona por default en los sistemas GNU/Linux. Es el terreno en el que los sysadmins se mueven como pez en el agua, pero hay algunas tareas que tenemos que realizar como data scientists para las cuales tener conocimientos básicos nos viene muy bien.\n",
        "\n",
        "Podemos pensar a Bash como una suerte de \"metalenguaje\": Python, R, JavaScript, y una infinidad más de lenguajes tienen sus conectores con bash de forma nativa y cuentan con la posibilidad de ejecutar código bash sin mayores inconvenientes.\n",
        "\n",
        "### ¿Para qué lo necesitamos?\n",
        "En un sentido amplio, hay dos situaciones muy típicas en las que podemos necesitar recurrir a Bash:\n",
        "- Instalación de librerías y generación de entornos virtuales: vamos a entrar en profundidad un poco más adelante en este tema, pero la idea es crear ambientes autocontenidos donde no haya conflictos entre las distintas dependencias (por ejemplo, un proyecto en el que trabajamos requiere una versión específica de Pandas).\n",
        "- Puesta productiva de modelos y entornos cloud: las Jupyter Notebooks son excelentes para explorar datos, testear hipótesis e inclusive cuestiones didácticas (como esta notebook! :) ), pero son pésimas para la puesta productiva **profesional** de modelos de Machine Learning. Vamos a ver un poco más adelante que la forma \"correcta\" de hacerlo involucra reconstruir el código Python que funciona en la notebook para que pueda ser ejecutable mediante un comando de Bash.\n",
        "\n",
        "### ¿Qué es la terminal?\n",
        "\n",
        "También llamada **consola**, a través de la **terminal** podemos darle comandos a este \"metalenguaje\". Es la forma que tenemos de interactuar con la computadora (tanto en un entorno local como en la nube), diciéndole qué necesitamos que haga. Mediante estos comandos podemos dar indicaciones súper simples o extremadamente complejas (no va a ser nuestro caso).\n",
        "\n",
        "Esto es una terminal:"
      ]
    },
    {
      "cell_type": "markdown",
      "id": "43e5dcbd-9699-46a8-961d-9958ad94924a",
      "metadata": {
        "id": "43e5dcbd-9699-46a8-961d-9958ad94924a"
      },
      "source": [
        "![image](https://github.com/institutohumai/cursos-python/blob/master/PracticasDeDesarrollo/1_Desarrollo_I/imgs/2.png?raw=1)"
      ]
    },
    {
      "cell_type": "markdown",
      "id": "973af216-8916-41a7-9d42-500be7b29f90",
      "metadata": {
        "id": "973af216-8916-41a7-9d42-500be7b29f90"
      },
      "source": [
        "- El primer \"hernan\" es el nombre de mi usuario.\n",
        "- Luego de la arroba vemos el nombre de mi computadora (hernan-latitude-E5440).\n",
        "- Luego de los dos puntos vemos dónde está parada esa terminal (el path). La virgulilla (a que no sabían que el cosito de la eñe se llama así?) indica el home.\n",
        "- El signo pesos es el fin del path, y lo que vemos al lado es un prompt, que va a estar titilando (lo que quiere decir que está esperando un comando)."
      ]
    },
    {
      "cell_type": "markdown",
      "id": "f3df2a63-4f12-40e4-9bd8-ddc55f20bfdb",
      "metadata": {
        "id": "f3df2a63-4f12-40e4-9bd8-ddc55f20bfdb"
      },
      "source": [
        "## 1.2 Nuestros primeros pasos"
      ]
    },
    {
      "cell_type": "markdown",
      "id": "a48a1b3e-8ec2-4468-8b2d-f0ed1b92d50e",
      "metadata": {
        "id": "a48a1b3e-8ec2-4468-8b2d-f0ed1b92d50e"
      },
      "source": [
        "Veamos un primer ejemplo de algunos comandos típicos de bash:"
      ]
    },
    {
      "cell_type": "markdown",
      "id": "d42895bf-ba89-47a8-b4f3-ba6dccad6b2f",
      "metadata": {
        "id": "d42895bf-ba89-47a8-b4f3-ba6dccad6b2f"
      },
      "source": [
        "![image](https://github.com/institutohumai/cursos-python/blob/master/PracticasDeDesarrollo/1_Desarrollo_I/imgs/3.png?raw=1)"
      ]
    },
    {
      "cell_type": "markdown",
      "id": "76a40186-64fc-4047-8885-d66a3c60ed7d",
      "metadata": {
        "id": "76a40186-64fc-4047-8885-d66a3c60ed7d"
      },
      "source": [
        "- **cd** nos permite cambiar de directorio. La primera línea lo que hace es decirle a la consola que cambie de directorio, posicionándose en una carpeta llamada deployr.\n",
        "- Al ejecutarla vemos que ahora el path cambio (~/deployr), corroborando que estamos en esa carpeta. Dentro de ella, lo que hago es entrar a otra carpeta llamada humai.\n",
        "- Aquí aparece un comando: **ls**. Con eso lo que hacemos es listar los archivos y carpetas disponibles en esa ruta específica. Cabe mencionar que hay formas de pasarle argumentos a los distintos comandos para, por ejemplo, poder ver cuánto pesa cada archivo. Al ejecutarlo vemos que en esa carpeta hay una notebook llamada clase_01.\n",
        "- Con **mkdir** creamos una nueva carpeta llamada new_folder.\n",
        "- Verificamos con ls que se creó: aparece marcada con otro color al lado de la notebook, para poder identificar que se trata de una carpeta.\n",
        "- ¿Y qué pasa si queremos volver para atrás? Hacemos **cd ..**, que nos trae a la carpeta anterior del path.\n",
        "- Vemos que al cambiar de directorio nuevamente cambio el path, y haciendo un **ls** verificamos que está la carpeta de humai (donde está la notebook) y otras carpetas más.\n",
        "\n",
        "Vamos con algo un poco más interesante. Habíamos dicho que una de las cosas más interesantes (y necesarias) de bash tiene que ver con la generación de entornos autocontenidos y librerías necesarias para cada proyecto.\n",
        "\n",
        "Un caso muy típico es estar trabajando en la propia computadora y no saber cómo es el delicadísimo balance de librerías que permitió que eso corriera.\n",
        "\n",
        "Entonces... el combo de Bash + Python sale al rescate! Veamos cómo:"
      ]
    },
    {
      "cell_type": "markdown",
      "id": "85c3bba4-ee82-40b6-8ac5-5665231920e9",
      "metadata": {
        "id": "85c3bba4-ee82-40b6-8ac5-5665231920e9"
      },
      "source": [
        "![image](https://github.com/institutohumai/cursos-python/blob/master/PracticasDeDesarrollo/1_Desarrollo_I/imgs/4.png?raw=1)"
      ]
    },
    {
      "cell_type": "markdown",
      "id": "b8b14ac6-73be-4fbe-88b0-4b7da98b301a",
      "metadata": {
        "id": "b8b14ac6-73be-4fbe-88b0-4b7da98b301a"
      },
      "source": [
        "- El ls que corrí tiene un argumento (flag) adicional: ese -lh le da la forma que se ve en el output del comando. Básicamente muestra algunos atributos de los archivos y carpetas, como los permisos (lectura, ejecución, modificación, etc.), el tamaño, fecha de creación, etc.\n",
        "- Acá aparece un nuevo comando: con **touch** creamos un archivo. Cosas a prestar atención de esta línea:\n",
        "\n",
        "    - En bash las extensiones de los archivos no son tan rígidas, de hecho, muchas veces están más para orientar a quienes van a usar esos archivos que por una necesidad concreta del sistema operativo.\n",
        "    - Vemos que el comando está seguido de \"new_folder/archivo.txt\". Esta es otra de las propiedades de bash: no hace falta que la consola esté posicionada en el lugar específico donde van a estar las cosas. En este caso, va a crear un archivo con extensión txt (podría haber sido cualquier otra perfectamente) en el lugar donde yo le indiqué que lo hiciera.\n",
        "    \n",
        "\n",
        "- El comando que sigue es `pip freeze`. Atención a este detalle: mientras que ls, cd, mkdir y demás son comandos de bash, acá estamos *ejecutando código python desde bash*. Es una diferencia muy importante, porque lo que tenemos que lograr es poder hacer exactamente esto, pero con código python un poco más interesante (ejecución de ETLs, predicciones de modelos, etc.). En este caso, el output de  `pip freeze` (que de nuevo, es código Python) es todas las dependencias que tiene instaladas este entorno específico en el que estamos.\n",
        "\n",
        "Tras una pequeña elipsis del largo output de la consola:"
      ]
    },
    {
      "cell_type": "markdown",
      "id": "730f6347-2042-42cf-b0b3-fdf0f7be0ffa",
      "metadata": {
        "id": "730f6347-2042-42cf-b0b3-fdf0f7be0ffa"
      },
      "source": [
        "![image](https://github.com/institutohumai/cursos-python/blob/master/PracticasDeDesarrollo/1_Desarrollo_I/imgs/5.png?raw=1)"
      ]
    },
    {
      "cell_type": "markdown",
      "id": "646f512b-f8ea-4670-9d18-692fed596c94",
      "metadata": {
        "id": "646f512b-f8ea-4670-9d18-692fed596c94"
      },
      "source": [
        "- El output de la consola, por útil que sea saber cuáles son las dependencias que tenemos, de poco nos sirve en este formato. Aparece al rescate otro operador de bash: el signo mayor **>**. Lo que hace es tomar el resultado del comando anterior y escribirlo en algún archivo. Entonces en nuestro caso vemos que el resultado de la ejecución del `pip freeze` está siendo escrito en un archivo llamado *requirements.txt*.\n",
        "- Haciendo un **ls** verificamos que el archivo se escribió correctamente. ¿Podemos inspeccionarlo? ¡Claro que sí! Hay muchas formas, pero dejo las dos más sencillas:\n",
        "\n",
        "    - El comando **head** hace lo mismo que pasa en Python: devuelve las diez primeras líneas del archivo.\n",
        "    - Si queremos ver el resultado entero, el comando **cat** devuelve en consola todo el archivo entero."
      ]
    },
    {
      "cell_type": "markdown",
      "id": "0d68b775-df93-4b1c-8e39-67319752019a",
      "metadata": {
        "id": "0d68b775-df93-4b1c-8e39-67319752019a"
      },
      "source": [
        "Tan importante como crear archivos es poder borrarlos: veamos un ejemplo."
      ]
    },
    {
      "cell_type": "markdown",
      "id": "90bba71c-c657-498a-b8d5-0340caf1f680",
      "metadata": {
        "id": "90bba71c-c657-498a-b8d5-0340caf1f680"
      },
      "source": [
        "![image](https://github.com/institutohumai/cursos-python/blob/master/PracticasDeDesarrollo/1_Desarrollo_I/imgs/6.png?raw=1)"
      ]
    },
    {
      "cell_type": "markdown",
      "id": "679e6320-91b7-4ed9-beec-2738fb25e370",
      "metadata": {
        "id": "679e6320-91b7-4ed9-beec-2738fb25e370"
      },
      "source": [
        "- Primero un **ls**, para ver dónde estamos.\n",
        "- Vamos a borrar esa carpeta que creamos que no tiene mucho sentido. El comando para borrar es **rm**, seguido de lo que querramos eliminar. ¿Pero qué pasó acá? Como hay contenidos dentro de la carpeta (el archivo.txt que creamos), con la forma default del comando no podemos borrarlo (es una medida de seguridad). Como en efecto sé que quiero borrarlo con todo lo que tiene, le agrego el flag -rf, que remueve TODO lo que está ahí adentro.\n",
        "- **DATO SÚPER CRUCIAL**: en bash no existe algo así como la papelera de reciclaje. Lo que se borró, se borró PARA SIEMPRE, así que muchísimo cuidado con esto.\n"
      ]
    },
    {
      "cell_type": "markdown",
      "id": "6ce85626-f173-47bf-973c-db666d80d7da",
      "metadata": {
        "id": "6ce85626-f173-47bf-973c-db666d80d7da"
      },
      "source": [
        "Vamos con otros dos conceptos más:"
      ]
    },
    {
      "cell_type": "markdown",
      "id": "b029747e-19d3-41f1-9e71-b39dc2f36e09",
      "metadata": {
        "id": "b029747e-19d3-41f1-9e71-b39dc2f36e09"
      },
      "source": [
        "![image](https://github.com/institutohumai/cursos-python/blob/master/PracticasDeDesarrollo/1_Desarrollo_I/imgs/7.png?raw=1)"
      ]
    },
    {
      "cell_type": "markdown",
      "id": "5ab551d1-cec1-421a-a7ef-052b81e434ad",
      "metadata": {
        "id": "5ab551d1-cec1-421a-a7ef-052b81e434ad"
      },
      "source": [
        "- Primero cambio de directorio derecho al de humai: como veíamos, podemos movernos directamente entre las carpetas siempre y cuando sepamos donde está posicionada la terminal.\n",
        "- Creo dos carpetas (carpeta1 y carpeta2).\n",
        "- Con **echo** imprimimos lo que esté entre comillas al output de la consola. En este caso, el string *hola! soy un archivo :)* se va a escribir en la ruta carpeta1/saludo.txt.\n",
        "- Me posiciono en la carpeta1, donde acabo de crear el archivo.\n",
        "- Acá aparece otro comando muy importante: **pwd**, con el cual podemos ver dónde está parada la terminal, que aparece en el output.\n",
        "- El path relativo desde adentro de la carpeta1 hasta adentro de la carpeta2 involucra dar un paso hacia atrás. Vamos a tener esto en cuenta cuando usemos el comando **cp**, que permite copiar un archivo de un lugar al otro. Lo importante acá a notar es cuáles son los path relativos a nuestra posición actual que indican dónde están los objetos y cuál es la posición donde tenemos que dejarlo.\n",
        "- Luego vamos a la carpeta2 e imprimimos primero el output del archivo que está en esa carpeta usando el comando **cat**, y luego lo repetimos pero indicándole el path relativo desde esa posición hasta la carpeta1."
      ]
    },
    {
      "cell_type": "markdown",
      "id": "4fb4e9f2-487e-4032-afaa-fb2d4c7b31b1",
      "metadata": {
        "id": "4fb4e9f2-487e-4032-afaa-fb2d4c7b31b1"
      },
      "source": [
        "Cuando terminamos, borramos las carpetas y todo lo que está adentro.\n",
        "\n",
        "\n",
        "\n",
        "![image](https://github.com/institutohumai/cursos-python/blob/master/PracticasDeDesarrollo/1_Desarrollo_I/imgs/8.png?raw=1)"
      ]
    },
    {
      "cell_type": "markdown",
      "id": "d001af44-783b-40f4-a993-09016f27eab4",
      "metadata": {
        "id": "d001af44-783b-40f4-a993-09016f27eab4"
      },
      "source": [
        "### 1.3. Nuestro primer ejecutable"
      ]
    },
    {
      "cell_type": "markdown",
      "id": "aea6c331-4043-48e5-a144-a612b6baeb51",
      "metadata": {
        "id": "aea6c331-4043-48e5-a144-a612b6baeb51"
      },
      "source": [
        "Bash tiene un bloc de notas incorporado, al cual accedemos con el comando **nano**. Si el archivo existe, lo va a leer; si no existe, va a crear un archivo con el nombre que específiquemos. Algunas cosas a considerar:\n",
        "\n",
        "- La convención para archivos ejecutables de bash es .sh.\n",
        "- Recordemos que bash está pensado para utilizarse de punta a punta *sin utilizar el mouse*. Esto quiere decir que para moverte dentro de ese bloc de notas (las líneas y posiciones, entrar y salir, etc.) lo hacés *con el teclado* siguiendo los atajos que aparecen en pantalla. ¡Paciencia e ir bien despacio!"
      ]
    },
    {
      "cell_type": "markdown",
      "id": "13fe35a9-e2ef-4b73-b3ea-d7519aaebbf9",
      "metadata": {
        "id": "13fe35a9-e2ef-4b73-b3ea-d7519aaebbf9"
      },
      "source": [
        "![image](https://github.com/institutohumai/cursos-python/blob/master/PracticasDeDesarrollo/1_Desarrollo_I/imgs/9.png?raw=1)"
      ]
    },
    {
      "cell_type": "markdown",
      "id": "20b74f12-1116-406c-b25c-01dc19f1c16a",
      "metadata": {
        "id": "20b74f12-1116-406c-b25c-01dc19f1c16a"
      },
      "source": [
        "Al correr esa línea lo primero que va a hacer es abrirnos el bloc de notas vacío. Yo ya lo llené (y lógicamente lo tienen en el repo clonado), pero lo que hay adentro es esto:"
      ]
    },
    {
      "cell_type": "markdown",
      "id": "f790f2d9-b6fb-401e-bb11-2477af87e13f",
      "metadata": {
        "id": "f790f2d9-b6fb-401e-bb11-2477af87e13f"
      },
      "source": [
        "![image](https://github.com/institutohumai/cursos-python/blob/master/PracticasDeDesarrollo/1_Desarrollo_I/imgs/10.png?raw=1)"
      ]
    },
    {
      "cell_type": "markdown",
      "id": "661fe768-7560-4b5e-86b7-ee1b9638bdae",
      "metadata": {
        "id": "661fe768-7560-4b5e-86b7-ee1b9638bdae"
      },
      "source": [
        "- Lo primero a notar es esa primera línea que parece un comentario. Eso lo que hace es decirle al intérprete de la consola que hay que ejecutarlo con bash (hay otros), y dónde está la ruta para encontrarlo. Es una línea default para poner y que se conoce como 'she-bang'(shabang).\n",
        "- Bash, al igual que Python, tiene la posibilidad de poder definir variables.\n",
        "\n",
        "    - La primera es una variable llamada *greeting* que tiene el string \"Hola\".\n",
        "    - *user* tiene el resultado de la ejecución del comando **whoami**, que dice el nombre del usuario. Vemos que se crean poniendo el signo pesos y envolviendo el comando entre paréntesis.\n",
        "    - Se puede poner más interesante: podemos almacenar no sólo resultados de los comandos, sino también resultados parametrizados. Veamos que en *date* estamos almacenando la ejecución del comando **date**, pero en *day* hay un argumento adicional, con el que indicamos que queremos el nombre entero del día.\n",
        "- Luego corremos el comando **echo** para que se devuelva a consola un texto que también cuenta con la definición de las variables, las cuales llamamos con el signo pesos.\n",
        "- Como detalle, vemos también que hay algunas variables de entorno definidas de antemano, como BASH_VERSION."
      ]
    },
    {
      "cell_type": "markdown",
      "id": "6a220962-a377-467e-a982-414397b568cb",
      "metadata": {
        "id": "6a220962-a377-467e-a982-414397b568cb"
      },
      "source": [
        "Una vez guardado el archivo, hasta ahora sólo tenemos la definición del archivo con el código que tiene adentro, pero todavía no lo hicimos ejecutable. Para eso tenemos que correr el comando **chmod**, que modifica los permisos de un archivo, haciéndolo ejecutable agregándole el **+x**.\n",
        "\n",
        "Para ejecutarlo, tenemos que indicarle la ruta al archivo pero antes con un **./**. En este caso, con `./saludo.sh`, el intérprete va a buscar el archivo saludo.sh que está en la misma carpeta, y lo corre."
      ]
    },
    {
      "cell_type": "markdown",
      "id": "8a890598-0cd1-48ac-8075-ace3d9dd1190",
      "metadata": {
        "id": "8a890598-0cd1-48ac-8075-ace3d9dd1190"
      },
      "source": [
        "![image](https://github.com/institutohumai/cursos-python/blob/master/PracticasDeDesarrollo/1_Desarrollo_I/imgs/11.png?raw=1)"
      ]
    },
    {
      "cell_type": "markdown",
      "id": "35bf2451-101d-4446-8864-c1a4074cb898",
      "metadata": {
        "id": "35bf2451-101d-4446-8864-c1a4074cb898"
      },
      "source": [
        "### 1.4. Conclusión"
      ]
    },
    {
      "cell_type": "markdown",
      "id": "2f8b902b-e6c0-44c7-a691-04eb5056e2b0",
      "metadata": {
        "id": "2f8b902b-e6c0-44c7-a691-04eb5056e2b0"
      },
      "source": [
        "Vamos a concluir el apartado de Bash con algunos puntos y consejos interesantes.\n",
        "\n",
        "\n",
        "1. Lleva tiempo acostumbrarse a moverse con sólo el teclado, pero una vez que lo hacés no hay vuelta atrás. Algunos comandos y shortcuts que sin duda vas a usar:\n",
        "- Tab: autocompletar.\n",
        "- Flecha arriba & Flecha abajo: vas viendo en consola los comandos que fuiste ejecutando (el historial).\n",
        "- Ctrl+R: Búsqueda en el historial de ejecución.\n",
        "- **clear** (Ctrl+L): limpia la terminal.\n",
        "- **exit** (Ctrl+D): la cierra.\n",
        "- **man**: la mayoría de las funciones de Bash tienen un manual, al que podés acceder con ese comando. Una forma parecida de hacer lo mismo es con el flag --help (por ejemplo, ls --help te devuelve en consola los argumentos y parámetros del comando ls).\n",
        "- **mv**: es mover, en vez de copiar. Funciona igual.\n",
        "- Ctrl+C: Interrumpir procesos.\n",
        "- Ctrl+Shift+C/V: copiar y pegar (hay que agregar el shift).\n",
        "2. Bash cuenta con la posibilidad de crear *alias*, que son básicamente comandos que nosotros determinamos y que funcionan sólo en el contexto de nuestra terminal. Eso es extremadamente útil para tareas que hacemos de forma constante: supongamos que nos conectamos de forma remota a un servidor y levantamos una notebook desde ahí. En vez de hacer eso manualmente siempre, se podría hacer un alias que ejecute los comandos de manera secuencial para ahorranos tiempo.\n",
        "3. La generación y manejo de variables de entorno suele ser bastante importante en entornos cloud y cuando entramos en el terreno de la productivización, dado que es la mejor manera de pasar parámetros de un proceso al otro (por ejemplo, una key de algún servicio, el nombre de alguna tabla, alguna variable que defina si estamos en producción o en test, etc.)."
      ]
    },
    {
      "cell_type": "markdown",
      "id": "55a46951-433a-4399-8023-901c84c47925",
      "metadata": {
        "id": "55a46951-433a-4399-8023-901c84c47925"
      },
      "source": [
        "# 2. VSCode"
      ]
    },
    {
      "cell_type": "markdown",
      "id": "1b243809-619b-42d3-b04d-0014570b0c5f",
      "metadata": {
        "id": "1b243809-619b-42d3-b04d-0014570b0c5f"
      },
      "source": [
        "## 2.1. Conociendo la interfaz  "
      ]
    },
    {
      "cell_type": "markdown",
      "id": "f1068d49-0341-4e82-b366-e48f39d12011",
      "metadata": {
        "id": "f1068d49-0341-4e82-b366-e48f39d12011"
      },
      "source": [
        "Si no tenés instalado VSCode, podés instalarlo con este [link](https://code.visualstudio.com/). Esta es la pantalla de inicio de VS code:"
      ]
    },
    {
      "cell_type": "markdown",
      "id": "e50f954e-5a67-4dad-a4a4-9d4b542f26d3",
      "metadata": {
        "id": "e50f954e-5a67-4dad-a4a4-9d4b542f26d3"
      },
      "source": [
        "![image](https://github.com/institutohumai/cursos-python/blob/master/PracticasDeDesarrollo/1_Desarrollo_I/imgs/12.png?raw=1)"
      ]
    },
    {
      "cell_type": "markdown",
      "id": "b3a27492-77fb-44ba-90e4-03b9703aa799",
      "metadata": {
        "id": "b3a27492-77fb-44ba-90e4-03b9703aa799"
      },
      "source": [
        "Aquí tenemos la opción de crear un proyecto nuevo o abrir uno reciente. En mi caso, se muestran proyectos recientes en los que he estado trabajando. Lo que haremos a continuación será crear un proyecto nuevo a partir de un repositorio en Github, es decir, vamos a clonar un repositorio.\n",
        "\n",
        "Hacemos click en Clone Git repository.\n",
        "\n",
        "Luego pegamos la siguiente URL: https://github.com/Python-World/python-mini-projects.git y hacemos click sobre el enlace Python-World/python-mini-projects como se muestra en la figura siguiente."
      ]
    },
    {
      "cell_type": "markdown",
      "id": "2e0fa7b2-36bd-4324-a96e-2e0ab2ddc03c",
      "metadata": {
        "id": "2e0fa7b2-36bd-4324-a96e-2e0ab2ddc03c"
      },
      "source": [
        "![image](https://github.com/institutohumai/cursos-python/blob/master/PracticasDeDesarrollo/1_Desarrollo_I/imgs/13.png?raw=1)"
      ]
    },
    {
      "cell_type": "markdown",
      "id": "365946f8-5424-457f-9a24-b5d6c51017e4",
      "metadata": {
        "id": "365946f8-5424-457f-9a24-b5d6c51017e4"
      },
      "source": [
        "El próximo paso es seleccionar una carpeta en la que queremos que se aloje nuestro proyecto. En mi caso, creé una carpeta llamada captcha_generator porque así se llama el proyecto en el que vamos a trabajar. Luego de unos segundos, el repositorio habrá sido copiado en nuestra carpeta.\n",
        "\n",
        "Una vez clonado el repositorio, estamos en condiciones de empezar a explorar el código. Cerramos la pestaña Get started y localizamos el archivo Captcha_generator.py ubicado en projects/catpcha_generator/."
      ]
    },
    {
      "cell_type": "markdown",
      "id": "5ea8a004-4712-40ea-a727-3ca74c7fa7c4",
      "metadata": {
        "id": "5ea8a004-4712-40ea-a727-3ca74c7fa7c4"
      },
      "source": [
        "![image](https://github.com/institutohumai/cursos-python/blob/master/PracticasDeDesarrollo/1_Desarrollo_I/imgs/14.png?raw=1)"
      ]
    },
    {
      "cell_type": "markdown",
      "id": "a79e73a0-4ed4-461e-b24e-9cc334fc902d",
      "metadata": {
        "id": "a79e73a0-4ed4-461e-b24e-9cc334fc902d"
      },
      "source": [
        "Aquí nos detenemos un segundo y hacemos algunas observaciones:\n",
        "\n",
        "- A la izquierda tenemos el explorer, donde podemos localizar todos los archivos de nuestro proyecto. Podemos acceder al explorer haciendo click en el primer ícono de la barra de actividad de la izquierda (más adelante veremos el resto).\n",
        "- Abajo tenemos una barra de estado que nos dice:\n",
        "  -      La rama del repo en la que estamos ubicados\n",
        "  -      Si hay errores o advertencias (warnings) en nuestro código ( Vs code se encarga de revisar el código por nosotros!)\n",
        "  -      En qué línea del código está ubicado el cursor\n",
        "  -      Cuántos espacios tiene esa línea de código\n",
        "  -      En qué lenguaje de programación está escrito el código\n",
        "  -      Etc\n"
      ]
    },
    {
      "cell_type": "markdown",
      "id": "f42c0be8-f021-42e3-845f-88988f512b81",
      "metadata": {
        "id": "f42c0be8-f021-42e3-845f-88988f512b81"
      },
      "source": [
        "## 2.2 Shortcuts"
      ]
    },
    {
      "cell_type": "markdown",
      "id": "ec10b271-4bf8-4e75-9c44-6e8ae321d054",
      "metadata": {
        "id": "ec10b271-4bf8-4e75-9c44-6e8ae321d054"
      },
      "source": [
        "Como se imaginarán, hay infinidad de shortcuts para VS Code. El más importante que deben recordar es *ctrl + shift + P* el cual activa el **Command Palette**."
      ]
    },
    {
      "cell_type": "markdown",
      "id": "91b28431-f82b-43a2-a32c-af9718a86706",
      "metadata": {
        "id": "91b28431-f82b-43a2-a32c-af9718a86706"
      },
      "source": [
        "![image](https://github.com/institutohumai/cursos-python/blob/master/PracticasDeDesarrollo/1_Desarrollo_I/imgs/15.png?raw=1)"
      ]
    },
    {
      "cell_type": "markdown",
      "id": "eb329774-ec8c-458d-b216-28bb9568b036",
      "metadata": {
        "tags": [],
        "id": "eb329774-ec8c-458d-b216-28bb9568b036"
      },
      "source": [
        "Esta especie de \"buscador\" nos permite escribir lo que necesitemos y nos mostrará el o los comandos que podemos ejecutar dentro de VS Code. Por ejemplo, imaginemos que queremos modificar los shortcuts de nuestro teclado. Abrimos la command pallette y escribimos \"shortcut\""
      ]
    },
    {
      "cell_type": "markdown",
      "id": "e9a6a86e-573a-4cb9-a79b-f17dd46a19b3",
      "metadata": {
        "id": "e9a6a86e-573a-4cb9-a79b-f17dd46a19b3"
      },
      "source": [
        "![image](https://github.com/institutohumai/cursos-python/blob/master/PracticasDeDesarrollo/1_Desarrollo_I/imgs/16.png?raw=1)"
      ]
    },
    {
      "cell_type": "markdown",
      "id": "76fcc2f0-c530-41e0-b5de-604fd3bfa902",
      "metadata": {
        "id": "76fcc2f0-c530-41e0-b5de-604fd3bfa902"
      },
      "source": [
        "Entre las opciones que nos sugiere, hacemos click en Preferences: Keyword shortcuts y se abre una pestaña con la configuración de accesos directos para nuestro teclado."
      ]
    },
    {
      "cell_type": "markdown",
      "id": "7545015d-58c7-4ce3-976d-bd8253b9cdaa",
      "metadata": {
        "id": "7545015d-58c7-4ce3-976d-bd8253b9cdaa"
      },
      "source": [
        "![image](https://github.com/institutohumai/cursos-python/blob/master/PracticasDeDesarrollo/1_Desarrollo_I/imgs/17.png?raw=1)"
      ]
    },
    {
      "cell_type": "markdown",
      "id": "6b7cebfb-555c-42a2-b4c9-92ac730dbb5c",
      "metadata": {
        "id": "6b7cebfb-555c-42a2-b4c9-92ac730dbb5c"
      },
      "source": [
        "VS Code tiene infinidad de opciones para \"tunear\" el IDE. Un poco de eso lo veremos en la siguiente sección, pero por lo pronto lo más importante a tener en cuenta es el tamaño de letra. Para ello podés hacer cmd + (o ctrl +) para agrandar el tamaño y cmd - (o ctr -) para achicarlo."
      ]
    },
    {
      "cell_type": "markdown",
      "id": "94901fc7-76de-406d-8106-311344b97aa3",
      "metadata": {
        "id": "94901fc7-76de-406d-8106-311344b97aa3"
      },
      "source": [
        "## 2.3. Extensiones clave"
      ]
    },
    {
      "cell_type": "markdown",
      "id": "1cc48f6a-5964-4542-8e97-0e23c94899e0",
      "metadata": {
        "id": "1cc48f6a-5964-4542-8e97-0e23c94899e0"
      },
      "source": [
        "Aquí empezamos a tunear nuestro IDE. La idea no solo es dejarlo facherito sino también que nos ayude a ser más productivos. Para sumar extensiones, debemos hacer click en el botón Extensions de la barra de actividad y luego utilizar el buscador para ir explorando las opciones disponibles. Empecemos!\n",
        "\n",
        "**TIP:** Siempre deben mirar la cantidad de descargas que tiene la extensión y quién es el autor de la misma. Esto sirve para asegurarnos que la extensión es confiable :)"
      ]
    },
    {
      "cell_type": "markdown",
      "id": "4c026a4a-2928-49b7-aba4-bcff66b45642",
      "metadata": {
        "id": "4c026a4a-2928-49b7-aba4-bcff66b45642"
      },
      "source": [
        "#### vscode-icons (opcional)\n",
        "\n",
        "Esta extensión simplemente hace que nuestros íconos se vean mejor."
      ]
    },
    {
      "cell_type": "markdown",
      "id": "1727f8c9-90fd-461c-8714-2b2e3fb9916e",
      "metadata": {
        "id": "1727f8c9-90fd-461c-8714-2b2e3fb9916e"
      },
      "source": [
        "![image](https://github.com/institutohumai/cursos-python/blob/master/PracticasDeDesarrollo/1_Desarrollo_I/imgs/18.png?raw=1)"
      ]
    },
    {
      "cell_type": "markdown",
      "id": "55b28be1-086d-4ddf-9204-efb0f5898366",
      "metadata": {
        "id": "55b28be1-086d-4ddf-9204-efb0f5898366"
      },
      "source": [
        "Vemos cómo quedan los íconos:"
      ]
    },
    {
      "cell_type": "markdown",
      "id": "da33e5da-5875-4724-a0d4-7c4cc17516f1",
      "metadata": {
        "id": "da33e5da-5875-4724-a0d4-7c4cc17516f1"
      },
      "source": [
        "![image](https://github.com/institutohumai/cursos-python/blob/master/PracticasDeDesarrollo/1_Desarrollo_I/imgs/19.png?raw=1)"
      ]
    },
    {
      "cell_type": "markdown",
      "id": "ab76e343-7099-4f1d-9d0d-07ba7e66e3d6",
      "metadata": {
        "id": "ab76e343-7099-4f1d-9d0d-07ba7e66e3d6"
      },
      "source": [
        "#### code runner\n",
        "\n",
        "Esta extensión nos permite ejecutar código directamente desde el IDE. Podemos darle \"play\" y el código se ejecuta allí mismo. Es similar a ejecutar una celda en un Jupyter notebook."
      ]
    },
    {
      "cell_type": "markdown",
      "id": "40f19266-3dd7-4fa0-93be-9a448a97a296",
      "metadata": {
        "id": "40f19266-3dd7-4fa0-93be-9a448a97a296"
      },
      "source": [
        "![image](https://github.com/institutohumai/cursos-python/blob/master/PracticasDeDesarrollo/1_Desarrollo_I/imgs/20.png?raw=1)"
      ]
    },
    {
      "cell_type": "markdown",
      "id": "63b171cc-cf5b-49c4-a32a-0bb45d553426",
      "metadata": {
        "id": "63b171cc-cf5b-49c4-a32a-0bb45d553426"
      },
      "source": [
        "Una vez instalada, podrás ver un botón de \"play\" en el extremo superior derecho de la pantalla, que te permitirá ejecutar el código y ver inmediatamente su resultado."
      ]
    },
    {
      "cell_type": "markdown",
      "id": "49f1fef9-52c1-4b96-8dd7-316ce253e926",
      "metadata": {
        "id": "49f1fef9-52c1-4b96-8dd7-316ce253e926"
      },
      "source": [
        "![image](https://github.com/institutohumai/cursos-python/blob/master/PracticasDeDesarrollo/1_Desarrollo_I/imgs/21.png?raw=1)"
      ]
    },
    {
      "cell_type": "markdown",
      "id": "41b1aa99-b5b7-4e1b-b3e1-42cd7b428070",
      "metadata": {
        "id": "41b1aa99-b5b7-4e1b-b3e1-42cd7b428070"
      },
      "source": [
        "#### Code Spell Checker\n",
        "\n",
        "Para los hispano parlantes que queremos que nuestro código esté en inglés, esta extensión resulta particularmente útil dado que identifica errores de ortografía tanto en nuestro código como en los comentarios."
      ]
    },
    {
      "cell_type": "markdown",
      "id": "79012c55-329b-4472-9771-758ed3cf5261",
      "metadata": {
        "id": "79012c55-329b-4472-9771-758ed3cf5261"
      },
      "source": [
        "![image](https://github.com/institutohumai/cursos-python/blob/master/PracticasDeDesarrollo/1_Desarrollo_I/imgs/22.png?raw=1)"
      ]
    },
    {
      "cell_type": "markdown",
      "id": "751105ec-65bb-460b-b830-1dbba4e356de",
      "metadata": {
        "id": "751105ec-65bb-460b-b830-1dbba4e356de"
      },
      "source": [
        "Una vez activada, esta extensión resalta las palabras que no identifica dentro del diccionario inglés, como por ejemplo *vallue* (la palabra correcta sería *value*). Haciendo click en la lamparita, podremos ver las opciones que nos sugiere la herramienta."
      ]
    },
    {
      "cell_type": "markdown",
      "id": "cebb52b6-18b2-465d-a757-60cbee037a5c",
      "metadata": {
        "id": "cebb52b6-18b2-465d-a757-60cbee037a5c"
      },
      "source": [
        "![image](https://github.com/institutohumai/cursos-python/blob/master/PracticasDeDesarrollo/1_Desarrollo_I/imgs/23.png?raw=1)"
      ]
    },
    {
      "cell_type": "markdown",
      "id": "280e28b8-e64c-4c0a-9bc5-f687a28eaac5",
      "metadata": {
        "id": "280e28b8-e64c-4c0a-9bc5-f687a28eaac5"
      },
      "source": [
        "![image](https://github.com/institutohumai/cursos-python/blob/master/PracticasDeDesarrollo/1_Desarrollo_I/imgs/24.png?raw=1)"
      ]
    },
    {
      "cell_type": "markdown",
      "id": "72e17110-eb23-4edd-a2c9-e169fd589a96",
      "metadata": {
        "id": "72e17110-eb23-4edd-a2c9-e169fd589a96"
      },
      "source": [
        "#### IntelliCode\n",
        "\n",
        "En esta ocasión, nuestros amigos de Microsoft nos traen esta extensión que nos muestra sugerencias para auto completar nuestro código. Esto nos ahorra tener que recordar los atributos y métodos de nuestos objetos, como se aprecia en la siguiente imagen."
      ]
    },
    {
      "cell_type": "markdown",
      "id": "65e4e984-35f6-4c59-bd0a-1e864ca835a5",
      "metadata": {
        "id": "65e4e984-35f6-4c59-bd0a-1e864ca835a5"
      },
      "source": [
        "![image](https://github.com/institutohumai/cursos-python/blob/master/PracticasDeDesarrollo/1_Desarrollo_I/imgs/25.png?raw=1)"
      ]
    },
    {
      "cell_type": "markdown",
      "id": "3a670fb3-e83a-4a1f-9919-7f552f8cf3f3",
      "metadata": {
        "id": "3a670fb3-e83a-4a1f-9919-7f552f8cf3f3"
      },
      "source": [
        "![image](https://github.com/institutohumai/cursos-python/blob/master/PracticasDeDesarrollo/1_Desarrollo_I/imgs/26.png?raw=1)"
      ]
    },
    {
      "cell_type": "markdown",
      "id": "8773ccfe-14bf-44f0-8298-0b6cecb09b6b",
      "metadata": {
        "id": "8773ccfe-14bf-44f0-8298-0b6cecb09b6b"
      },
      "source": [
        "#### GitLens\n",
        "\n",
        "Esta extensión la veremos en la sección de Git :)"
      ]
    },
    {
      "cell_type": "markdown",
      "id": "e11a8f9a-6c46-4011-a39d-55a994628656",
      "metadata": {
        "id": "e11a8f9a-6c46-4011-a39d-55a994628656"
      },
      "source": [
        "![image](https://github.com/institutohumai/cursos-python/blob/master/PracticasDeDesarrollo/1_Desarrollo_I/imgs/27.png?raw=1)"
      ]
    },
    {
      "cell_type": "markdown",
      "id": "d3e23ab0-a89d-46e1-91ef-c2981727da33",
      "metadata": {
        "id": "d3e23ab0-a89d-46e1-91ef-c2981727da33"
      },
      "source": [
        "## 2.4. Refactoring\n",
        "\n",
        "Ahora que ya tenemos configurado nuestro IDE, veamos algunas técnicas que facilitarán nuestro trabajo a la hora de refactorizar código."
      ]
    },
    {
      "cell_type": "markdown",
      "id": "da2e9f5a-6938-408e-b21f-a3ec62de3e1b",
      "metadata": {
        "id": "da2e9f5a-6938-408e-b21f-a3ec62de3e1b"
      },
      "source": [
        "#### Renaming\n",
        "\n",
        "A la hora de renombrar alguna clase u objeto, suele ocurrir que debemos modificar el nombre manualmente muchas veces a lo largo de nuestro código, incluso en varios archivos! Esto se puede hacer con 1 solo paso si hacemos uso de la función *Rename sytmbol*.\n",
        "\n",
        "Esta utilidad permite seleccionar un objeto, modificar su nombre y asegurarnos de que este cambio impacta en todas las instancias de ese objeto. Es tan simple como seleccionar un objeto, click derecho y luego hacer click en Rename symbol. Como resultado, se abre una ventana donde ingresamos el nuevo nombre y finalmente presionamos Enter.\n",
        "\n",
        "Listo! El cambio impactará en todas las intancias de ese objeto :D"
      ]
    },
    {
      "cell_type": "markdown",
      "id": "6e061663-c66e-4828-bfee-e0681c8e17ae",
      "metadata": {
        "id": "6e061663-c66e-4828-bfee-e0681c8e17ae"
      },
      "source": [
        "![image](https://github.com/institutohumai/cursos-python/blob/master/PracticasDeDesarrollo/1_Desarrollo_I/imgs/28.png?raw=1)"
      ]
    },
    {
      "cell_type": "markdown",
      "id": "3e688525-da14-4c34-85bf-829726d93a8a",
      "metadata": {
        "id": "3e688525-da14-4c34-85bf-829726d93a8a"
      },
      "source": [
        "#### Debugging\n",
        "\n",
        "Aquí veremos un ejemplo sencillo sobre cómo debuggear nuestro código, es decir, cómo ejecutar nuestro código paso a paso, observando lo que ocurre en determinados puntos de interés llamados \"breakpoints\".\n",
        "\n",
        "En vscode tenemos la opción hacer debugging haciendo click en el botón run & debug en la barra de actividad."
      ]
    },
    {
      "cell_type": "markdown",
      "id": "90bd7b61-f6ec-4e4d-ad87-96cb6142f81b",
      "metadata": {
        "id": "90bd7b61-f6ec-4e4d-ad87-96cb6142f81b"
      },
      "source": [
        "![image](https://github.com/institutohumai/cursos-python/blob/master/PracticasDeDesarrollo/1_Desarrollo_I/imgs/29.png?raw=1)"
      ]
    },
    {
      "cell_type": "markdown",
      "id": "1eae5e58-7190-4ddc-9041-3e9a8a4e11f1",
      "metadata": {
        "id": "1eae5e58-7190-4ddc-9041-3e9a8a4e11f1"
      },
      "source": [
        "Nos va a pedir que generemos una configuración. Para ello, hacemos click en el lenguaje en que está escrito nuestro código (Python para nuestro ejemplo).\n",
        "\n",
        "Luego de unos segundos se creará el archivo de configuración.\n",
        "\n",
        "El paso siguiente consiste en definir los breakpoints, es decir, estos puntos donde la ejecución del código se detiene y nos permite observar el estado de las variables. Para este ejemplo, usaremos el archivo calculate.py dentro del directorio calculate_age y colocaremos un breakpoint en la línea 19 (punto rojo a la izquierda del 19)."
      ]
    },
    {
      "cell_type": "markdown",
      "id": "10c1c8df-a272-4229-99d9-85f067cd47de",
      "metadata": {
        "id": "10c1c8df-a272-4229-99d9-85f067cd47de"
      },
      "source": [
        "![image](https://github.com/institutohumai/cursos-python/blob/master/PracticasDeDesarrollo/1_Desarrollo_I/imgs/30.png?raw=1)"
      ]
    },
    {
      "cell_type": "markdown",
      "id": "5f443170-cb60-4cad-bccb-1abbc4818f9e",
      "metadata": {
        "id": "5f443170-cb60-4cad-bccb-1abbc4818f9e"
      },
      "source": [
        "En la terminal vemos que el código empezó a ejecutarse y nos pide que ingresemos nuestro nombre y edad."
      ]
    },
    {
      "cell_type": "markdown",
      "id": "ac6814c4-3e7f-4a08-bf33-1daad6a97b4e",
      "metadata": {
        "id": "ac6814c4-3e7f-4a08-bf33-1daad6a97b4e"
      },
      "source": [
        "Una vez ingresados los datos vemos que el código se detiene en nuestro breakpoint y en el extremo superior izquierdo aparece el apartado variables, donde podemos ver que tenemos 2 variables: leap_year y month cuyos valores son False y 2, respectivamente.\n",
        "\n",
        "Para seguir avanzando hacemos click en play (botón azul en el extremo superior de la pantalla) y finalmente termina la ejecución de nuestro código cuando obtenemos el resultado de nuestra edad expresada en meses y días.\n",
        "\n",
        "¡Te propongo como ejercicio colocar más breakpoints e ir visualizando la evolución de las variables a medida que se ejecuta el código!"
      ]
    },
    {
      "cell_type": "markdown",
      "id": "25fd9aa5-7446-4980-b39d-1e1ca647286d",
      "metadata": {
        "id": "25fd9aa5-7446-4980-b39d-1e1ca647286d"
      },
      "source": [
        "## 2.5. SSH & Docker\n",
        "**SSH**\n",
        "\n",
        "Desde VS code tenemos la opción de conectarnos con otra computadora vía SSH y poder trabajar sobre un proyecto que se encuentre alojado allí. De la misma manera que en en el explorer podemos visualizar los archivos del proyecto que se encuentran alojados en nuestra computadora, también podríamos hacer lo mismo pero con un proyecto que se encuentre alojado en otra computadora.\n",
        "\n",
        "En este curso no vamos a profundizar en esta funcionalidad, pero sabé que existe y que es posible hacer lo que les conté utilizando la extensión Remote Development desarrollada por Microsoft."
      ]
    },
    {
      "cell_type": "markdown",
      "id": "0fc395dd-ff6a-4faf-a632-e75dc61e22b0",
      "metadata": {
        "id": "0fc395dd-ff6a-4faf-a632-e75dc61e22b0"
      },
      "source": [
        "![image](https://github.com/institutohumai/cursos-python/blob/master/PracticasDeDesarrollo/1_Desarrollo_I/imgs/31.png?raw=1)"
      ]
    },
    {
      "cell_type": "markdown",
      "id": "08c03129-0951-4605-b8b1-387049b0f52d",
      "metadata": {
        "id": "08c03129-0951-4605-b8b1-387049b0f52d"
      },
      "source": [
        "Te dejamos el [LINK](https://marketplace.visualstudio.com/items?itemName=ms-vscode-remote.vscode-remote-extensionpack) para que puedas revisar la documentación sobre esta herramienta."
      ]
    },
    {
      "cell_type": "markdown",
      "id": "caa2c966-e08f-4f27-a00a-06d5bce926dc",
      "metadata": {
        "id": "caa2c966-e08f-4f27-a00a-06d5bce926dc"
      },
      "source": [
        "**Docker**\n",
        "\n",
        "De la misma manera que es posible conectarse a otra computadora y trabajar sobre el código de forma remota, también es posible conectarse con un container de Docker y editar código que se encuentre allí.\n",
        "\n",
        "Para sacarle provecho a esta funcionalidad es necesario contar con conocimientos en Docker, por lo que no profundizaremos demasiado en esta clase. Para aquellos que quieran explorar esta funcionalidad, les recomendamos instalar la extensión Docker, también desarrollada por Microsoft."
      ]
    },
    {
      "cell_type": "markdown",
      "id": "c0a66795-7858-488e-8c0f-f9b970eac7be",
      "metadata": {
        "id": "c0a66795-7858-488e-8c0f-f9b970eac7be"
      },
      "source": [
        "![image](https://github.com/institutohumai/cursos-python/blob/master/PracticasDeDesarrollo/1_Desarrollo_I/imgs/32.png?raw=1)"
      ]
    },
    {
      "cell_type": "markdown",
      "id": "45e67bbf-8f2e-4410-85a5-65152f9b76ee",
      "metadata": {
        "id": "45e67bbf-8f2e-4410-85a5-65152f9b76ee"
      },
      "source": [
        "#### Git\n",
        "\n",
        "En esta sección asumiremos que ya conocen la forma de trabajar con Git.\n",
        "\n",
        "Hace un rato les pedimos instalamos la extensión Gitlens, que nos ayudará a visualizar de forma más amigable los cambios que tenga nuestro repositorio. Si lo deseamos, podemos ajustar algunos detalles de configuración de la extensión."
      ]
    },
    {
      "cell_type": "markdown",
      "id": "61955f5d-31ac-4bdd-af0f-de2fc8c741ed",
      "metadata": {
        "id": "61955f5d-31ac-4bdd-af0f-de2fc8c741ed"
      },
      "source": [
        "![image](https://github.com/institutohumai/cursos-python/blob/master/PracticasDeDesarrollo/1_Desarrollo_I/imgs/33.png?raw=1)"
      ]
    },
    {
      "cell_type": "markdown",
      "id": "07a1930e-8ac9-44a9-89ae-3d75e40b55da",
      "metadata": {
        "id": "07a1930e-8ac9-44a9-89ae-3d75e40b55da"
      },
      "source": [
        "Por ahora dejaremos todo por default y nos iremos a la pestaña de *Source Control* en la barra de actividad."
      ]
    },
    {
      "cell_type": "markdown",
      "id": "74f936b2-c35b-455b-9307-68d5236ad2dd",
      "metadata": {
        "id": "74f936b2-c35b-455b-9307-68d5236ad2dd"
      },
      "source": [
        "![image](https://github.com/institutohumai/cursos-python/blob/master/PracticasDeDesarrollo/1_Desarrollo_I/imgs/34.png?raw=1)"
      ]
    },
    {
      "cell_type": "markdown",
      "id": "f730a44e-d499-47fd-8452-dc0bdfcdf449",
      "metadata": {
        "id": "f730a44e-d499-47fd-8452-dc0bdfcdf449"
      },
      "source": [
        "A continuación vamos a crear una rama nueva, donde pushearemos nuestros cambios. Para ello, hacemos click en Branches y luego en el signo \"+\" para crear una rama nueva a partir de Master. La rama que creé se llama *feature/vs-code-test*."
      ]
    },
    {
      "cell_type": "markdown",
      "id": "f0093d1a-10b9-484d-b88a-befc593ea29c",
      "metadata": {
        "id": "f0093d1a-10b9-484d-b88a-befc593ea29c"
      },
      "source": [
        "![image](https://github.com/institutohumai/cursos-python/blob/master/PracticasDeDesarrollo/1_Desarrollo_I/imgs/35.png?raw=1)"
      ]
    },
    {
      "cell_type": "markdown",
      "id": "c2812606-f3ab-48d2-ae96-9e2c84cb25bc",
      "metadata": {
        "id": "c2812606-f3ab-48d2-ae96-9e2c84cb25bc"
      },
      "source": [
        "Luego hacemos click derecho sobre la rama y seleccionamos *Switch to branch*. De esta manera nos aseguramos que estamos trabajando sobre esta rama.\n",
        "\n",
        "Se observa cómo hemos realizado cambios en 2 archivos (calculate.py y Captcha_Generator.py). Si hacemos click en el signo \"+\" podemos stagear nuestro archivo. Sería el equivalente a hacer \"git add [nombre del archivo]\"."
      ]
    },
    {
      "cell_type": "markdown",
      "id": "bd671cf7-d656-4693-900b-2afe6e559c02",
      "metadata": {
        "id": "bd671cf7-d656-4693-900b-2afe6e559c02"
      },
      "source": [
        "![image](https://github.com/institutohumai/cursos-python/blob/master/PracticasDeDesarrollo/1_Desarrollo_I/imgs/36.png?raw=1)"
      ]
    },
    {
      "cell_type": "markdown",
      "id": "89a8b836-3de8-4a78-be99-9026d373b079",
      "metadata": {
        "id": "89a8b836-3de8-4a78-be99-9026d373b079"
      },
      "source": [
        "Una vez añadidos los archivos, podemos hacer el commit clickeando sobre el tilde. Esto es el equivalente a \"git commit -m 'mensaje'\". No podremos hacer el commit porque no tenemos permisos para editar este repo, pero te invitamos a que pruebes hacer esto con tus propios repos!\n",
        "\n",
        "Si hacemos click en COMMITS podremos ver los commits previos que tiene nuestra rama."
      ]
    },
    {
      "cell_type": "markdown",
      "id": "4f1ad325-d129-4cbf-b4ed-60714f102176",
      "metadata": {
        "id": "4f1ad325-d129-4cbf-b4ed-60714f102176"
      },
      "source": [
        "![image](https://github.com/institutohumai/cursos-python/blob/master/PracticasDeDesarrollo/1_Desarrollo_I/imgs/37.png?raw=1)"
      ]
    },
    {
      "cell_type": "markdown",
      "id": "ad05ba46-114b-4333-aea5-0497829e8fde",
      "metadata": {
        "id": "ad05ba46-114b-4333-aea5-0497829e8fde"
      },
      "source": [
        "Esto nos permite identificar puntualmente qué lineas de código se modificaron y en qué archivos."
      ]
    },
    {
      "cell_type": "markdown",
      "id": "7fc47490-d0e3-430c-a56f-d96b9b27bd76",
      "metadata": {
        "id": "7fc47490-d0e3-430c-a56f-d96b9b27bd76"
      },
      "source": [
        "![image](https://github.com/institutohumai/cursos-python/blob/master/PracticasDeDesarrollo/1_Desarrollo_I/imgs/38.png?raw=1)"
      ]
    },
    {
      "cell_type": "markdown",
      "id": "57b01e66-41c2-4bfe-b674-bc8e4abc6b48",
      "metadata": {
        "id": "57b01e66-41c2-4bfe-b674-bc8e4abc6b48"
      },
      "source": [
        "Todo lo anterior es útil para poder tracekar el avance de un repositorio y de un proyecto en general. La herramienta Gitlens cuenta aún con más funcionalidades interesantes. Les invitamos a que las vayan descubriendo a medida que *commiteen* sus avances :).\n",
        "\n",
        "Vale la pena recordar que todo lo anterior es posible ejecutarlo mediante código en la consola. VsCode no suma ninguna funcionalidad adicional a Git, simplemente nos provee de una interfaz más amigable."
      ]
    },
    {
      "cell_type": "markdown",
      "id": "adfde70f-8449-481b-96ee-1d16eb91c2eb",
      "metadata": {
        "tags": [],
        "id": "adfde70f-8449-481b-96ee-1d16eb91c2eb"
      },
      "source": [
        "# 3. Python ejecutable"
      ]
    },
    {
      "cell_type": "markdown",
      "id": "9f3c9d20-7967-4adf-bf4c-41742d44509a",
      "metadata": {
        "id": "9f3c9d20-7967-4adf-bf4c-41742d44509a"
      },
      "source": [
        "Seguramente hayas visto en algún código de internet o por ahí una expresión más o menos parecida a esta:"
      ]
    },
    {
      "cell_type": "code",
      "execution_count": null,
      "id": "396dbaab-0499-4c19-afb0-d48ccfee488e",
      "metadata": {
        "id": "396dbaab-0499-4c19-afb0-d48ccfee488e",
        "outputId": "80e50596-3d11-4a11-d738-f7eacfd8d8cc"
      },
      "outputs": [
        {
          "ename": "",
          "evalue": "",
          "output_type": "error",
          "traceback": [
            "\u001b[1;31mFailed to start the Kernel. \n",
            "Unhandled error. \n",
            "View Jupyter <a href='command:jupyter.viewOutput'>log</a> for further details."
          ]
        }
      ],
      "source": [
        "def saludo():\n",
        "    print(\"¡Hola! Aguante Python\")\n",
        "\n",
        "if __name__ == \"__main__\":\n",
        "    saludo()"
      ]
    },
    {
      "cell_type": "markdown",
      "id": "eaba9f0e-8b05-4f02-9b23-922b7b58f2c4",
      "metadata": {
        "id": "eaba9f0e-8b05-4f02-9b23-922b7b58f2c4"
      },
      "source": [
        "La primera parte es bastante clara: es una función sencilla que imprime algo a consola. Pero la segunda parte es la que tiene una de las cosas interesantes que tiene Python para ofrecernos.\n",
        "\n",
        "Esa definición condicional tiene el nombre técnico de *main guard* (pero en la práctica todo el mundo le dice \"if main\") y tiene una función muy interesante, que es permitirnos ejecutar código Python mediante el intérprete de consola (CLI).\n",
        "\n",
        "Para que quede súper explícito veámoslo en la práctica, haciendo uso de las funciones mágicas de Jupyter: vamos a usar el comando *writefile* que, como el nombre indica, escribe el contenido de la celda en un archivo."
      ]
    },
    {
      "cell_type": "code",
      "execution_count": null,
      "id": "a9d33180-f199-4906-8dd6-232a9256be0a",
      "metadata": {
        "id": "a9d33180-f199-4906-8dd6-232a9256be0a",
        "outputId": "d6f94ba0-042c-4f48-a022-e625f76d88a3"
      },
      "outputs": [
        {
          "ename": "",
          "evalue": "",
          "output_type": "error",
          "traceback": [
            "\u001b[1;31mFailed to start the Kernel. \n",
            "Unhandled error. \n",
            "View Jupyter <a href='command:jupyter.viewOutput'>log</a> for further details."
          ]
        }
      ],
      "source": [
        "%%writefile saludo.py\n",
        "def saludo():\n",
        "    print(\"¡Hola! Aguante Python\")\n",
        "\n",
        "if __name__ == \"__main__\":\n",
        "    saludo()"
      ]
    },
    {
      "cell_type": "markdown",
      "id": "a5190efc-11cd-48ba-8d8d-6b2cc1e09216",
      "metadata": {
        "id": "a5190efc-11cd-48ba-8d8d-6b2cc1e09216"
      },
      "source": [
        "Ahora tenemos este código de Python preparado para ser ejecutado mediante el intérprete de la consola. Para verlo en acción, vamos a recurrir a otro de los trucos de Jupyter que seguramente ya hayas visto: invocar Bash con el signo !."
      ]
    },
    {
      "cell_type": "code",
      "execution_count": null,
      "id": "26c9379d-1162-4d97-b812-3cab8070e4a4",
      "metadata": {
        "id": "26c9379d-1162-4d97-b812-3cab8070e4a4",
        "outputId": "23bc5767-8e78-43ff-ba01-0dddceaee42c"
      },
      "outputs": [
        {
          "ename": "",
          "evalue": "",
          "output_type": "error",
          "traceback": [
            "\u001b[1;31mFailed to start the Kernel. \n",
            "Unhandled error. \n",
            "View Jupyter <a href='command:jupyter.viewOutput'>log</a> for further details."
          ]
        }
      ],
      "source": [
        "!python3 saludo.py"
      ]
    },
    {
      "cell_type": "markdown",
      "id": "03eb578a-9b77-48f3-a714-05735b29cb86",
      "metadata": {
        "id": "03eb578a-9b77-48f3-a714-05735b29cb86"
      },
      "source": [
        "Lo que hicimos acá fue pedirle a Bash que interprete usando Python el archivo que acabamos de escribir, cosa que puede hacer porque tiene el main guard que le indica que tiene que correr una determinada función (saludo) desde el intérprete. ¿Qué pasa si no lo tiene?"
      ]
    },
    {
      "cell_type": "code",
      "execution_count": null,
      "id": "32e5c8a0-ccb8-44a4-9030-7f283f455d18",
      "metadata": {
        "id": "32e5c8a0-ccb8-44a4-9030-7f283f455d18",
        "outputId": "8a9ba754-def7-46c0-f67f-495e0d09659c"
      },
      "outputs": [
        {
          "ename": "",
          "evalue": "",
          "output_type": "error",
          "traceback": [
            "\u001b[1;31mFailed to start the Kernel. \n",
            "Unhandled error. \n",
            "View Jupyter <a href='command:jupyter.viewOutput'>log</a> for further details."
          ]
        }
      ],
      "source": [
        "%%writefile nope.py\n",
        "def saludo():\n",
        "    print(\"¡Hola! Aguante Python\")"
      ]
    },
    {
      "cell_type": "code",
      "execution_count": null,
      "id": "a5726de8-5d3f-4a9f-959a-6eb032173f5b",
      "metadata": {
        "id": "a5726de8-5d3f-4a9f-959a-6eb032173f5b",
        "outputId": "369b7e7d-154c-44fb-9fa0-a09c10b07768"
      },
      "outputs": [
        {
          "ename": "",
          "evalue": "",
          "output_type": "error",
          "traceback": [
            "\u001b[1;31mFailed to start the Kernel. \n",
            "Unhandled error. \n",
            "View Jupyter <a href='command:jupyter.viewOutput'>log</a> for further details."
          ]
        }
      ],
      "source": [
        "!python3 nope.py"
      ]
    },
    {
      "cell_type": "markdown",
      "id": "266846f8-e18d-458f-a40f-b0a6c1c9e3fb",
      "metadata": {
        "id": "266846f8-e18d-458f-a40f-b0a6c1c9e3fb"
      },
      "source": [
        "Esencialmente, no pasa nada: el intérprete leyó el código, pero como no tiene el main guard, no lo ejecuta."
      ]
    },
    {
      "cell_type": "markdown",
      "id": "a907b9f1-03da-4b73-b664-a1ce7e98a1f0",
      "metadata": {
        "id": "a907b9f1-03da-4b73-b664-a1ce7e98a1f0"
      },
      "source": [
        "## 3.1 La variable \\_\\_name\\_\\_"
      ]
    },
    {
      "cell_type": "markdown",
      "id": "cb096fc2-b6b7-4ef0-968c-c0d221c93b7c",
      "metadata": {
        "id": "cb096fc2-b6b7-4ef0-968c-c0d221c93b7c"
      },
      "source": [
        "La clave para que esto funcione está en una variable especial de Python, llamada **\\_\\_name\\_\\_**.\n",
        "\n",
        "- En caso de que el código que estamos corriendo sea ejecutado de forma principal, la variable \\_\\_name\\_\\_ tendrá el valor *main*.\n",
        "- Pero si el código que estamos corriendo **está siendo importado por parte de otro módulo**, la variable \\_\\_name\\_\\_ recibe el nombre de dicho módulo.\n",
        "\n",
        "En el caso del código que creamos (saludo.py), al ejecutarse en el main la variable \\_\\_name\\_\\_ toma ese nombre. El intérprete va leyendo línea por línea, y cuando llega al condicional, revisa cuál es el nombre de la variable \\_\\_name\\_\\_: dado que está en el main, ejecuta la función del saludo."
      ]
    },
    {
      "cell_type": "markdown",
      "id": "85adeecd-803f-4b25-9c84-5d44452ba08f",
      "metadata": {
        "id": "85adeecd-803f-4b25-9c84-5d44452ba08f"
      },
      "source": [
        "Parte de la idea del main guard también es poder controlar las ejecuciones y decidir qué hacer en función de cada situación. Veamos un ejemplo un poco más complejo:"
      ]
    },
    {
      "cell_type": "code",
      "execution_count": null,
      "id": "c60b9a1b-3f7f-4003-b943-8deaf9fbbe53",
      "metadata": {
        "id": "c60b9a1b-3f7f-4003-b943-8deaf9fbbe53",
        "outputId": "4dce1114-ae21-47e9-81a7-653de42bd6a6"
      },
      "outputs": [
        {
          "ename": "",
          "evalue": "",
          "output_type": "error",
          "traceback": [
            "\u001b[1;31mFailed to start the Kernel. \n",
            "Unhandled error. \n",
            "View Jupyter <a href='command:jupyter.viewOutput'>log</a> for further details."
          ]
        }
      ],
      "source": [
        "%%writefile etl.py\n",
        "from time import sleep\n",
        "\n",
        "print(\"¡Hola!\")\n",
        "\n",
        "def process_data(data:str):\n",
        "    print(\"Arrancando el procesamiento...\")\n",
        "    modified_data = \"Estoy haciendo un ETL con \" + data\n",
        "    sleep(3)\n",
        "    print(\"Lista la data.\")\n",
        "    return modified_data\n",
        "\n",
        "\n",
        "def main():\n",
        "    data = \"datos de la web\"\n",
        "    print(data)\n",
        "    modified_data = process_data(data)\n",
        "    print(modified_data)\n",
        "\n",
        "if __name__ == \"__main__\":\n",
        "    main()\n"
      ]
    },
    {
      "cell_type": "markdown",
      "id": "77226bb4-c1a6-4091-b615-54ba2e196010",
      "metadata": {
        "id": "77226bb4-c1a6-4091-b615-54ba2e196010"
      },
      "source": [
        "Si corremos este script de forma directa (es decir, con el CLI, desde bash) vamos a ejecutar sólo la parte del main:"
      ]
    },
    {
      "cell_type": "code",
      "execution_count": null,
      "id": "9db629a5-1a59-4977-8f6f-da64fbcd3a8b",
      "metadata": {
        "id": "9db629a5-1a59-4977-8f6f-da64fbcd3a8b",
        "outputId": "81fe7d7a-de75-47aa-b7de-530620b13afa"
      },
      "outputs": [
        {
          "ename": "",
          "evalue": "",
          "output_type": "error",
          "traceback": [
            "\u001b[1;31mFailed to start the Kernel. \n",
            "Unhandled error. \n",
            "View Jupyter <a href='command:jupyter.viewOutput'>log</a> for further details."
          ]
        }
      ],
      "source": [
        "!python3 etl.py"
      ]
    },
    {
      "cell_type": "markdown",
      "id": "d245f33c-9e57-4c01-b0cd-6b60eb7c86ef",
      "metadata": {
        "id": "d245f33c-9e57-4c01-b0cd-6b60eb7c86ef"
      },
      "source": [
        "Un detalle importante es que la función main está llamando a la función *process_data* que está definida dentro del mismo código.\n",
        "\n",
        "Por otro lado, si importamos el módulo, podemos tener acceso a la función *process_data* de forma independiente:"
      ]
    },
    {
      "cell_type": "code",
      "execution_count": null,
      "id": "676d6ff2-16f2-44bc-8dda-c1a145f4b2a0",
      "metadata": {
        "id": "676d6ff2-16f2-44bc-8dda-c1a145f4b2a0",
        "outputId": "3c13adaf-e5e8-452c-de0a-304324c72d30"
      },
      "outputs": [
        {
          "ename": "",
          "evalue": "",
          "output_type": "error",
          "traceback": [
            "\u001b[1;31mFailed to start the Kernel. \n",
            "Unhandled error. \n",
            "View Jupyter <a href='command:jupyter.viewOutput'>log</a> for further details."
          ]
        }
      ],
      "source": [
        "import etl as etl\n",
        "etl.process_data('una data re distinta')"
      ]
    },
    {
      "cell_type": "markdown",
      "id": "bdfafee1-ec67-49e0-8886-7edbcc591f9b",
      "metadata": {
        "id": "bdfafee1-ec67-49e0-8886-7edbcc591f9b"
      },
      "source": [
        "Un ejemplo un poquito más complejo aún:"
      ]
    },
    {
      "cell_type": "code",
      "execution_count": null,
      "id": "55871055-ef30-4c11-b674-efccbc6fd278",
      "metadata": {
        "id": "55871055-ef30-4c11-b674-efccbc6fd278",
        "outputId": "4362cbef-cf05-4d6b-a9b4-16b8fa716ada"
      },
      "outputs": [
        {
          "ename": "",
          "evalue": "",
          "output_type": "error",
          "traceback": [
            "\u001b[1;31mFailed to start the Kernel. \n",
            "Unhandled error. \n",
            "View Jupyter <a href='command:jupyter.viewOutput'>log</a> for further details."
          ]
        }
      ],
      "source": [
        "%%writefile etl2.py\n",
        "from time import sleep\n",
        "\n",
        "print(\"¡Hola!\")\n",
        "\n",
        "def process_data(data):\n",
        "    print(\"Arrancando el procesamiento...\")\n",
        "    modified_data = \"Estoy haciendo un ETL con \" + data\n",
        "    sleep(3)\n",
        "    print(\"Lista la data.\")\n",
        "    return modified_data\n",
        "\n",
        "def read_data_from_web():\n",
        "    print(\"Leyendo datos de la Web\")\n",
        "    data = \"Datos de la web\"\n",
        "    return data\n",
        "\n",
        "def write_data_to_database(data):\n",
        "    print(\"Escribiendo a una base de datos\")\n",
        "    print(data)\n",
        "\n",
        "def main():\n",
        "    data = read_data_from_web()\n",
        "    modified_data = process_data(data)\n",
        "    write_data_to_database(modified_data)\n",
        "    print('ETL completo')\n",
        "\n",
        "if __name__ == \"__main__\":\n",
        "    main()\n"
      ]
    },
    {
      "cell_type": "code",
      "execution_count": null,
      "id": "5891c919-885d-4733-af1f-4f3e6cb8bc58",
      "metadata": {
        "id": "5891c919-885d-4733-af1f-4f3e6cb8bc58",
        "outputId": "a8406843-bd3d-415b-dcd6-9325ded9270a"
      },
      "outputs": [
        {
          "ename": "",
          "evalue": "",
          "output_type": "error",
          "traceback": [
            "\u001b[1;31mFailed to start the Kernel. \n",
            "Unhandled error. \n",
            "View Jupyter <a href='command:jupyter.viewOutput'>log</a> for further details."
          ]
        }
      ],
      "source": [
        "!python3 etl2.py"
      ]
    },
    {
      "cell_type": "markdown",
      "id": "d7bab07e-523f-49de-9c15-481085272c59",
      "metadata": {
        "id": "d7bab07e-523f-49de-9c15-481085272c59"
      },
      "source": [
        "Algunas buenas prácticas y consejos:\n",
        "\n",
        "- Aunque *main* como nombre no tiene ningún significado especial, siempre es buena práctica ponerle ese nombre al punto de entrada de la función.\n",
        "- La variable \\_\\_name\\_\\_ puede tener varios nombres en función de dónde se esté importando el módulo, con lo que se puede ir monitoreando distintos puntos de ejecución y controlar qué pasa en cada escenario.\n",
        "- En la función main no debería haber nada más que invocaciones a las funciones: nada de ponerse a desarrollarlas adentro."
      ]
    },
    {
      "cell_type": "markdown",
      "id": "79b4b300-3e5b-4159-956f-5ad0ca540bb1",
      "metadata": {
        "id": "79b4b300-3e5b-4159-956f-5ad0ca540bb1"
      },
      "source": [
        "## 3.2. Parametrización del código"
      ]
    },
    {
      "cell_type": "markdown",
      "id": "031090b6-5c49-48d4-97a9-f64ce39ccced",
      "metadata": {
        "id": "031090b6-5c49-48d4-97a9-f64ce39ccced"
      },
      "source": [
        "Un paso muy importante para lograr un código prolijo y adaptable a múltiples situaciones es parametrizar el código. La idea es generar funciones o procesos cuyas variables podamos definir luego, de manera customizable. En su forma más elemental, no es más que esto:"
      ]
    },
    {
      "cell_type": "code",
      "execution_count": null,
      "id": "06c87f2b-a1b7-48d0-9425-834e046b3f86",
      "metadata": {
        "id": "06c87f2b-a1b7-48d0-9425-834e046b3f86",
        "outputId": "c8de58f2-5fee-4690-849b-d4cdecd95f90"
      },
      "outputs": [
        {
          "ename": "",
          "evalue": "",
          "output_type": "error",
          "traceback": [
            "\u001b[1;31mFailed to start the Kernel. \n",
            "Unhandled error. \n",
            "View Jupyter <a href='command:jupyter.viewOutput'>log</a> for further details."
          ]
        }
      ],
      "source": [
        "def me_llamo(nombre):\n",
        "    print('Hola, mi nombre es ' + nombre + ', un gusto :)')"
      ]
    },
    {
      "cell_type": "code",
      "execution_count": null,
      "id": "ffb35af2-5364-43cc-a336-cb4268efda6f",
      "metadata": {
        "id": "ffb35af2-5364-43cc-a336-cb4268efda6f",
        "outputId": "0417823d-6481-4ec0-cf24-5cac42ef8577"
      },
      "outputs": [
        {
          "ename": "",
          "evalue": "",
          "output_type": "error",
          "traceback": [
            "\u001b[1;31mFailed to start the Kernel. \n",
            "Unhandled error. \n",
            "View Jupyter <a href='command:jupyter.viewOutput'>log</a> for further details."
          ]
        }
      ],
      "source": [
        "me_llamo('Hernán')"
      ]
    },
    {
      "cell_type": "markdown",
      "id": "9e745807-6172-4b8d-a927-574d6974ea23",
      "metadata": {
        "id": "9e745807-6172-4b8d-a927-574d6974ea23"
      },
      "source": [
        "De poco serviría una función que sólo funcione bajo un cierto nombre, o inclusive que pueda tomar como parámetro un número (salvo que seas la hija de Elon Musk). Al momento de pensar nuestro código de una forma más profesional y prolija, tenemos que saber que situaciones como estas son totalmente posibles:"
      ]
    },
    {
      "cell_type": "code",
      "execution_count": null,
      "id": "ac2cb89f-d86e-4b79-a540-cb925460d7f6",
      "metadata": {
        "id": "ac2cb89f-d86e-4b79-a540-cb925460d7f6",
        "outputId": "411db227-32b1-4342-f646-29bf78bd8bb3"
      },
      "outputs": [
        {
          "ename": "",
          "evalue": "",
          "output_type": "error",
          "traceback": [
            "\u001b[1;31mFailed to start the Kernel. \n",
            "Unhandled error. \n",
            "View Jupyter <a href='command:jupyter.viewOutput'>log</a> for further details."
          ]
        }
      ],
      "source": [
        "def me_llamo(nombre, edad):\n",
        "    print('Hola, mi nombre es ' + nombre + ', un gusto :)')\n",
        "    print(f'Tengo {edad} años')"
      ]
    },
    {
      "cell_type": "code",
      "execution_count": null,
      "id": "9ee349bf-52a9-455e-a514-27e7f59dd6e4",
      "metadata": {
        "id": "9ee349bf-52a9-455e-a514-27e7f59dd6e4",
        "outputId": "5290a1d8-5352-4dc3-c8b0-45a9bf17d696"
      },
      "outputs": [
        {
          "ename": "",
          "evalue": "",
          "output_type": "error",
          "traceback": [
            "\u001b[1;31mFailed to start the Kernel. \n",
            "Unhandled error. \n",
            "View Jupyter <a href='command:jupyter.viewOutput'>log</a> for further details."
          ]
        }
      ],
      "source": [
        "me_llamo('Hernán', 'Escudero')"
      ]
    },
    {
      "cell_type": "markdown",
      "id": "0f78c6e2-2fdb-475b-8124-8e727ab8b14b",
      "metadata": {
        "id": "0f78c6e2-2fdb-475b-8124-8e727ab8b14b"
      },
      "source": [
        "Tenemos que encontrar una forma de poder pasarle argumentos a nuestras funciones cuando las corremos en CLI, y además, tenemos que forzar el tipo de las variables para evitar posibles malos usos.\n",
        "\n",
        "Acá es donde entran librerías como **click**, que proveen una serie de herramientas para hacerlo de forma sencilla:"
      ]
    },
    {
      "cell_type": "code",
      "execution_count": null,
      "id": "502987db-ba58-4105-be2b-020b83fcf6e1",
      "metadata": {
        "id": "502987db-ba58-4105-be2b-020b83fcf6e1",
        "outputId": "ce82b2ec-12c5-4a13-fa7b-2c80533ed4c4",
        "colab": {
          "base_uri": "https://localhost:8080/"
        }
      },
      "outputs": [
        {
          "output_type": "stream",
          "name": "stdout",
          "text": [
            "Overwriting saludador.py\n"
          ]
        }
      ],
      "source": [
        "%%writefile saludador.py\n",
        "import click\n",
        "\n",
        "@click.command()\n",
        "@click.option('--nombre', type=str, help='El nombre de la persona.')\n",
        "@click.option('--edad', type=int, default=1, help='La edad de la persona.')\n",
        "def me_llamo(nombre, edad):\n",
        "    \"\"\"Programa que arma una frase con nombre y edad.\"\"\"\n",
        "    click.echo(f\"Hola, mi nombre es {nombre}, un gusto :)\")\n",
        "    click.echo(f'Tengo {edad} años')\n",
        "\n",
        "if __name__ == '__main__':\n",
        "    me_llamo()"
      ]
    },
    {
      "cell_type": "code",
      "source": [
        "!python saludador.py --edad 32"
      ],
      "metadata": {
        "id": "qCaRredjHirY"
      },
      "id": "qCaRredjHirY",
      "execution_count": null,
      "outputs": []
    },
    {
      "cell_type": "code",
      "source": [
        "import click\n",
        "\n",
        "@click.command()\n",
        "@click.option('--nombre', type=str, help='El nombre de la persona.')\n",
        "@click.option('--edad', type=int, default=1, help='La edad de la persona.')\n",
        "def me_llamo(nombre, edad):\n",
        "    \"\"\"Programa que arma una frase con nombre y edad.\"\"\"\n",
        "    click.echo(f\"Hola, mi nombre es {nombre}, un gusto :)\")\n",
        "    click.echo(f'Tengo {edad} años')\n",
        "\n",
        "\n",
        "me_llamo('felipe', 'aguirre')"
      ],
      "metadata": {
        "colab": {
          "base_uri": "https://localhost:8080/"
        },
        "id": "7TlV_8r7G7sM",
        "outputId": "1313905b-f69a-4c0d-8b3f-9e4689b16679"
      },
      "id": "7TlV_8r7G7sM",
      "execution_count": null,
      "outputs": [
        {
          "output_type": "stream",
          "name": "stdout",
          "text": [
            "Hola, mi nombre es felipe, un gusto :)\n",
            "Tengo aguirre años\n"
          ]
        }
      ]
    },
    {
      "cell_type": "code",
      "source": [],
      "metadata": {
        "id": "RWLPvVhnHQWn"
      },
      "id": "RWLPvVhnHQWn",
      "execution_count": null,
      "outputs": []
    },
    {
      "cell_type": "code",
      "source": [
        "!aefgaegae"
      ],
      "metadata": {
        "id": "P2ZysbwkHMZO"
      },
      "id": "P2ZysbwkHMZO",
      "execution_count": null,
      "outputs": []
    },
    {
      "cell_type": "markdown",
      "id": "3eb5f2b0-c499-42a9-b23b-457b43767a7c",
      "metadata": {
        "id": "3eb5f2b0-c499-42a9-b23b-457b43767a7c"
      },
      "source": [
        "- Primero, notemos el import de click al principio.\n",
        "- El decorador command() esencialmente inicializa la espera de parámetros.\n",
        "- El decorador option() indica qué es lo que tiene que recibir la función, cuáles son los tipos y muchísimos otros parámetros. En este caso agregamos también la descripción (y ya van a ver para qué).\n",
        "- Vale la mención: con click es preferible usar *echo* en vez de *print* para imprimir en consola porque tiene de fondo algunos agregados para que funcione mejor en caso de potenciales errores."
      ]
    },
    {
      "cell_type": "markdown",
      "id": "dd205e88-2c45-4c5a-b388-86a24937d2ea",
      "metadata": {
        "id": "dd205e88-2c45-4c5a-b388-86a24937d2ea"
      },
      "source": [
        "Con esto listo, ahora podemos pasarle los parámetros a nuestra función como un flag más:"
      ]
    },
    {
      "cell_type": "code",
      "execution_count": null,
      "id": "24d075e6-c2eb-4b56-bb38-947ae6d83cf3",
      "metadata": {
        "id": "24d075e6-c2eb-4b56-bb38-947ae6d83cf3",
        "outputId": "1a4edfa8-5c6e-44b0-f247-68928313b594"
      },
      "outputs": [
        {
          "ename": "",
          "evalue": "",
          "output_type": "error",
          "traceback": [
            "\u001b[1;31mFailed to start the Kernel. \n",
            "Unhandled error. \n",
            "View Jupyter <a href='command:jupyter.viewOutput'>log</a> for further details."
          ]
        }
      ],
      "source": [
        "!python3 saludador.py --nombre=Hernán --edad=34"
      ]
    },
    {
      "cell_type": "markdown",
      "id": "a29dc412-9d36-46e4-ab07-1302884a9d3e",
      "metadata": {
        "id": "a29dc412-9d36-46e4-ab07-1302884a9d3e"
      },
      "source": [
        "... y con toda la cobertura en caso de errores involuntarios :)"
      ]
    },
    {
      "cell_type": "code",
      "execution_count": null,
      "id": "da862a8a-391f-4108-89a9-e677ad1aa20e",
      "metadata": {
        "id": "da862a8a-391f-4108-89a9-e677ad1aa20e",
        "outputId": "93dd59d9-655c-4850-a205-2abb0043be4c"
      },
      "outputs": [
        {
          "ename": "",
          "evalue": "",
          "output_type": "error",
          "traceback": [
            "\u001b[1;31mFailed to start the Kernel. \n",
            "Unhandled error. \n",
            "View Jupyter <a href='command:jupyter.viewOutput'>log</a> for further details."
          ]
        }
      ],
      "source": [
        "!python3 saludador.py --nombre=Hernán --edad=Escudero"
      ]
    },
    {
      "cell_type": "markdown",
      "id": "08a32183-58d7-4e84-ab00-1b7d30b94bf4",
      "metadata": {
        "id": "08a32183-58d7-4e84-ab00-1b7d30b94bf4"
      },
      "source": [
        "¿Y qué pasa si no entendemos por qué no funciona?"
      ]
    },
    {
      "cell_type": "code",
      "execution_count": null,
      "id": "c3e49ff5-e8f6-4439-b4ef-1b06d692cbf7",
      "metadata": {
        "id": "c3e49ff5-e8f6-4439-b4ef-1b06d692cbf7",
        "outputId": "8ac95f73-dc09-4c53-a22a-2265ef68726d"
      },
      "outputs": [
        {
          "ename": "",
          "evalue": "",
          "output_type": "error",
          "traceback": [
            "\u001b[1;31mFailed to start the Kernel. \n",
            "Unhandled error. \n",
            "View Jupyter <a href='command:jupyter.viewOutput'>log</a> for further details."
          ]
        }
      ],
      "source": [
        "!python3 saludador.py --help"
      ]
    },
    {
      "cell_type": "markdown",
      "id": "cb048191-e2b0-4ab3-a6b8-b93d8e52d745",
      "metadata": {
        "id": "cb048191-e2b0-4ab3-a6b8-b93d8e52d745"
      },
      "source": [
        "Ahora queda claro por qué utilizamos el \"help\" en la definición del parámetro. ¡Fijate cuán sencillo es tener un programa bien documentado!"
      ]
    },
    {
      "cell_type": "markdown",
      "id": "a9016959-c701-436e-9895-ee20f60f2d44",
      "metadata": {
        "id": "a9016959-c701-436e-9895-ee20f60f2d44"
      },
      "source": [
        "La configuración de estas parametrizaciones se puede poner tan compleja y/o elegante como querramos: de hecho, hasta podemos hacerlo de forma interactiva con el argumento *prompt*."
      ]
    },
    {
      "cell_type": "code",
      "execution_count": null,
      "id": "f8130d35-64c6-4765-8003-ef516a069dfa",
      "metadata": {
        "id": "f8130d35-64c6-4765-8003-ef516a069dfa",
        "outputId": "01582427-ddac-49f3-8e73-7d01a2fa1f64"
      },
      "outputs": [
        {
          "ename": "",
          "evalue": "",
          "output_type": "error",
          "traceback": [
            "\u001b[1;31mFailed to start the Kernel. \n",
            "Unhandled error. \n",
            "View Jupyter <a href='command:jupyter.viewOutput'>log</a> for further details."
          ]
        }
      ],
      "source": [
        "%%writefile saludador_interactivo.py\n",
        "import click\n",
        "\n",
        "@click.command()\n",
        "@click.option('--nombre', type=str, prompt='¿Cómo te llamás?',\n",
        "              help='El nombre de la persona.')\n",
        "@click.option('--edad', type=int, default=1, help='La edad de la persona.',\n",
        "              prompt='¿Cuántos años tenés?')\n",
        "def me_llamo(nombre, edad):\n",
        "    \"\"\"Programa que arma una frase con nombre y edad.\"\"\"\n",
        "    click.echo(f\"Hola, mi nombre es {nombre}, un gusto :)\")\n",
        "    click.echo(f'Tengo {edad} años')\n",
        "\n",
        "if __name__ == '__main__':\n",
        "    me_llamo()"
      ]
    },
    {
      "cell_type": "markdown",
      "id": "983bada2-515c-4fea-bcae-f00beb1dff03",
      "metadata": {
        "id": "983bada2-515c-4fea-bcae-f00beb1dff03"
      },
      "source": [
        "![image](https://github.com/institutohumai/cursos-python/blob/master/PracticasDeDesarrollo/1_Desarrollo_I/imgs/39.png?raw=1)"
      ]
    },
    {
      "cell_type": "markdown",
      "id": "e63b1541-d63e-4e9a-96e3-8faef4d22d0e",
      "metadata": {
        "id": "e63b1541-d63e-4e9a-96e3-8faef4d22d0e"
      },
      "source": [
        "Como último detalle, vale la pena mencionar que de forma nativa, Python cuenta con la librería *argparse*, que es también muy buena, pero Click tiene dos ventajas:\n",
        "\n",
        "- El uso de los decoradores al inicio lo hace un poco más sencillo de entender a primera vista.\n",
        "- Click está un poco mejor enfocado en preparar una documentación abreviada y sencilla de forma automática."
      ]
    },
    {
      "cell_type": "markdown",
      "id": "c1afe3bc-7aad-4a41-8b73-4042b2e70bf1",
      "metadata": {
        "id": "c1afe3bc-7aad-4a41-8b73-4042b2e70bf1"
      },
      "source": [
        "## 3.3. Cron"
      ]
    },
    {
      "cell_type": "markdown",
      "id": "7af5e72c-2ea9-421a-a20c-32e9857c9c1e",
      "metadata": {
        "id": "7af5e72c-2ea9-421a-a20c-32e9857c9c1e"
      },
      "source": [
        "Otra de las cosas interesantes que podemos hacer con Python es programar las ejecuciones del código: la idea con esto es evitar tener que correr los programas a mano y de forma repetitiva, logrando automatizar algunas de las partes del proceso.\n",
        "\n",
        "Seguramente también hayas escuchado *cronear* un programa: a esto nos referimos cuando queremos setear la ejecución de un código de forma recurrente.\n",
        "\n",
        "- \"Una vez por hora\"\n",
        "- \"Todos los domingos a las 4 AM\"\n",
        "- \"Sólo los días de la semana, una vez cada 12 horas\"\n",
        "\n",
        "Las combinaciones son infinitas. ¿Se te ocurren casos para cada uno de estos ejemplos?"
      ]
    },
    {
      "cell_type": "markdown",
      "id": "d809025c-51ed-447c-b5d8-38b2b52cc529",
      "metadata": {
        "id": "d809025c-51ed-447c-b5d8-38b2b52cc529"
      },
      "source": [
        "Veamos un ejemplo concreto. Supongamos que somos parte de un grupo de cripto trading y nos encargan armar un programa para recopilar la evolución de los precios del bitcoin (BTC) y el ethereum (ETH)."
      ]
    },
    {
      "cell_type": "markdown",
      "id": "b4847bc8-83e9-4acf-873e-ea95fd44f078",
      "metadata": {
        "id": "b4847bc8-83e9-4acf-873e-ea95fd44f078"
      },
      "source": [
        "![image](https://github.com/institutohumai/cursos-python/blob/master/PracticasDeDesarrollo/1_Desarrollo_I/imgs/40.png?raw=1)"
      ]
    },
    {
      "cell_type": "markdown",
      "id": "84331ec4-0b43-4bea-98d6-30dfecc0fbc7",
      "metadata": {
        "id": "84331ec4-0b43-4bea-98d6-30dfecc0fbc7"
      },
      "source": [
        "Por suerte, sabemos que existen APIs que permiten monitorear estas cosas en tiempo real y de sencillo acceso, así que ponemos manos a la obra:"
      ]
    },
    {
      "cell_type": "code",
      "execution_count": null,
      "id": "6a78bc96-7ef3-4da5-8621-1f53ca6f627b",
      "metadata": {
        "id": "6a78bc96-7ef3-4da5-8621-1f53ca6f627b",
        "outputId": "fd6b8269-1e2e-497f-d932-0387f49f5658"
      },
      "outputs": [
        {
          "ename": "",
          "evalue": "",
          "output_type": "error",
          "traceback": [
            "\u001b[1;31mFailed to start the Kernel. \n",
            "Unhandled error. \n",
            "View Jupyter <a href='command:jupyter.viewOutput'>log</a> for further details."
          ]
        }
      ],
      "source": [
        "%%writefile crypto_price.py\n",
        "import os\n",
        "import json\n",
        "import requests\n",
        "import pandas as pd\n",
        "from datetime import datetime\n",
        "\n",
        "# tenemos que hacer dos funciones: una para recibir el btc y otra para recibir el eth\n",
        "def btc_price():\n",
        "    # el endpoint de la API que compara BTC y dólar\n",
        "    key = \"https://api.binance.com/api/v3/ticker/price?symbol=BTCUSDT\"\n",
        "\n",
        "    # pedimos la data, la transformamos a dataframe y la devolvemos\n",
        "    data = requests.get(key)\n",
        "    data = data.json()\n",
        "    btc = pd.DataFrame([data])\n",
        "    return btc\n",
        "\n",
        "def eth_price():\n",
        "    # el endpoint de la API que compara ETH y dólar\n",
        "    key = \"https://api.binance.com/api/v3/ticker/price?symbol=ETHUSDT\"\n",
        "\n",
        "    data = requests.get(key)\n",
        "    data = data.json()\n",
        "    eth = pd.DataFrame([data])\n",
        "    return eth\n",
        "\n",
        "def main():\n",
        "    # armamos una carpeta para almacenar todo, si no existe la crea\n",
        "    path = 'crypto_prices'\n",
        "    os.makedirs(path, exist_ok=True)\n",
        "\n",
        "    # al momento de ejecutar esto en consola pedimos los precios de ambas monedas\n",
        "    btc = btc_price()\n",
        "    eth = eth_price()\n",
        "\n",
        "    # las unimos\n",
        "    price = pd.concat([btc, eth])\n",
        "\n",
        "    # identificamos a nivel de segundo cuándo hicimos el request para pegar en el dataframe\n",
        "    TIMESTAMP = datetime.now().strftime(\"%Y%m%d%H%M%S\")\n",
        "    price['timestamp'] = TIMESTAMP\n",
        "\n",
        "    # armamos el nombre del archivo usando el path con la carpeta que creamos y el timestamp\n",
        "    FILENAME = f'{path}/prices_{TIMESTAMP}.csv'\n",
        "    price.to_csv(FILENAME)\n",
        "    print(f'Data exportada a {FILENAME}')\n",
        "\n",
        "if __name__ == '__main__':\n",
        "    main()"
      ]
    },
    {
      "cell_type": "markdown",
      "id": "e353c265-b1c0-4326-8287-e20cd973dd78",
      "metadata": {
        "id": "e353c265-b1c0-4326-8287-e20cd973dd78"
      },
      "source": [
        "Veamos qué tenemos hasta ahora:"
      ]
    },
    {
      "cell_type": "code",
      "execution_count": null,
      "id": "cf71ff33-3932-4156-8905-cbf9f4c2a4b6",
      "metadata": {
        "id": "cf71ff33-3932-4156-8905-cbf9f4c2a4b6",
        "outputId": "568d3a6f-37d5-4f01-ae9a-ebdcb3727300"
      },
      "outputs": [
        {
          "ename": "",
          "evalue": "",
          "output_type": "error",
          "traceback": [
            "\u001b[1;31mFailed to start the Kernel. \n",
            "Unhandled error. \n",
            "View Jupyter <a href='command:jupyter.viewOutput'>log</a> for further details."
          ]
        }
      ],
      "source": [
        "!ls"
      ]
    },
    {
      "cell_type": "markdown",
      "id": "aa0ee895-49bd-47d0-beaf-0c9524285a00",
      "metadata": {
        "id": "aa0ee895-49bd-47d0-beaf-0c9524285a00"
      },
      "source": [
        "Ejecutemos el código:"
      ]
    },
    {
      "cell_type": "code",
      "execution_count": null,
      "id": "386994f2-3bae-48b8-901e-300d325b157a",
      "metadata": {
        "id": "386994f2-3bae-48b8-901e-300d325b157a",
        "outputId": "7e70648e-0645-45a4-88d1-24f0a91e25f3"
      },
      "outputs": [
        {
          "ename": "",
          "evalue": "",
          "output_type": "error",
          "traceback": [
            "\u001b[1;31mFailed to start the Kernel. \n",
            "Unhandled error. \n",
            "View Jupyter <a href='command:jupyter.viewOutput'>log</a> for further details."
          ]
        }
      ],
      "source": [
        "!python3 crypto_price.py"
      ]
    },
    {
      "cell_type": "markdown",
      "id": "bb6ea94a-cd39-43d9-9ada-28cecf0f4ccc",
      "metadata": {
        "id": "bb6ea94a-cd39-43d9-9ada-28cecf0f4ccc"
      },
      "source": [
        "¿Funcionó?"
      ]
    },
    {
      "cell_type": "code",
      "execution_count": null,
      "id": "fabd0a68-851f-463d-96d7-e37eee8eda6a",
      "metadata": {
        "id": "fabd0a68-851f-463d-96d7-e37eee8eda6a",
        "outputId": "d30514a5-72c6-4e2d-ba55-b1e8e48757ab"
      },
      "outputs": [
        {
          "ename": "",
          "evalue": "",
          "output_type": "error",
          "traceback": [
            "\u001b[1;31mFailed to start the Kernel. \n",
            "Unhandled error. \n",
            "View Jupyter <a href='command:jupyter.viewOutput'>log</a> for further details."
          ]
        }
      ],
      "source": [
        "pd.read_csv('crypto_prices/prices_20220630174306.csv')"
      ]
    },
    {
      "cell_type": "markdown",
      "id": "d6e7d04e-d008-4e4f-a239-8d080914afd3",
      "metadata": {
        "id": "d6e7d04e-d008-4e4f-a239-8d080914afd3"
      },
      "source": [
        "Lo corremos una vez más:"
      ]
    },
    {
      "cell_type": "code",
      "execution_count": null,
      "id": "96de5367-56b7-4374-8113-95bf30a0487f",
      "metadata": {
        "id": "96de5367-56b7-4374-8113-95bf30a0487f",
        "outputId": "59ecc676-762c-434a-9db4-5a408b7e9efe"
      },
      "outputs": [
        {
          "ename": "",
          "evalue": "",
          "output_type": "error",
          "traceback": [
            "\u001b[1;31mFailed to start the Kernel. \n",
            "Unhandled error. \n",
            "View Jupyter <a href='command:jupyter.viewOutput'>log</a> for further details."
          ]
        }
      ],
      "source": [
        "!python3 crypto_price.py"
      ]
    },
    {
      "cell_type": "code",
      "execution_count": null,
      "id": "edc3d5c6-4e52-480d-9330-7bee9d73b011",
      "metadata": {
        "id": "edc3d5c6-4e52-480d-9330-7bee9d73b011",
        "outputId": "bc59efde-c06a-4dfd-c0dc-a63f170add90"
      },
      "outputs": [
        {
          "ename": "",
          "evalue": "",
          "output_type": "error",
          "traceback": [
            "\u001b[1;31mFailed to start the Kernel. \n",
            "Unhandled error. \n",
            "View Jupyter <a href='command:jupyter.viewOutput'>log</a> for further details."
          ]
        }
      ],
      "source": [
        "!ls crypto_prices/"
      ]
    },
    {
      "cell_type": "markdown",
      "id": "d8c9e541-3d2b-4145-a362-2b8766f0e63b",
      "metadata": {
        "id": "d8c9e541-3d2b-4145-a362-2b8766f0e63b"
      },
      "source": [
        "Ya sabemos que el código funciona, pero ahora tenemos que automatizarlo. Para eso vamos a usar **crontab**, pero desde la consola. Vamos a usar tres cosas:\n",
        "\n",
        "- La periodicidad en expresión cron. En nuestro caso vamos a hacerlo que corra sólo los días de la semana: obviamente que no tiene sentido para el caso, pero es para que puedan ver cómo se modifican algunos valores.\n",
        "- El path a la versión de Python que estamos usando.\n",
        "- El path al script que tiene que correr."
      ]
    },
    {
      "cell_type": "markdown",
      "id": "970d1ddb-4bd7-43e3-b74c-0bb71a5ecc98",
      "metadata": {
        "id": "970d1ddb-4bd7-43e3-b74c-0bb71a5ecc98"
      },
      "source": [
        "### Expresión en Cron"
      ]
    },
    {
      "cell_type": "markdown",
      "id": "706a0cc6-4ecf-4210-87c3-c54093e24890",
      "metadata": {
        "id": "706a0cc6-4ecf-4210-87c3-c54093e24890"
      },
      "source": [
        "[Acá te dejo](https://crontab.guru/) una página que te puede ser útil para armar las expresiones (al menos para mí lo es!).\n",
        "\n",
        "![image](https://github.com/institutohumai/cursos-python/blob/master/PracticasDeDesarrollo/1_Desarrollo_I/imgs/41.png?raw=1)"
      ]
    },
    {
      "cell_type": "markdown",
      "id": "2b386462-8430-4a01-a039-4e8bdc871e00",
      "metadata": {
        "id": "2b386462-8430-4a01-a039-4e8bdc871e00"
      },
      "source": [
        "### Versión de Python"
      ]
    },
    {
      "cell_type": "markdown",
      "id": "2f258241-d89d-4809-8fc9-ba8a4c0db608",
      "metadata": {
        "id": "2f258241-d89d-4809-8fc9-ba8a4c0db608"
      },
      "source": [
        "Con este comando de bash podemos ver dónde está la versión de Python que usamos:"
      ]
    },
    {
      "cell_type": "code",
      "execution_count": null,
      "id": "7f6ab04b-d0e3-4351-a8ec-3cf581c2e54b",
      "metadata": {
        "id": "7f6ab04b-d0e3-4351-a8ec-3cf581c2e54b",
        "outputId": "f8d5ea85-df0f-4d9c-bedc-5602b3fc27fb"
      },
      "outputs": [
        {
          "ename": "",
          "evalue": "",
          "output_type": "error",
          "traceback": [
            "\u001b[1;31mFailed to start the Kernel. \n",
            "Unhandled error. \n",
            "View Jupyter <a href='command:jupyter.viewOutput'>log</a> for further details."
          ]
        }
      ],
      "source": [
        "!which python3"
      ]
    },
    {
      "cell_type": "markdown",
      "id": "364b57c3-beb4-4d1c-a826-1adc67de35e6",
      "metadata": {
        "id": "364b57c3-beb4-4d1c-a826-1adc67de35e6"
      },
      "source": [
        "Esto es un pequeño spoiler de la próxima clase, pero estoy trabajando dentro de un **virtual environment** para evitar que las dependencias colisionen en los distintos proyectos que tengo."
      ]
    },
    {
      "cell_type": "markdown",
      "id": "8e01b27c-b5aa-4551-891d-53f98160f7b5",
      "metadata": {
        "id": "8e01b27c-b5aa-4551-891d-53f98160f7b5"
      },
      "source": [
        "### Path actual"
      ]
    },
    {
      "cell_type": "markdown",
      "id": "56bb6cb2-053b-45ee-9a3b-4c9cf322bf85",
      "metadata": {
        "id": "56bb6cb2-053b-45ee-9a3b-4c9cf322bf85"
      },
      "source": [
        "Recordemos este comando de bash:"
      ]
    },
    {
      "cell_type": "code",
      "execution_count": null,
      "id": "8621e5a3-1bcd-4d0a-97b4-49c3542909f0",
      "metadata": {
        "id": "8621e5a3-1bcd-4d0a-97b4-49c3542909f0",
        "outputId": "eb52f67a-a117-4c5c-92a4-280312816a0d"
      },
      "outputs": [
        {
          "ename": "",
          "evalue": "",
          "output_type": "error",
          "traceback": [
            "\u001b[1;31mFailed to start the Kernel. \n",
            "Unhandled error. \n",
            "View Jupyter <a href='command:jupyter.viewOutput'>log</a> for further details."
          ]
        }
      ],
      "source": [
        "!pwd"
      ]
    },
    {
      "cell_type": "markdown",
      "id": "6b839d0c-70fb-4435-88bc-e71cc3b52e0b",
      "metadata": {
        "id": "6b839d0c-70fb-4435-88bc-e71cc3b52e0b"
      },
      "source": [
        "### Ensamblar todo"
      ]
    },
    {
      "cell_type": "markdown",
      "id": "5112a164-c1b2-48fd-9f93-cd935b3283d1",
      "metadata": {
        "id": "5112a164-c1b2-48fd-9f93-cd935b3283d1"
      },
      "source": [
        "Un detalle importante es que por default, crontab corre a nivel de home. Si recordamos, nuestro script crea una carpeta llamada \"crypto_prices\". Así está el home ahora:"
      ]
    },
    {
      "cell_type": "markdown",
      "id": "ebeec4be-1ff1-4a2d-a19d-c132c5660fc0",
      "metadata": {
        "id": "ebeec4be-1ff1-4a2d-a19d-c132c5660fc0"
      },
      "source": [
        "![image](https://github.com/institutohumai/cursos-python/blob/master/PracticasDeDesarrollo/1_Desarrollo_I/imgs/42.png?raw=1)"
      ]
    },
    {
      "cell_type": "markdown",
      "id": "e15d5d9b-0526-49d7-93ce-2a09aec53fe2",
      "metadata": {
        "id": "e15d5d9b-0526-49d7-93ce-2a09aec53fe2"
      },
      "source": [
        "Ahora sí, desde la consola, vamos a crear nuestro cron scheduler, con el comando `crontab -e`. La primera vez nos va a preguntar con qué editor de texto queremos trabajar, yo elijo el 1:"
      ]
    },
    {
      "cell_type": "markdown",
      "id": "3a04ef20-58fd-48a3-b79d-02ec846f71d0",
      "metadata": {
        "id": "3a04ef20-58fd-48a3-b79d-02ec846f71d0"
      },
      "source": [
        "![image](https://github.com/institutohumai/cursos-python/blob/master/PracticasDeDesarrollo/1_Desarrollo_I/imgs/43.png?raw=1)"
      ]
    },
    {
      "cell_type": "markdown",
      "id": "996e989b-dd8b-4687-9159-1794f62b54b4",
      "metadata": {
        "id": "996e989b-dd8b-4687-9159-1794f62b54b4"
      },
      "source": [
        "Una vez hecho eso, te abre directo el scheduler. Abajo del readme está la configuración para mi ejecución, en el orden requerido:\n",
        "- La definición del cron: (* * * * 1-5)\n",
        "- El path a mi Python\n",
        "- El path al archivo."
      ]
    },
    {
      "cell_type": "markdown",
      "id": "8892ca56-44d3-4348-b20f-b3758b74d441",
      "metadata": {
        "id": "8892ca56-44d3-4348-b20f-b3758b74d441"
      },
      "source": [
        "![image](https://github.com/institutohumai/cursos-python/blob/master/PracticasDeDesarrollo/1_Desarrollo_I/imgs/44.png?raw=1)"
      ]
    },
    {
      "cell_type": "markdown",
      "id": "df680f71-bd1d-45ab-b843-3d7bad4c4840",
      "metadata": {
        "id": "df680f71-bd1d-45ab-b843-3d7bad4c4840"
      },
      "source": [
        "Con eso listo, guardamos y cerramos el archivo de texto.\n"
      ]
    },
    {
      "cell_type": "markdown",
      "id": "43e7b286-30fe-44b6-bdd1-a67f8eb9e582",
      "metadata": {
        "id": "43e7b286-30fe-44b6-bdd1-a67f8eb9e582"
      },
      "source": [
        "Esperamos unos minutos y..."
      ]
    },
    {
      "cell_type": "markdown",
      "id": "05ea8475-f617-4c44-a597-6d2332fcd674",
      "metadata": {
        "id": "05ea8475-f617-4c44-a597-6d2332fcd674"
      },
      "source": [
        "![image](https://github.com/institutohumai/cursos-python/blob/master/PracticasDeDesarrollo/1_Desarrollo_I/imgs/45.png?raw=1)"
      ]
    },
    {
      "cell_type": "markdown",
      "id": "f1e8b0e0-8999-4342-a3d4-335cb1c33e9c",
      "metadata": {
        "id": "f1e8b0e0-8999-4342-a3d4-335cb1c33e9c"
      },
      "source": [
        "¡Ya tenemos la automatización lista! :)\n",
        "\n",
        "Eso sí, para cerrar, no te olvides de apagar la ejecución porque esto va a seguir prendido de forma indefinida. Para eso, tenés que volver a correr `crontab -e` y comentar la línea que acabamos de armar.\n",
        "\n",
        "La idea es que desde este mismo scheduler podés programar todos los códigos que quieras."
      ]
    }
  ],
  "metadata": {
    "kernelspec": {
      "display_name": "Python 3.8.8 ('base')",
      "language": "python",
      "name": "python3"
    },
    "language_info": {
      "codemirror_mode": {
        "name": "ipython",
        "version": 3
      },
      "file_extension": ".py",
      "mimetype": "text/x-python",
      "name": "python",
      "nbconvert_exporter": "python",
      "pygments_lexer": "ipython3",
      "version": "3.8.8"
    },
    "vscode": {
      "interpreter": {
        "hash": "988c801e8fa6188d3e53012a7256361dd6100dad47899d4700f624e035bcb20b"
      }
    },
    "colab": {
      "provenance": [],
      "include_colab_link": true
    }
  },
  "nbformat": 4,
  "nbformat_minor": 5
}