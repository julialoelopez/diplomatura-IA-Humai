{
  "cells": [
    {
      "cell_type": "markdown",
      "metadata": {
        "id": "view-in-github",
        "colab_type": "text"
      },
      "source": [
        "<a href=\"https://colab.research.google.com/github/julialoelopez/diplomatura-IA-Humai/blob/main/0%20-%20Introduccion%20a%20Python/6%20-%20POO/ejercicio.ipynb\" target=\"_parent\"><img src=\"https://colab.research.google.com/assets/colab-badge.svg\" alt=\"Open In Colab\"/></a>"
      ]
    },
    {
      "cell_type": "markdown",
      "metadata": {
        "id": "nXNVLMsitOJB"
      },
      "source": [
        "<a href=\"https://colab.research.google.com/github/institutohumai/cursos-python/blob/master/Introduccion/4_Intro_Poo/ejercicio/ejercicio.ipynb\"> <img src='https://colab.research.google.com/assets/colab-badge.svg' /> </a>\n",
        "<div align=\"center\"> Recordá abrir en una nueva pestaña </div>"
      ]
    },
    {
      "cell_type": "markdown",
      "metadata": {
        "id": "ysmOiR2mtOJE"
      },
      "source": [
        "# Ejercicios POO IV\n",
        "\n",
        "## Programación orientada a objetos\n",
        "\n",
        "En este ejercicio vamos a programar un carrito de compras.\n",
        "\n",
        "Para esto vamos a escribir dos clases: Carrito e Item.\n",
        "\n",
        "El ítem va a tener como propiedades un nombre, un precio y una url de la imágen que lo representa. Por default, la url se inicializa en blanco.\n",
        "\n",
        "El Carrito tiene como propiedad una lista de diccionarios, la variable _lineas.\n",
        "\n",
        "Los carritos se inicializan vacíos y luego se agregan líneas utilizando el método agregar_línea(). Cada línea es un diccionario con dos claves: \"ítem\" que contiene un objeto de tipo ítem y \"cantidad\" según la cantidad que queremos agregar al carrito.\n",
        "\n",
        "Por último los carritos tienen un método get_total() que devuelve la suma de los precios de los ítems, multiplicados por las cantidades que hay en cada línea."
      ]
    },
    {
      "cell_type": "code",
      "execution_count": 6,
      "metadata": {
        "id": "EMjTx_QmtOJF"
      },
      "outputs": [],
      "source": [
        "# Clase Item\n",
        "class Item:\n",
        "  def __init__(self, nombre, precio, imagen = None):\n",
        "    self._nombre = nombre\n",
        "    self._precio = precio\n",
        "    if imagen == None:\n",
        "      self._imagen = ''\n",
        "    else:\n",
        "      self._imagen = imagen\n",
        "\n",
        "\n",
        "\n"
      ]
    },
    {
      "cell_type": "code",
      "execution_count": 7,
      "metadata": {
        "id": "tI5vk-tDtOJG"
      },
      "outputs": [],
      "source": [
        "# Crear los ítems banana de $49.5 y yoghurt de $32.5\n",
        "\n",
        "banana = Item('Banana', 49.5, 'URLdeimagen.com')\n",
        "yoghurt = Item('Yoghurt', 32.5, 'Urldeotraimagen.com')"
      ]
    },
    {
      "cell_type": "code",
      "execution_count": 22,
      "metadata": {
        "id": "Yb0XaAAZtOJH"
      },
      "outputs": [],
      "source": [
        "# Crear la clase Carrito\n",
        "\n",
        "class Carrito:\n",
        "  def __init__(self):\n",
        "    self._lineas = []\n",
        "\n",
        "  def agregar_linea(self, item : Item, cantidad = 1):\n",
        "    linea = {'item': item, 'cantidad': cantidad}\n",
        "    self._lineas.append(linea)\n",
        "\n",
        "  def get_total(self):\n",
        "    total = 0\n",
        "    for linea in self._lineas:\n",
        "      subtotalItem = linea['item']._precio * linea['cantidad']\n",
        "      total += subtotalItem\n",
        "    return total\n",
        "\n",
        "\n",
        "\n"
      ]
    },
    {
      "cell_type": "markdown",
      "metadata": {
        "id": "pt_bLMYhtOJH"
      },
      "source": [
        "Ahora vamos a instanciar el carrito y agregarle una \"línea\" con dos bananas y otra con tres yoghures."
      ]
    },
    {
      "cell_type": "code",
      "execution_count": 23,
      "metadata": {
        "id": "gi0mO7QGtOJH"
      },
      "outputs": [],
      "source": [
        "# Instancias el carrito\n",
        "car1 = Carrito()"
      ]
    },
    {
      "cell_type": "code",
      "execution_count": 24,
      "metadata": {
        "id": "CC2NjPO7tOJI"
      },
      "outputs": [],
      "source": [
        "# Agregar bananas y yogures\n",
        "car1.agregar_linea(banana, 2)\n",
        "car1.agregar_linea(yoghurt,3)"
      ]
    },
    {
      "cell_type": "code",
      "execution_count": 25,
      "metadata": {
        "id": "XtrwBpTXtOJI",
        "colab": {
          "base_uri": "https://localhost:8080/"
        },
        "outputId": "a8267fd0-71db-489a-9f6b-c2ff53353f8a"
      },
      "outputs": [
        {
          "output_type": "stream",
          "name": "stdout",
          "text": [
            "196.5\n"
          ]
        }
      ],
      "source": [
        "# Obtener el total\n",
        "print(car1.get_total())"
      ]
    },
    {
      "cell_type": "markdown",
      "metadata": {
        "id": "d14ivmjYtOJJ"
      },
      "source": [
        "## Ejercicio II\n",
        "\n",
        "Ahora vamos a crear dos clases. Primero una clase Réctangulo con los métodos area y base. Y luego una clase más específica que sea la Clase Cuadrado que herede los métodos de la clase Rectángulo.\n",
        "\n",
        "Una vez logrado esto vamos a crear una Tercera clase llamada Cubo cuya clase base va a responder a Cuadrado. En esta clase vas a agregar un método que sea volumen utilizando el método Área de su clase base o madre."
      ]
    },
    {
      "cell_type": "code",
      "execution_count": null,
      "metadata": {
        "id": "AqsiSfYEtOJJ"
      },
      "outputs": [],
      "source": [
        "\n"
      ]
    }
  ],
  "metadata": {
    "kernelspec": {
      "display_name": "conda_python3",
      "language": "python",
      "name": "conda_python3"
    },
    "language_info": {
      "codemirror_mode": {
        "name": "ipython",
        "version": 3
      },
      "file_extension": ".py",
      "mimetype": "text/x-python",
      "name": "python",
      "nbconvert_exporter": "python",
      "pygments_lexer": "ipython3",
      "version": "3.6.10"
    },
    "colab": {
      "provenance": [],
      "include_colab_link": true
    }
  },
  "nbformat": 4,
  "nbformat_minor": 0
}