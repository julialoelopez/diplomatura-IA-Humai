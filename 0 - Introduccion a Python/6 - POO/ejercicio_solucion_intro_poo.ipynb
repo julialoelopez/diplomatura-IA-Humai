{
  "cells": [
    {
      "cell_type": "markdown",
      "metadata": {
        "id": "view-in-github",
        "colab_type": "text"
      },
      "source": [
        "<a href=\"https://colab.research.google.com/github/julialoelopez/diplomatura-IA-Humai/blob/main/0%20-%20Introduccion%20a%20Python/6%20-%20POO/ejercicio_solucion_intro_poo.ipynb\" target=\"_parent\"><img src=\"https://colab.research.google.com/assets/colab-badge.svg\" alt=\"Open In Colab\"/></a>"
      ]
    },
    {
      "cell_type": "markdown",
      "metadata": {
        "id": "d1ADLFMetOuV"
      },
      "source": [
        "<a href=\"https://colab.research.google.com/github/institutohumai/cursos-python/blob/master/Introduccion/4_Intro_Poo/ejercicio/ejercicio-solucion.ipynb\"> <img src='https://colab.research.google.com/assets/colab-badge.svg' /> </a>\n",
        "<div align=\"center\"> Recordá abrir en una nueva pestaña </div>"
      ]
    },
    {
      "cell_type": "markdown",
      "metadata": {
        "id": "hhM4c_tKtOuX"
      },
      "source": [
        "## Programación orientada a objetos\n",
        "\n",
        "En este ejercicio vamos a programar un carrito de compras.\n",
        "\n",
        "Para esto vamos a escribir dos clases: Carrito e Item.\n",
        "\n",
        "El ítem va a tener como propiedades un nombre, un precio y una url de la imágen que lo representa. Por default, la url se inicializa en blanco.\n",
        "\n",
        "El Carrito tiene como propiedad una lista de diccionarios, la variable _lineas.\n",
        "\n",
        "Los carritos se inicializan vacíos y luego se agregan líneas utilizando el método agregar_línea(). Cada línea es un diccionario con dos claves: \"ítem\" que contiene un objeto de tipo ítem y \"cantidad\" según la cantidad que queremos agregar al carrito.\n",
        "\n",
        "Por último los carritos tienen un método get_total() que devuelve la suma de los precios de los ítems, multiplicados por las cantidades que hay en cada línea."
      ]
    },
    {
      "cell_type": "code",
      "execution_count": null,
      "metadata": {
        "id": "SyquPaxBtOuX"
      },
      "outputs": [],
      "source": [
        "# Clase Item\n",
        "\n",
        "class Item():\n",
        "    def __init__(self, nombre, precio, url_imagen=''):\n",
        "        \"\"\"\n",
        "        Todas las propiedades del ítem son obligatorias menos url_imagen\n",
        "        En el ítem todas las propiedades son \"públicas\". Esto va a ser útil para acceder al precio desde el carrito.\n",
        "        \"\"\"\n",
        "        self.nombre = nombre\n",
        "        self.precio = precio\n",
        "        self.url_imagen = url_imagen\n"
      ]
    },
    {
      "cell_type": "code",
      "execution_count": null,
      "metadata": {
        "id": "MiVJ0d3RtOuY"
      },
      "outputs": [],
      "source": [
        "# Crear los ítems banana de $49.5 y yoghurt de $32.5\n",
        "\n",
        "banana = Item(\"banana\",49.5)\n",
        "yoghurt = Item(\"yoghurt\",32.5)"
      ]
    },
    {
      "cell_type": "code",
      "execution_count": null,
      "metadata": {
        "id": "lKbiDR5ZtOuY"
      },
      "outputs": [],
      "source": [
        "# Crear la clase Carrito\n",
        "\n",
        "class Carrito():\n",
        "    def __init__(self):\n",
        "        \"\"\"\n",
        "        El Carrito siempre se inicializa con una lista de Ítems.\n",
        "        En el carrito la única propiedad es privada.\n",
        "        \"\"\"\n",
        "        self._lineas = []\n",
        "\n",
        "    def get_total(self):\n",
        "        total = 0\n",
        "        for linea in self._lineas:\n",
        "            total = total + (linea['cantidad'] * linea['item'].precio)\n",
        "        return total\n",
        "\n",
        "    def agregar_item(self,linea):\n",
        "        self._lineas.append(linea)"
      ]
    },
    {
      "cell_type": "markdown",
      "metadata": {
        "id": "Oetd6F06tOuZ"
      },
      "source": [
        "Ahora vamos a instanciar el carrito y agregarle una \"línea\" con dos bananas y otra con tres yoghures."
      ]
    },
    {
      "cell_type": "code",
      "execution_count": null,
      "metadata": {
        "id": "d1CCQ8CbtOuZ"
      },
      "outputs": [],
      "source": [
        "# Instancias el carrito\n",
        "carrito = Carrito()"
      ]
    },
    {
      "cell_type": "code",
      "execution_count": null,
      "metadata": {
        "id": "XUlAhLdjtOuZ"
      },
      "outputs": [],
      "source": [
        "# Agregar bananas\n",
        "carrito.agregar_item({'item':banana,'cantidad':2})"
      ]
    },
    {
      "cell_type": "code",
      "execution_count": null,
      "metadata": {
        "id": "LdYL1M-EtOuZ"
      },
      "outputs": [],
      "source": [
        "# Agregar yoghures\n",
        "carrito.agregar_item({'item':yoghurt,'cantidad':3})"
      ]
    },
    {
      "cell_type": "code",
      "execution_count": null,
      "metadata": {
        "id": "bgOMVHeutOuZ",
        "outputId": "f8d4553c-9c72-4090-d392-0608cb9f3c2b",
        "colab": {
          "base_uri": "https://localhost:8080/"
        }
      },
      "outputs": [
        {
          "output_type": "execute_result",
          "data": {
            "text/plain": [
              "196.5"
            ]
          },
          "metadata": {},
          "execution_count": 7
        }
      ],
      "source": [
        "# Obtener el total\n",
        "carrito.get_total()"
      ]
    },
    {
      "cell_type": "markdown",
      "metadata": {
        "id": "FwUSXGc8tOua"
      },
      "source": [
        "## Ejer II"
      ]
    },
    {
      "cell_type": "code",
      "execution_count": null,
      "metadata": {
        "id": "1kFMGxcXtOua"
      },
      "outputs": [],
      "source": [
        "class Rectangulo:\n",
        "    def __init__(self, alto, ancho):\n",
        "        self.alto = alto\n",
        "        self.ancho = ancho\n",
        "\n",
        "    def area(self):\n",
        "        return self.alto * self.ancho\n",
        "\n",
        "    def perimetro(self):\n",
        "        return 2 * self.alto + 2 * self.ancho\n",
        "\n",
        "# Here we declare that the Cuadrado class inherits from the Rectangulo class\n",
        "class Cuadrado(Rectangulo):\n",
        "    def __init__(self, alto):\n",
        "        super().__init__(alto, alto)"
      ]
    },
    {
      "cell_type": "code",
      "execution_count": null,
      "metadata": {
        "id": "FpDVg7tNtOub"
      },
      "outputs": [],
      "source": [
        "class Cubo(Cuadrado):\n",
        "    def superficie(self):\n",
        "        face_area = super().area()\n",
        "        return face_area * 6"
      ]
    }
  ],
  "metadata": {
    "kernelspec": {
      "display_name": "conda_python3",
      "language": "python",
      "name": "conda_python3"
    },
    "language_info": {
      "codemirror_mode": {
        "name": "ipython",
        "version": 3
      },
      "file_extension": ".py",
      "mimetype": "text/x-python",
      "name": "python",
      "nbconvert_exporter": "python",
      "pygments_lexer": "ipython3",
      "version": "3.6.10"
    },
    "colab": {
      "provenance": [],
      "include_colab_link": true
    }
  },
  "nbformat": 4,
  "nbformat_minor": 0
}