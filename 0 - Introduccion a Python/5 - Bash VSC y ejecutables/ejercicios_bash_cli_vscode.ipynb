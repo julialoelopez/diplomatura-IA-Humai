{
  "cells": [
    {
      "cell_type": "markdown",
      "metadata": {
        "id": "view-in-github",
        "colab_type": "text"
      },
      "source": [
        "<a href=\"https://colab.research.google.com/github/julialoelopez/diplomatura-IA-Humai/blob/main/0%20-%20Introduccion%20a%20Python/5%20-%20Bash%20VSC%20y%20ejecutables/ejercicios_bash_cli_vscode.ipynb\" target=\"_parent\"><img src=\"https://colab.research.google.com/assets/colab-badge.svg\" alt=\"Open In Colab\"/></a>"
      ]
    },
    {
      "cell_type": "markdown",
      "metadata": {
        "id": "9PljKbLWs5Ni"
      },
      "source": [
        "## Ejercicio\n",
        "\n",
        "Para la tarea de esta clase trabajaremos con esta [API](http://numbersapi.com) (te invito a que vayas entrando para poder ir viendo de qué se trata y cómo usarla).\n",
        "\n",
        "Vamos a realizar dos scripts: para el primero, usando Click, tu tarea es crear un script que al ejecutarlo desde el cli le puedas pasar de forma interactiva qué número se quiere consultar, y que devuelva ese resultado a la consola.\n",
        "\n",
        "Para el segundo script, tu tarea es modificar el script que creaste para que pueda correrse usando crontab, y ejecutándose cada minuto. El script tiene que tomar el valor del minuto actual, hacer una consulta y almacenar el resultado en una carpeta.\n",
        "\n",
        "¡Suerte! :)"
      ],
      "id": "9PljKbLWs5Ni"
    }
  ],
  "metadata": {
    "kernelspec": {
      "display_name": "Python 3 (ipykernel)",
      "language": "python",
      "name": "python3"
    },
    "language_info": {
      "codemirror_mode": {
        "name": "ipython",
        "version": 3
      },
      "file_extension": ".py",
      "mimetype": "text/x-python",
      "name": "python",
      "nbconvert_exporter": "python",
      "pygments_lexer": "ipython3",
      "version": "3.7.6"
    },
    "vscode": {
      "interpreter": {
        "hash": "d27203dcce1218a35e5dd056f2e1158cfdf3a468b69181284abdce2479607453"
      }
    },
    "colab": {
      "provenance": [],
      "include_colab_link": true
    }
  },
  "nbformat": 4,
  "nbformat_minor": 5
}