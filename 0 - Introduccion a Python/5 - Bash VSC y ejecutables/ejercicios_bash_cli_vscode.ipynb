{
  "cells": [
    {
      "cell_type": "markdown",
      "metadata": {
        "id": "view-in-github",
        "colab_type": "text"
      },
      "source": [
        "<a href=\"https://colab.research.google.com/github/julialoelopez/diplomatura-IA-Humai/blob/main/0%20-%20Introduccion%20a%20Python/5%20-%20Bash%20VSC%20y%20ejecutables/ejercicios_bash_cli_vscode.ipynb\" target=\"_parent\"><img src=\"https://colab.research.google.com/assets/colab-badge.svg\" alt=\"Open In Colab\"/></a>"
      ]
    },
    {
      "cell_type": "markdown",
      "metadata": {
        "id": "9PljKbLWs5Ni"
      },
      "source": [
        "## Ejercicio\n",
        "\n",
        "Para la tarea de esta clase trabajaremos con esta [API](http://numbersapi.com) (te invito a que vayas entrando para poder ir viendo de qué se trata y cómo usarla).\n",
        "\n",
        "Vamos a realizar dos scripts: para el primero, usando Click, tu tarea es crear un script que al ejecutarlo desde el cli le puedas pasar de forma interactiva qué número se quiere consultar, y que devuelva ese resultado a la consola.\n",
        "\n",
        "Para el segundo script, tu tarea es modificar el script que creaste para que pueda correrse usando crontab, y ejecutándose cada minuto. El script tiene que tomar el valor del minuto actual, hacer una consulta y almacenar el resultado en una carpeta.\n",
        "\n",
        "¡Suerte! :)"
      ],
      "id": "9PljKbLWs5Ni"
    },
    {
      "cell_type": "markdown",
      "source": [
        "##SCRIPT 1"
      ],
      "metadata": {
        "id": "2UBdqqIHWWRH"
      },
      "id": "2UBdqqIHWWRH"
    },
    {
      "cell_type": "code",
      "source": [
        "# CReo una funcion ejecutable desde consola\n",
        "def number_fun_fact(number):\n",
        "  print(number)\n",
        "\n",
        "if __name__ == \"__main__\":\n",
        "  number_fun_fact(5)"
      ],
      "metadata": {
        "id": "M4P5vdhyNk2F",
        "outputId": "605b12f7-4acb-44fb-f523-9a9dbd36061d",
        "colab": {
          "base_uri": "https://localhost:8080/"
        }
      },
      "id": "M4P5vdhyNk2F",
      "execution_count": 1,
      "outputs": [
        {
          "output_type": "stream",
          "name": "stdout",
          "text": [
            "5\n"
          ]
        }
      ]
    },
    {
      "cell_type": "code",
      "source": [
        "#Ahora que se que funciona lo pongo en un arhcivo .py\n",
        "%%writefile fun_fact_api.py\n",
        "def number_fun_fact(number):\n",
        "  print(number)\n",
        "\n",
        "if __name__ == \"__main__\":\n",
        "  number_fun_fact(5)"
      ],
      "metadata": {
        "id": "ZpZQ8s9wOUSe",
        "outputId": "5f9f408f-fd4f-40f6-98dc-a9f743b854f3",
        "colab": {
          "base_uri": "https://localhost:8080/"
        }
      },
      "id": "ZpZQ8s9wOUSe",
      "execution_count": 2,
      "outputs": [
        {
          "output_type": "stream",
          "name": "stdout",
          "text": [
            "Writing fun_fact_api.py\n"
          ]
        }
      ]
    },
    {
      "cell_type": "code",
      "source": [
        "#Lo ejecuto con bash (con el ! que llama a bash y comando de ejcucion)\n",
        "!python fun_fact_api.py"
      ],
      "metadata": {
        "id": "XFLcfinDO3Gx",
        "outputId": "fdcfa5c2-731d-4940-b3e2-dbc702daf819",
        "colab": {
          "base_uri": "https://localhost:8080/"
        }
      },
      "id": "XFLcfinDO3Gx",
      "execution_count": 3,
      "outputs": [
        {
          "output_type": "stream",
          "name": "stdout",
          "text": [
            "5\n"
          ]
        }
      ]
    },
    {
      "cell_type": "code",
      "source": [
        "#ahora sobrescribo la funcion para que sea interactiva con el usuario:\n",
        "%%writefile fun_fact_api.py\n",
        "def number_fun_fact():\n",
        "  number = input('Ingrese un numero: ')\n",
        "  print(number)\n",
        "\n",
        "if __name__ == \"__main__\":\n",
        "  number_fun_fact()"
      ],
      "metadata": {
        "id": "BF4TFs3rO_Z3",
        "outputId": "a5e9c98e-ca15-4789-e157-702aec51b9cb",
        "colab": {
          "base_uri": "https://localhost:8080/"
        }
      },
      "id": "BF4TFs3rO_Z3",
      "execution_count": 7,
      "outputs": [
        {
          "output_type": "stream",
          "name": "stdout",
          "text": [
            "Overwriting fun_fact_api.py\n"
          ]
        }
      ]
    },
    {
      "cell_type": "code",
      "source": [
        "#Lo ejecuto con bash (con el ! que llama a bash y comando de ejcucion)\n",
        "!python fun_fact_api.py"
      ],
      "metadata": {
        "id": "l3x3NZu7PnUa",
        "outputId": "bfd6e3ac-1cfe-4022-add5-bc7a3eaeaecb",
        "colab": {
          "base_uri": "https://localhost:8080/"
        }
      },
      "id": "l3x3NZu7PnUa",
      "execution_count": 8,
      "outputs": [
        {
          "output_type": "stream",
          "name": "stdout",
          "text": [
            "Ingrese un numero: 15\n",
            "15\n"
          ]
        }
      ]
    },
    {
      "cell_type": "code",
      "source": [
        "#Ahora conecto con la Api para que retorne la info que tiene\n",
        "%%writefile fun_fact_api.py\n",
        "import os\n",
        "import json\n",
        "import requests\n",
        "\n",
        "def number_fun_fact():\n",
        "  number = input('Ingrese un numero: ')\n",
        "  key = f'http://numbersapi.com/{number}'\n",
        "  data = requests.get(key)\n",
        "  data = data.text\n",
        "  print(data)\n",
        "\n",
        "if __name__ == \"__main__\":\n",
        "  number_fun_fact()"
      ],
      "metadata": {
        "id": "M6x4SoAHPsiD",
        "outputId": "6e7831b6-a361-49ff-ebed-8632d622310c",
        "colab": {
          "base_uri": "https://localhost:8080/"
        }
      },
      "id": "M6x4SoAHPsiD",
      "execution_count": 20,
      "outputs": [
        {
          "output_type": "stream",
          "name": "stdout",
          "text": [
            "Overwriting fun_fact_api.py\n"
          ]
        }
      ]
    },
    {
      "cell_type": "code",
      "source": [
        "!python fun_fact_api.py"
      ],
      "metadata": {
        "id": "s8Euz9CISgVA",
        "outputId": "20307999-eb37-4e13-d300-033a60dd20fc",
        "colab": {
          "base_uri": "https://localhost:8080/"
        }
      },
      "id": "s8Euz9CISgVA",
      "execution_count": 21,
      "outputs": [
        {
          "output_type": "stream",
          "name": "stdout",
          "text": [
            "Ingrese un numero: 12\n",
            "12 is the number of keys in any standard digital telephone (1 through 9, 0, * and #).\n"
          ]
        }
      ]
    },
    {
      "cell_type": "code",
      "source": [
        "#Ahora lo hago utilizanod click\n",
        "%%writefile fun_fact_api.py\n",
        "import os\n",
        "import json\n",
        "import requests\n",
        "import click\n",
        "\n",
        "@click.command()\n",
        "@click.option('--number', type=int, prompt='Ingresa un nuemro entero',\n",
        "              help='Numero entero sin puntos ni comas')\n",
        "def number_fun_fact(number):\n",
        "  \"\"\"Funcion para traer datos curiosos sobre los numeros a travez de la API numberapi\"\"\"\n",
        "  key = f'http://numbersapi.com/{number}'\n",
        "  data = requests.get(key)\n",
        "  data = data.text\n",
        "  print(data)\n",
        "\n",
        "if __name__ == \"__main__\":\n",
        "  number_fun_fact()\n",
        "\n"
      ],
      "metadata": {
        "id": "6zLeBgH9SoNT",
        "outputId": "8a88b716-455c-4724-f852-012280c844cc",
        "colab": {
          "base_uri": "https://localhost:8080/"
        }
      },
      "id": "6zLeBgH9SoNT",
      "execution_count": 26,
      "outputs": [
        {
          "output_type": "stream",
          "name": "stdout",
          "text": [
            "Overwriting fun_fact_api.py\n"
          ]
        }
      ]
    },
    {
      "cell_type": "code",
      "source": [
        "!python fun_fact_api.py"
      ],
      "metadata": {
        "id": "s3iNVTzGWAF-",
        "outputId": "874e5ddd-a3e5-44c8-b546-a1afeec196de",
        "colab": {
          "base_uri": "https://localhost:8080/"
        }
      },
      "id": "s3iNVTzGWAF-",
      "execution_count": 27,
      "outputs": [
        {
          "output_type": "stream",
          "name": "stdout",
          "text": [
            "Ingresa un nuemro entero: 65\n",
            "65 is the traditional age for retirement in the United Kingdom, Germany and other countries.\n"
          ]
        }
      ]
    },
    {
      "cell_type": "markdown",
      "source": [
        "##SCRIPT 2"
      ],
      "metadata": {
        "id": "9SggtuzHWZjb"
      },
      "id": "9SggtuzHWZjb"
    },
    {
      "cell_type": "code",
      "source": [],
      "metadata": {
        "id": "ByaEiyWqWB3Q"
      },
      "id": "ByaEiyWqWB3Q",
      "execution_count": null,
      "outputs": []
    }
  ],
  "metadata": {
    "kernelspec": {
      "display_name": "Python 3 (ipykernel)",
      "language": "python",
      "name": "python3"
    },
    "language_info": {
      "codemirror_mode": {
        "name": "ipython",
        "version": 3
      },
      "file_extension": ".py",
      "mimetype": "text/x-python",
      "name": "python",
      "nbconvert_exporter": "python",
      "pygments_lexer": "ipython3",
      "version": "3.7.6"
    },
    "vscode": {
      "interpreter": {
        "hash": "d27203dcce1218a35e5dd056f2e1158cfdf3a468b69181284abdce2479607453"
      }
    },
    "colab": {
      "provenance": [],
      "include_colab_link": true
    }
  },
  "nbformat": 4,
  "nbformat_minor": 5
}