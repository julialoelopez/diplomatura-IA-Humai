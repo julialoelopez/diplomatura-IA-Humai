{
  "cells": [
    {
      "cell_type": "markdown",
      "metadata": {
        "id": "u6Q5T7k22WuZ"
      },
      "source": [
        "<a href=\"https://colab.research.google.com/github/institutohumai/cursos-python/blob/master/Introduccion/3_Modulos_Funciones/ejercicio/ejercicio.ipynb\"> <img src='https://colab.research.google.com/assets/colab-badge.svg' /> </a>\n",
        "<div align=\"center\"> Recordá abrir en una nueva pestaña </div>"
      ]
    },
    {
      "cell_type": "markdown",
      "metadata": {
        "id": "WxAL6VsU2Wuo"
      },
      "source": [
        "# Ejercicios III"
      ]
    },
    {
      "cell_type": "markdown",
      "metadata": {
        "id": "y4fgNZK42Wuq"
      },
      "source": [
        "## Factoriales\n",
        "\n",
        "El factorial de un número natural es la multiplicación de todos los números anteriores hasta llegar a 1. Por ejemplo el factorial de 5 es igual a $5* 4* 3* 2* 1$, es decir, 120.\n",
        "\n",
        "Igual que con la serie Fibonacci, hay dos formas de resolver este problema: una con un loop for y la otra utilizando funciones recursivas.  Recuerden que cada función recursiva tiene que tener una condición terminal.\n",
        "En el caso de Fibonacci, la condición terminal es que fibo(1) = 1.\n",
        "\n",
        "En el caso de factorial, la condición terminal será factorial(1) = 1\n",
        "\n",
        "Escriban ahora las dos versiones posibles de la función factorial(x)."
      ]
    },
    {
      "cell_type": "code",
      "execution_count": 19,
      "metadata": {
        "id": "AI0nQ8vL2Wux"
      },
      "outputs": [],
      "source": [
        "# Solución recursiva.\n",
        "def factorial_recursiva(n):\n",
        "    if n == 1:\n",
        "        return 1\n",
        "    else:\n",
        "        return n * factorial_recursiva(n-1)"
      ]
    },
    {
      "cell_type": "code",
      "execution_count": 20,
      "metadata": {},
      "outputs": [
        {
          "data": {
            "text/plain": [
              "120"
            ]
          },
          "execution_count": 20,
          "metadata": {},
          "output_type": "execute_result"
        }
      ],
      "source": [
        "factorial_recursiva(5)"
      ]
    },
    {
      "cell_type": "code",
      "execution_count": 5,
      "metadata": {
        "id": "WsRV3pZU2Wu3"
      },
      "outputs": [],
      "source": [
        "# Solución iterativa.\n",
        "def factorial_iterativa(n):\n",
        "    factorial = 1\n",
        "    for i in range(n,1,-1):\n",
        "        factorial = factorial * i\n",
        "    return factorial    "
      ]
    },
    {
      "cell_type": "code",
      "execution_count": 6,
      "metadata": {},
      "outputs": [
        {
          "data": {
            "text/plain": [
              "120"
            ]
          },
          "execution_count": 6,
          "metadata": {},
          "output_type": "execute_result"
        }
      ],
      "source": [
        "factorial_iterativa(5)"
      ]
    },
    {
      "cell_type": "markdown",
      "metadata": {
        "id": "_RnUbcaR2Wu4"
      },
      "source": [
        "Ahora construyan un módulo que se llame \"operaciones\" con cualquiera de las dos versiones de la función y luego invoquen a la función factorial del módulo."
      ]
    },
    {
      "cell_type": "code",
      "execution_count": 21,
      "metadata": {
        "id": "amURxY7Q2Wu5"
      },
      "outputs": [],
      "source": [
        "# Escriban el archivo operaciones.py\n",
        "with open('operaciones.py', 'w') as out:\n",
        "    out.write(\"\"\"def factorial_it(n):\n",
        "    factorial = 1\n",
        "    for i in range(n,1,-1):\n",
        "        factorial = factorial * i\n",
        "    return factorial\"\"\")"
      ]
    },
    {
      "cell_type": "code",
      "execution_count": 22,
      "metadata": {
        "id": "MjA4BPw92Wu6"
      },
      "outputs": [],
      "source": [
        "# Importen operaciones\n",
        "import operaciones"
      ]
    },
    {
      "cell_type": "code",
      "execution_count": 24,
      "metadata": {
        "id": "ltadgg2C2Wu9"
      },
      "outputs": [
        {
          "ename": "AttributeError",
          "evalue": "module 'operaciones' has no attribute 'factorial_it'",
          "output_type": "error",
          "traceback": [
            "\u001b[1;31m---------------------------------------------------------------------------\u001b[0m",
            "\u001b[1;31mAttributeError\u001b[0m                            Traceback (most recent call last)",
            "Cell \u001b[1;32mIn[24], line 2\u001b[0m\n\u001b[0;32m      1\u001b[0m \u001b[38;5;66;03m# Invoquen con cualquier valor a operaciones.factorial()\u001b[39;00m\n\u001b[1;32m----> 2\u001b[0m \u001b[43moperaciones\u001b[49m\u001b[38;5;241;43m.\u001b[39;49m\u001b[43mfactorial_it\u001b[49m(\u001b[38;5;241m5\u001b[39m)\n",
            "\u001b[1;31mAttributeError\u001b[0m: module 'operaciones' has no attribute 'factorial_it'"
          ]
        }
      ],
      "source": [
        "# Invoquen con cualquier valor a operaciones.factorial()\n",
        "operaciones.factorial_it(5)"
      ]
    },
    {
      "cell_type": "markdown",
      "metadata": {
        "id": "MPCVG5IgGE1M"
      },
      "source": [
        "## Ordenando Claves"
      ]
    },
    {
      "cell_type": "markdown",
      "metadata": {
        "id": "uyHeMHAwJ1Ro"
      },
      "source": [
        "Dado un diccionario en Python, donde cada clave es un string y cada valor es un string con el formato \"**nombre#número#email**\", por ejemplo:\n",
        "\n",
        "```\n",
        "diccionario = {\n",
        "    \"alpha\": \"Alice#30#alice@example.com\",\n",
        "    \"bravo\": \"Bob#20#bob@example.com\",\n",
        "    \"charlie\": \"Charlie#20#charlie@example.com\"\n",
        "}\n",
        "```\n",
        "\n",
        "Escribir una función que genere una **lista de las claves del diccionario**.\n",
        "\n",
        "Estas claves deben estar **ordenadas de acuerdo al número que aparece en cada valor**, que está **garantizado ser único y entero**.\n",
        "\n",
        "Si dos claves tienen el mismo número en el email, **deben dejarse en el lugar en que estaban en el diccionario original**  \n",
        "  \n",
        "Para el ejemplo anterior, la función debería devolver:\n",
        "`['bravo', 'charlie', 'alpha']`\n",
        "\n",
        "Nótese que, como `bravo` y `charlie` tiene el mismo valor numérico (20), se mantienen en el mismo **orden** (no así en la misma **posición**). Lo único que se \"movió\" fue `alpha`.\n",
        "  \n",
        "  \n",
        "**Pistas:**\n",
        "- Parece que vamos a necesitar obtener el número de cada uno de los emails ¿Qué método de strings podemos usar? Recordemos que sabemos en qué posición del string está el número.\n",
        "\n",
        "- Para obtener las tuplas `(clave, valor)` del diccionario, podemos usar el método `items()`, pero lo que devuelve no es exactamente una lista. Deberíamos convertirlo en una.\n",
        "\n",
        "- Revisar la función de Python [`sorted()`](https://docs.python.org/es/3/library/functions.html#sorted), que recibe un iterable (como una lista) y ordena sus elementos. El parámetro `key` de `sorted()` recibe una función cuyo resultado se usa como criterio para ordenar ¿Qué función podríamos escribir para pasarla en el argumento `key`? ¿Qué queremos usar como criterio?\n"
      ]
    },
    {
      "cell_type": "code",
      "execution_count": null,
      "metadata": {
        "id": "nfCWQBhGkvEO"
      },
      "outputs": [],
      "source": []
    }
  ],
  "metadata": {
    "colab": {
      "collapsed_sections": [
        "y4fgNZK42Wuq",
        "MPCVG5IgGE1M"
      ],
      "provenance": []
    },
    "kernelspec": {
      "display_name": "Python 3",
      "language": "python",
      "name": "python3"
    },
    "language_info": {
      "codemirror_mode": {
        "name": "ipython",
        "version": 3
      },
      "file_extension": ".py",
      "mimetype": "text/x-python",
      "name": "python",
      "nbconvert_exporter": "python",
      "pygments_lexer": "ipython3",
      "version": "3.10.2"
    }
  },
  "nbformat": 4,
  "nbformat_minor": 0
}
