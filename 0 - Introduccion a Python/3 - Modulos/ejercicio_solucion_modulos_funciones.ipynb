{
  "cells": [
    {
      "cell_type": "markdown",
      "metadata": {
        "id": "sJ0axqOAqcYs"
      },
      "source": [
        "<a href=\"https://colab.research.google.com/github/institutohumai/cursos-python/blob/master/Introduccion/3_Modulos_Funciones/ejercicio/ejercicio-solucion.ipynb\"> <img src='https://colab.research.google.com/assets/colab-badge.svg' /> </a>\n",
        "<div align=\"center\"> Recordá abrir en una nueva pestaña </div>"
      ]
    },
    {
      "cell_type": "markdown",
      "metadata": {
        "id": "5J3aADN2qcYu"
      },
      "source": [
        "## Factoriales\n",
        "\n",
        "El factorial de un número natural es la multiplicación de todos los números anteriores hasta llegar a 1. Por ejemplo el factorial de 5 es igual a $5*4*3*2*1$, es decir, 120.\n",
        "\n",
        "Igual que con la serie Fibonacci, hay dos formas de resolver este problema: una con un loop for y la otra utilizando funciones recursivas.  Recuerden que cada función recursiva tiene que tener una condición terminal.\n",
        "En el caso de Fibonacci, la condición terminal es que fibo(1) = 1.\n",
        "\n",
        "En el caso de factorial, la condición terminal será factorial(1) = 1\n",
        "\n",
        "Escriban ahora las dos versiones posibles de la función factorial(x)."
      ]
    },
    {
      "cell_type": "code",
      "execution_count": null,
      "metadata": {
        "id": "q8HCl4bcqcYu"
      },
      "outputs": [],
      "source": [
        "# Solución recursiva.\n",
        "\n",
        "def factorial(x):\n",
        "    if x == 1:\n",
        "        return 1\n",
        "    else:\n",
        "        return x*factorial(x-1)"
      ]
    },
    {
      "cell_type": "code",
      "execution_count": null,
      "metadata": {
        "id": "vaa9tVGyqcYv"
      },
      "outputs": [],
      "source": [
        "# Solución iterativa.\n",
        "\n",
        "def factorial(x):\n",
        "    resultado = 1\n",
        "    for i in range(1, x+1):\n",
        "        resultado = resultado * (i)\n",
        "    return resultado"
      ]
    },
    {
      "cell_type": "markdown",
      "metadata": {
        "id": "OjcITU8EqcYw"
      },
      "source": [
        "Ahora construyan un módulo que se llame \"operaciones\" con cualquiera de las dos versiones de la función y luego invoquen a la función factorial del módulo."
      ]
    },
    {
      "cell_type": "code",
      "execution_count": null,
      "metadata": {
        "id": "x5g1fplsqcYw"
      },
      "outputs": [],
      "source": [
        "# Escriban el archivo operaciones.py\n",
        "with open('operaciones.py', 'w') as out:\n",
        "    out.write(\"\"\"def factorial(x):\n",
        "    resultado = 1\n",
        "    for i in range(1, x+1):\n",
        "        resultado = resultado * (i)\n",
        "    return resultado\"\"\")"
      ]
    },
    {
      "cell_type": "code",
      "execution_count": null,
      "metadata": {
        "id": "VnRE9n2WqcYx"
      },
      "outputs": [],
      "source": [
        "# Importen operaciones\n",
        "import operaciones"
      ]
    },
    {
      "cell_type": "code",
      "execution_count": null,
      "metadata": {
        "id": "u2t0-cs7qcYx",
        "outputId": "00c66b87-d790-4abb-9056-e1310f0b2e7e"
      },
      "outputs": [
        {
          "data": {
            "text/plain": [
              "24"
            ]
          },
          "execution_count": 12,
          "metadata": {},
          "output_type": "execute_result"
        }
      ],
      "source": [
        "# Invoquen con cualquier valor a operaciones.factorial()\n",
        "operaciones.factorial(4)"
      ]
    },
    {
      "cell_type": "markdown",
      "source": [
        "## Ordenando Claves"
      ],
      "metadata": {
        "id": "MPCVG5IgGE1M"
      }
    },
    {
      "cell_type": "markdown",
      "source": [
        "Dado un diccionario en Python, donde cada clave es un string y cada valor es un string con el formato \"**nombre#número#email**\", por ejemplo:\n",
        "\n",
        "```\n",
        "diccionario = {\n",
        "    \"alpha\": \"Alice#30#alice@example.com\",\n",
        "    \"bravo\": \"Bob#20#bob@example.com\",\n",
        "    \"charlie\": \"Charlie#20#charlie@example.com\"\n",
        "}\n",
        "```\n",
        "\n",
        "Escribir una función que genere una **lista de las claves del diccionario**.\n",
        "\n",
        "Estas claves deben estar **ordenadas de acuerdo al número que aparece en cada valor**, que está **garantizado ser único y entero**.\n",
        "\n",
        "Si dos claves tienen el mismo número en el email, **deben dejarse en el lugar en que estaban en el diccionario original**  \n",
        "  \n",
        "Para el ejemplo anterior, la función debería devolver:\n",
        "`['bravo', 'charlie', 'alpha']`\n",
        "\n",
        "Nótese que, como `bravo` y `charlie` tiene el mismo valor numérico (20), se mantienen en el mismo **orden** (no así en la misma **posición**). Lo único que se \"movió\" fue `alpha`.\n",
        "  \n",
        "  \n",
        "**Pistas:**\n",
        "- Parece que vamos a necesitar obtener el número de cada uno de los emails ¿Qué método de strings podemos usar? Recordemos que sabemos en qué posición del string está el número.\n",
        "\n",
        "- Para obtener las tuplas `(clave, valor)` del diccionario, podemos usar el método `items()`, pero lo que devuelve no es exactamente una lista. Deberíamos convertirlo en una.\n",
        "\n",
        "- Revisar la función de Python [`sorted()`](https://docs.python.org/es/3/library/functions.html#sorted), que recibe un iterable (como una lista) y ordena sus elementos. El parámetro `key` de `sorted()` recibe una función cuyo resultado se usa como criterio para ordenar ¿Qué función podríamos escribir para pasarla en el argumento `key`? ¿Qué queremos usar como criterio?\n"
      ],
      "metadata": {
        "id": "uyHeMHAwJ1Ro"
      }
    },
    {
      "cell_type": "code",
      "source": [
        "# Dada una tupla o par \"(clave, valor)\", esta función extrae el número.\n",
        "def sacar_numero(par):\n",
        "   k, v = par #guardo en \"k\" la clave y en \"v\" el valor\n",
        "   return int(v.split('#')[1])\n",
        "\n",
        "# Ejemplo\n",
        "\n",
        "diccionario = {\n",
        "    \"alpha\": \"Alice#30#alice@example.com\",\n",
        "    \"bravo\": \"Bob#20#bob@example.com\",\n",
        "    \"charlie\": \"Charlie#20#charlie@example.com\"\n",
        "}\n",
        "\n",
        "#Usando una comprensión de listas, extraigo la clave de cada par \"(clave, valor)\"\n",
        "#luego de ordenarlos usando \"sorted()\" con \"sacar_numero\" como criterio.\n",
        "items_ordenados = [k for k, v in sorted(list(diccionario.items()), key=sacar_numero)]\n",
        "\n",
        "items_ordenados"
      ],
      "metadata": {
        "id": "XRBF8JHLKFvS",
        "outputId": "bc498e44-f15e-4521-8f6f-7ce47ea9445a",
        "colab": {
          "base_uri": "https://localhost:8080/"
        }
      },
      "execution_count": null,
      "outputs": [
        {
          "output_type": "execute_result",
          "data": {
            "text/plain": [
              "['bravo', 'charlie', 'alpha']"
            ]
          },
          "metadata": {},
          "execution_count": 11
        }
      ]
    }
  ],
  "metadata": {
    "kernelspec": {
      "display_name": "conda_python3",
      "language": "python",
      "name": "conda_python3"
    },
    "language_info": {
      "codemirror_mode": {
        "name": "ipython",
        "version": 3
      },
      "file_extension": ".py",
      "mimetype": "text/x-python",
      "name": "python",
      "nbconvert_exporter": "python",
      "pygments_lexer": "ipython3",
      "version": "3.6.10"
    },
    "colab": {
      "provenance": [],
      "collapsed_sections": [
        "5J3aADN2qcYu",
        "MPCVG5IgGE1M"
      ]
    }
  },
  "nbformat": 4,
  "nbformat_minor": 0
}