{
  "cells": [
    {
      "cell_type": "markdown",
      "metadata": {
        "id": "zaM0BW6k1Y1e"
      },
      "source": [
        "<a href=\"https://colab.research.google.com/github/institutohumai/cursos-python/blob/master/Introduccion/1_TiposDatos/tipos-datos.ipynb\"> <img src='https://colab.research.google.com/assets/colab-badge.svg' /> </a>\n",
        "<div align=\"center\"> Recordá abrir en una nueva pestaña </div>\n"
      ]
    },
    {
      "cell_type": "code",
      "metadata": {
        "hidePrompt": false,
        "id": "9al6coO99zcc"
      },
      "source": [
        "# Introducción a la programación con Python"
      ],
      "execution_count": null,
      "outputs": []
    },
    {
      "cell_type": "markdown",
      "metadata": {
        "id": "Ejn4PPk81Y1g"
      },
      "source": [
        "<h1 id=\"tocheading\">Tabla de Contenidos</h1>\n",
        "<div id=\"toc\"></div>"
      ]
    },
    {
      "cell_type": "markdown",
      "metadata": {
        "id": "vTJRFFzv1Y1g"
      },
      "source": [
        "I. Introducción a la programación con Python\n",
        "\n",
        "II. Tabla de Contenidos\n",
        "\n",
        "    I. Python\n",
        "\n",
        "III. IDEs\n",
        "\n",
        "        I. VS Code\n",
        "        II. Pycharm\n",
        "        III. Spyder\n",
        "\n",
        "IV. Hola Jupyter!\n",
        "\n",
        "V. Declarando variables\n",
        "\n",
        "    I. Numéricos\n",
        "    II. Operaciones numéricas - Divisiones\n",
        "    III. Booleanos\n",
        "        I. Operaciones lógicas\n",
        "\n",
        "VI. Ejercicios\n",
        "\n",
        "    I. Strings\n",
        "            I. Ejercicios\n",
        "    II. Listas\n",
        "        I. Indexing y slicing en listas\n",
        "        II. Otras operaciones y métodos\n",
        "    III. Diccionarios\n",
        "    IV. Condicionales\n",
        "    V. Bucles o Loops\n",
        "        I. For loop\n",
        "        II. While loop\n",
        "    VI. Recursos y tips\n",
        "    VII. Tips en la práctica"
      ]
    },
    {
      "cell_type": "markdown",
      "metadata": {
        "hidePrompt": true,
        "id": "MMJEgu8X1Y1g"
      },
      "source": [
        "## Python\n",
        "\n",
        "- Elegante, sencillo\n",
        "- Comunidad y accesibilidad\n",
        "- Desarrollos de estado del arte\n",
        "- Flexibilidad \"full stack\"\n",
        "- Multi-paradigma\n"
      ]
    },
    {
      "cell_type": "markdown",
      "metadata": {
        "id": "U-NdSt1L1Y1h"
      },
      "source": [
        "# IDEs"
      ]
    },
    {
      "cell_type": "markdown",
      "metadata": {
        "id": "Ldx2IMAa1Y1h"
      },
      "source": [
        "### VS Code"
      ]
    },
    {
      "cell_type": "markdown",
      "metadata": {
        "id": "b2EFs_a31Y1h"
      },
      "source": [
        "<img src='https://datasets-humai.s3.amazonaws.com/images/IDE.png'></img>"
      ]
    },
    {
      "cell_type": "markdown",
      "metadata": {
        "id": "e7E3QqEq1Y1h"
      },
      "source": [
        "### Pycharm"
      ]
    },
    {
      "cell_type": "markdown",
      "metadata": {
        "id": "CXUOwnTI1Y1h"
      },
      "source": [
        "<img src='https://datasets-humai.s3.amazonaws.com/images/Pycharm.png'></img>"
      ]
    },
    {
      "cell_type": "markdown",
      "metadata": {
        "id": "sGrPtk9w1Y1h"
      },
      "source": [
        "### Spyder"
      ]
    },
    {
      "cell_type": "markdown",
      "metadata": {
        "id": "BD_eMSP-1Y1i"
      },
      "source": [
        "<img src='https://datasets-humai.s3.amazonaws.com/images/spyder.png'></img>"
      ]
    },
    {
      "cell_type": "markdown",
      "metadata": {
        "id": "zz37KJbi7Adx"
      },
      "source": [
        "# Hola Jupyter!\n",
        "\n",
        "En esta _notebook_ conoceremos el entorno Jupyter (o Google Colaboratory, una versión online gratuita), interfaz incluida en la instalación de Python ampliamente usada para Data Science llamada <a href=\"https://www.anaconda.com/products/individual\"/> Anaconda </a>. Para seguir el curso offline, luego de descargar e instalar Anaconda, si usan Windows deberán buscar el programa en su computadora y ejecutar Jupyter.\n",
        "\n",
        "Si están en una distribución de linux o Mac pueden ejecutar en la terminal:\n",
        "\n",
        "> jupyter notebook\n",
        "\n",
        "Cada una de estas _celdas_ funciona como un bloque donde podemos escribir texto plano, Latex, HTML, además de ejecutar código Python, R, bash y otros.\n",
        "\n",
        "$$\\bar{x} = \\frac{1}{n} \\sum_{i=1}^n x_i$$"
      ]
    },
    {
      "cell_type": "markdown",
      "metadata": {
        "id": "AcoLjYP-NWpd"
      },
      "source": [
        "# Declarando variables <a name=\"section-2\"></a>"
      ]
    },
    {
      "cell_type": "markdown",
      "metadata": {
        "id": "oFtrilzdZHCG"
      },
      "source": [
        "Existen distintos tipos de variables:\n",
        "- int: entero\n",
        "- float: punto flotante\n",
        "- string: cadena de caracteres\n",
        "- bool: booleano, 0, 1, True o False\n",
        "\n",
        "Y estructuras de datos, como:\n",
        "  - list: lista de elementos (de cualquier tipo, incluida otra lista)\n",
        "  - dict: \"diccionario\", conjunto de pares llave:valor\n",
        "  \n",
        "Veamos un primer ejemplo"
      ]
    },
    {
      "cell_type": "code",
      "execution_count": null,
      "metadata": {
        "id": "wXSnFCR81Y1i"
      },
      "outputs": [],
      "source": [
        "primera_variable = 'Hola mundo!'\n",
        "\n",
        "print(primera_variable)"
      ]
    },
    {
      "cell_type": "markdown",
      "metadata": {
        "id": "O5RjmeW41Y1i"
      },
      "source": [
        "Declaramos una variable llamada *primera_variable* asignándole el valor de \"Hola mundo!\". La **función print** toma entre paréntesis esa variable y muestra el valor en pantalla."
      ]
    },
    {
      "cell_type": "markdown",
      "metadata": {
        "id": "IAr29b4U1Y1i"
      },
      "source": [
        "En Jupyter la última línea de una celda se imprime al ejecutar..."
      ]
    },
    {
      "cell_type": "code",
      "execution_count": null,
      "metadata": {
        "id": "pIof4kn-1Y1i"
      },
      "outputs": [],
      "source": [
        "primera_variable"
      ]
    },
    {
      "cell_type": "markdown",
      "metadata": {
        "id": "fadz3Jht1Y1i"
      },
      "source": [
        "## Numéricos"
      ]
    },
    {
      "cell_type": "markdown",
      "metadata": {
        "id": "NPY-ABMC1Y1j"
      },
      "source": [
        "Declaramos dos variables de tipo numérico:"
      ]
    },
    {
      "cell_type": "code",
      "execution_count": null,
      "metadata": {
        "hidePrompt": true,
        "id": "mfxF76C4ZGJK"
      },
      "outputs": [],
      "source": [
        "x = 5\n",
        "y = 17"
      ]
    },
    {
      "cell_type": "markdown",
      "metadata": {
        "id": "1y-P5QqS1Y1j"
      },
      "source": [
        "Podemos hacer las operaciones numéricas usuales:"
      ]
    },
    {
      "cell_type": "code",
      "execution_count": null,
      "metadata": {
        "hidePrompt": true,
        "id": "1YQq_1X81Y1j"
      },
      "outputs": [],
      "source": [
        "print(x+y) # suma\n",
        "print(x*2) # multiplicacion\n",
        "print(x**(1/2)) # elevado a"
      ]
    },
    {
      "cell_type": "markdown",
      "metadata": {
        "id": "VjgoHlbo1Y1j"
      },
      "source": [
        "## Operaciones numéricas - Divisiones"
      ]
    },
    {
      "cell_type": "markdown",
      "metadata": {
        "id": "p_voSqVq1Y1j"
      },
      "source": [
        "Devuelve la división:"
      ]
    },
    {
      "cell_type": "code",
      "execution_count": null,
      "metadata": {
        "id": "IpEjQehL1Y1j"
      },
      "outputs": [],
      "source": [
        "print(y / x)"
      ]
    },
    {
      "cell_type": "markdown",
      "metadata": {
        "id": "me0f5BX91Y1j"
      },
      "source": [
        "Devuelve la parte entera de la división:"
      ]
    },
    {
      "cell_type": "code",
      "execution_count": null,
      "metadata": {
        "id": "-OG5zv8o1Y1j"
      },
      "outputs": [],
      "source": [
        "print(y // x)"
      ]
    },
    {
      "cell_type": "markdown",
      "metadata": {
        "id": "VRsuINZ-1Y1j"
      },
      "source": [
        "Devuelve el resto:"
      ]
    },
    {
      "cell_type": "code",
      "execution_count": null,
      "metadata": {
        "id": "jk-g06yn1Y1j"
      },
      "outputs": [],
      "source": [
        "print(y % x)"
      ]
    },
    {
      "cell_type": "markdown",
      "metadata": {
        "id": "wuCh3hAX1Y1j"
      },
      "source": [
        "Otros ejemplos:"
      ]
    },
    {
      "cell_type": "code",
      "execution_count": null,
      "metadata": {
        "hidePrompt": true,
        "id": "kkgMRt6c1Y1k"
      },
      "outputs": [],
      "source": [
        "un_string = 'variable de ejemplo'\n",
        "un_bool = True"
      ]
    },
    {
      "cell_type": "markdown",
      "metadata": {
        "id": "DJ-hJWyt1Y1k"
      },
      "source": [
        "La **función** _type_ recibe de **argumento** una **variable** y **devuelve** su tipo"
      ]
    },
    {
      "cell_type": "code",
      "execution_count": null,
      "metadata": {
        "id": "swgDvxyd1Y1k"
      },
      "outputs": [],
      "source": [
        "type(x), type(y)"
      ]
    },
    {
      "cell_type": "markdown",
      "metadata": {
        "id": "1sm8JWHw1Y1k"
      },
      "source": [
        "Intentemos la siguiente suma..."
      ]
    },
    {
      "cell_type": "code",
      "execution_count": null,
      "metadata": {
        "id": "BFsfrZ1o1Y1k"
      },
      "outputs": [],
      "source": [
        "5 + \"10\""
      ]
    },
    {
      "cell_type": "markdown",
      "metadata": {
        "id": "jgOloWzI1Y1k"
      },
      "source": [
        "¿Qué paso?"
      ]
    },
    {
      "cell_type": "markdown",
      "metadata": {
        "id": "ka3oIuQg1Y1k"
      },
      "source": [
        "Si **convertimos** el string \"10\" a tipo int"
      ]
    },
    {
      "cell_type": "code",
      "execution_count": null,
      "metadata": {
        "id": "L2r0htmi1Y1p"
      },
      "outputs": [],
      "source": [
        "5 + int('10')"
      ]
    },
    {
      "cell_type": "markdown",
      "metadata": {
        "id": "0TAYHobD1Y1p"
      },
      "source": [
        "Cada tipo de variable responde a ciertos **métodos**. Veamos las operaciones lógicas, que utilizan **booleanos**"
      ]
    },
    {
      "cell_type": "markdown",
      "metadata": {
        "id": "AK-UNQxi1Y1q"
      },
      "source": [
        "## Booleanos"
      ]
    },
    {
      "cell_type": "markdown",
      "metadata": {
        "id": "RXDHTF-v1Y1q"
      },
      "source": [
        "### Operaciones lógicas"
      ]
    },
    {
      "cell_type": "code",
      "execution_count": null,
      "metadata": {
        "id": "hnXZ2eZo1Y1q"
      },
      "outputs": [],
      "source": [
        "print(10 >= 9)"
      ]
    },
    {
      "cell_type": "code",
      "execution_count": null,
      "metadata": {
        "id": "wvhlocDK1Y1q"
      },
      "outputs": [],
      "source": [
        "print(\"palabra\" == \"palabra\")\n",
        "print(\"otras palabras\" != \"otras palabras\")"
      ]
    },
    {
      "cell_type": "code",
      "execution_count": null,
      "metadata": {
        "id": "gKdjriGw1Y1q"
      },
      "outputs": [],
      "source": [
        "print(\"test\" in \"testing\")\n",
        "\n",
        "a = 'testing'\n",
        "\n",
        "print('test' in a)"
      ]
    },
    {
      "cell_type": "markdown",
      "metadata": {
        "id": "ymY9UDdn1Y1q"
      },
      "source": [
        "Los operadores disponibles son:\n",
        "\n",
        "    Relacionales:\n",
        "    - >= , <=, <, > : Mayor o igual, menor o igual, mayor o menor\n",
        "    - != , == : Distinto, Igual\n",
        "    - in : Contenido por\n",
        "    Lógicos:\n",
        "    - not o ~ : Negación\n",
        "    - and o & : Ambas verdaderas\n",
        "    - or o | : Una u otra es verdadera\n",
        "    \n",
        "Como booleanos, se pueden utilizar tanto 0 y 1 como True y False."
      ]
    },
    {
      "cell_type": "markdown",
      "metadata": {
        "id": "pJbfKK8_1Y1q"
      },
      "source": [
        "# Ejercicios <a name=\"section-3\"></a>\n",
        "\n",
        "\n",
        "1- Definan a = 5, b = 7 y c = 8\n",
        "\n",
        "Prueben las siguientes operaciones booleanas:\n",
        "\n",
        "2- a > b\n",
        "\n",
        "3- a < b\n",
        "\n",
        "4- a + b < c\n",
        "\n",
        "5- (a + b > c) | (a + b < c) --> a + b o es mayor a c o es menor\n",
        "\n",
        "6- (a + b > c) & (a + b < c) --> a + b es mayor a c y es menor a c"
      ]
    },
    {
      "cell_type": "markdown",
      "metadata": {
        "id": "72FPsnD51Y1q"
      },
      "source": [
        "## Strings <a name=\"section-4\"></a>"
      ]
    },
    {
      "cell_type": "code",
      "execution_count": null,
      "metadata": {
        "id": "Wlg-wJPN1Y1q"
      },
      "outputs": [],
      "source": [
        "\"dos strings se pueden \" + \"sumar\""
      ]
    },
    {
      "cell_type": "markdown",
      "metadata": {
        "id": "EIh62bWj1Y1q"
      },
      "source": [
        "Podemos acceder a ellos mediante **índices**. Los mismos funcionan para cualquier **iterable**, que es un objeto con muchos elementos que son accesibles secuencialmente. Podemos usar los índices para acceder a una posición determinada, pasándola entre corchetes [posición]. Es IMPORTANTE mencionar que en Python la primera posición tiene el índice 0 (y no 1)."
      ]
    },
    {
      "cell_type": "code",
      "execution_count": null,
      "metadata": {
        "id": "Y2pNTUyQ1Y1q"
      },
      "outputs": [],
      "source": [
        "texto = \"programación en python\""
      ]
    },
    {
      "cell_type": "code",
      "execution_count": null,
      "metadata": {
        "id": "JOXxSKpG1Y1r"
      },
      "outputs": [],
      "source": [
        "texto[0]"
      ]
    },
    {
      "cell_type": "markdown",
      "metadata": {
        "id": "NPbzhg2J1Y1r"
      },
      "source": [
        "También podemos usar los índices para traer más de un elemento al mismo tiempo, usando el **slicing**. El slicing lleva tres parámetros: comienzo (start), final (stop) e intervalo o paso (step).\n",
        "\n",
        "- El parámetro comienzo (start) indica la primera posición incluida en la selección, por default es 0.\n",
        "\n",
        "- El parámetro final (stop) es la primera posición que NO va a estar incluída, por default se incluyen todos los elementos.\n",
        "\n",
        "- El parámetro intervalo o paso (step), es optativo e indica el tamaño del paso entre seleccionar un elemento y el siguiente, por default el paso es 1. El paso también puede ser negativo, en este caso contamos desde el final hacia el comienzo, esto es muy útil para dar vuelta los strings...\n",
        "\n",
        "    \n",
        "    [comienzo : final : intervalo] (en inglés es [start : stop : step] )\n",
        "    \n",
        "    \n",
        "El intervalo que se recibe es semi-abierto (indice_primero, indice_segundo], es decir se incluye el primero y no el segundo valor. Se admiten números negativos, que contabilizan desde el final."
      ]
    },
    {
      "cell_type": "code",
      "execution_count": null,
      "metadata": {
        "id": "5udHBaac1Y1r"
      },
      "outputs": [],
      "source": [
        "texto[:]"
      ]
    },
    {
      "cell_type": "code",
      "execution_count": null,
      "metadata": {
        "id": "lvIbJ1201Y1r"
      },
      "outputs": [],
      "source": [
        "texto[:1]"
      ]
    },
    {
      "cell_type": "code",
      "execution_count": null,
      "metadata": {
        "id": "2nndgS351Y1r"
      },
      "outputs": [],
      "source": [
        "texto[1:4]"
      ]
    },
    {
      "cell_type": "code",
      "execution_count": null,
      "metadata": {
        "id": "YDWYprVr1Y1r"
      },
      "outputs": [],
      "source": [
        "texto[::-1]"
      ]
    },
    {
      "cell_type": "markdown",
      "metadata": {
        "id": "Xjy-0xdv1Y1r"
      },
      "source": [
        "Ejercicio\n",
        "\n",
        "1- Dado ese string devuelvan únicamente la palabra python usando slicing"
      ]
    },
    {
      "cell_type": "code",
      "execution_count": null,
      "metadata": {
        "id": "JCuQaRz21Y1r"
      },
      "outputs": [],
      "source": [
        "texto"
      ]
    },
    {
      "cell_type": "code",
      "execution_count": null,
      "metadata": {
        "id": "vQ_MNQ8w1Y1r"
      },
      "outputs": [],
      "source": [
        "texto[16:23]"
      ]
    },
    {
      "cell_type": "code",
      "execution_count": null,
      "metadata": {
        "id": "SaRW4Twd1Y1r"
      },
      "outputs": [],
      "source": [
        "texto[16:23]"
      ]
    },
    {
      "cell_type": "code",
      "execution_count": null,
      "metadata": {
        "id": "x4-RqLVN1Y1s"
      },
      "outputs": [],
      "source": [
        "texto[-6:]"
      ]
    },
    {
      "cell_type": "code",
      "execution_count": null,
      "metadata": {
        "id": "TVMT9cci1Y1s"
      },
      "outputs": [],
      "source": [
        "texto[-6:23:1]"
      ]
    },
    {
      "cell_type": "markdown",
      "metadata": {
        "id": "-BU9-csI1Y1s"
      },
      "source": [
        "Veamos algunos otros métodos de los strings"
      ]
    },
    {
      "cell_type": "code",
      "execution_count": null,
      "metadata": {
        "id": "we9RgZ2A1Y1s"
      },
      "outputs": [],
      "source": [
        "texto.upper()"
      ]
    },
    {
      "cell_type": "code",
      "execution_count": null,
      "metadata": {
        "id": "L6UMBPbv1Y1s"
      },
      "outputs": [],
      "source": [
        "texto.title()"
      ]
    },
    {
      "cell_type": "code",
      "execution_count": null,
      "metadata": {
        "id": "kfNbHPcE1Y1s"
      },
      "outputs": [],
      "source": [
        "texto.split() # Devuelve una lista, de ésto vamos a hablar a continuación"
      ]
    },
    {
      "cell_type": "markdown",
      "metadata": {
        "id": "uwvdaO-R1Y1s"
      },
      "source": [
        "Otras formas de combinar variables y texto..."
      ]
    },
    {
      "cell_type": "markdown",
      "metadata": {
        "id": "JNsoBpDU1Y1s"
      },
      "source": [
        "Rellenamos un string con **.format(query, modales)**:"
      ]
    },
    {
      "cell_type": "code",
      "execution_count": null,
      "metadata": {
        "id": "0c6GmTHZ1Y1s"
      },
      "outputs": [],
      "source": [
        "tema = 'data science'\n",
        "modales = 'por favor'\n",
        "\n",
        "'Dame información de {0} si esta disponible, {1}'.format(tema, modales)"
      ]
    },
    {
      "cell_type": "code",
      "execution_count": null,
      "metadata": {
        "id": "9xTI_9wv1Y1s"
      },
      "outputs": [],
      "source": [
        "#Otra manera\n",
        "print(f'Dame información de {tema.upper()} si esta disponible, {modales}')"
      ]
    },
    {
      "cell_type": "markdown",
      "metadata": {
        "id": "qHWfWluL1Y1s"
      },
      "source": [
        "Otros métodos a mencionar son:"
      ]
    },
    {
      "cell_type": "code",
      "execution_count": null,
      "metadata": {
        "id": "0chk7Kja1Y1t"
      },
      "outputs": [],
      "source": [
        "\"1000\".isdigit()"
      ]
    },
    {
      "cell_type": "code",
      "execution_count": null,
      "metadata": {
        "id": "kkk9NR351Y1t"
      },
      "outputs": [],
      "source": [
        "texto.replace(' ', '...')"
      ]
    },
    {
      "cell_type": "code",
      "execution_count": null,
      "metadata": {
        "id": "R_RQJhHw1Y1t"
      },
      "outputs": [],
      "source": [
        "\"   quitando espacios  \".strip()"
      ]
    },
    {
      "cell_type": "code",
      "execution_count": null,
      "metadata": {
        "id": "MXhIsau_1Y1t"
      },
      "outputs": [],
      "source": [
        "texto = \"Me gusta el 37\" # Piso el contenido de la variable para hacer otras pruebas\n",
        "texto.isalpha()"
      ]
    },
    {
      "cell_type": "code",
      "execution_count": null,
      "metadata": {
        "id": "41WrCcnX1Y1t"
      },
      "outputs": [],
      "source": [
        "texto = \"Me\" # Piso el contenido de la variable\n",
        "texto.isalpha()"
      ]
    },
    {
      "cell_type": "markdown",
      "metadata": {
        "id": "lkBA9Q5q1Y1t"
      },
      "source": [
        "#### Ejercicios <a name=\"section-5\"></a>\n",
        "\n",
        "1- Concatenar los string \"hola\" y \"qué tal\", separando ambos strings con un espacio (Tip: un espacio es: \" \")\n",
        "\n",
        "2- Guardar el resultado anterior en una variable y pasar el texto a mayúsculas."
      ]
    },
    {
      "cell_type": "code",
      "execution_count": null,
      "metadata": {
        "id": "uqfV4eRD1Y1t"
      },
      "outputs": [],
      "source": [
        "# Ejercicio 1"
      ]
    },
    {
      "cell_type": "code",
      "execution_count": null,
      "metadata": {
        "id": "EfYpfSBd1Y1t"
      },
      "outputs": [],
      "source": [
        "# Ejercicio 2"
      ]
    },
    {
      "cell_type": "markdown",
      "metadata": {
        "id": "GlaEaHBw1Y1t"
      },
      "source": [
        "## Listas <a name=\"section-6\"></a>\n",
        "\n",
        "Las listas son un conjunto de elementos ordenados. Estos elementos pueden ser de cualquier tipo, incluyendo otras listas. Veamos algunas operaciones con ellas."
      ]
    },
    {
      "cell_type": "code",
      "execution_count": null,
      "metadata": {
        "scrolled": true,
        "id": "_sHE55my1Y1t"
      },
      "outputs": [],
      "source": [
        "amigos = ['Mateo', 'Nico', 'Claudia', 'Ernestina', 'Paola']"
      ]
    },
    {
      "cell_type": "markdown",
      "metadata": {
        "id": "wf3mSB_I1Y1t"
      },
      "source": [
        "### Indexing y slicing en listas"
      ]
    },
    {
      "cell_type": "markdown",
      "metadata": {
        "id": "M1lvMLXu1Y1u"
      },
      "source": [
        "De la misma forma que con los strings en el contexto de la listas generalmente hablamos de **indexación** o acceso por índice a la acción de encontrar un valor según su posición en la lista.\n",
        "\n",
        "Importantísimo (sí, ¡una vez más!): En Python el primer elemento se indexa con el valor 0. Es decir, si queremos el primer valor de una lista tenemos que llamar a la posición 0."
      ]
    },
    {
      "cell_type": "code",
      "execution_count": null,
      "metadata": {
        "id": "qq_LO2mu1Y1u"
      },
      "outputs": [],
      "source": [
        "amigos[0]"
      ]
    },
    {
      "cell_type": "markdown",
      "metadata": {
        "id": "FRDBKh8j1Y1u"
      },
      "source": [
        "Además, el último elemento se indexa como -1, el siguiente -2 y así sucesivamente. Entonces para acceder al último elemento:"
      ]
    },
    {
      "cell_type": "code",
      "execution_count": null,
      "metadata": {
        "id": "8flee1sy1Y1u"
      },
      "outputs": [],
      "source": [
        "amigos[-1]"
      ]
    },
    {
      "cell_type": "markdown",
      "metadata": {
        "id": "bSvwz3gY1Y1u"
      },
      "source": [
        "Además, podemos acceder a varios elementos en simultáneo, usando el **slicing** de la misma manera que con strings.\n",
        "\n",
        "El slicing aplicado a una lista nos devuelve una **lista**.\n",
        "\n",
        "Veamos algunos ejemplos:"
      ]
    },
    {
      "cell_type": "code",
      "execution_count": null,
      "metadata": {
        "id": "e90eN6qP1Y1u"
      },
      "outputs": [],
      "source": [
        "amigos[:] # arranco en 0 hasta el final, con el paso default (1)"
      ]
    },
    {
      "cell_type": "code",
      "execution_count": null,
      "metadata": {
        "id": "11d3E5TF1Y1u"
      },
      "outputs": [],
      "source": [
        "amigos[:1] # arranco en 0 y el primero sin incluir es el 1, con el paso default (1)"
      ]
    },
    {
      "cell_type": "code",
      "execution_count": null,
      "metadata": {
        "id": "KFq-ijrG1Y1u"
      },
      "outputs": [],
      "source": [
        "amigos[:-1] # excluímos el último elemento"
      ]
    },
    {
      "cell_type": "code",
      "execution_count": null,
      "metadata": {
        "id": "QlijrCg31Y1u"
      },
      "outputs": [],
      "source": [
        "amigos[::2] # salteamos un elemento a la vez"
      ]
    },
    {
      "cell_type": "markdown",
      "metadata": {
        "id": "iCqYbI-d1Y1u"
      },
      "source": [
        "Ejercicios:\n",
        "\n",
        "1- ¿Es el resultado de amigos[:1] igual al de acceder directamente a la primera posición?\n",
        "\n",
        "2- Recorrer la lista de elementos de atrás para adelante.\n",
        "\n",
        "3- Seleccionar del 3er elemento al 4to elemento."
      ]
    },
    {
      "cell_type": "markdown",
      "metadata": {
        "id": "kEhqerC_1Y1u"
      },
      "source": [
        "### Otras operaciones y métodos"
      ]
    },
    {
      "cell_type": "markdown",
      "metadata": {
        "id": "XUgvhqah1Y1u"
      },
      "source": [
        "Agregar un nuevo elemento:"
      ]
    },
    {
      "cell_type": "code",
      "execution_count": null,
      "metadata": {
        "id": "XZDmSIIQ1Y1v"
      },
      "outputs": [],
      "source": [
        "amigos.append('Chicharito')\n",
        "print(amigos)\n",
        "\n",
        "amigos = amigos + ['Chicharito']\n",
        "\n",
        "x = 10\n",
        "\n",
        "x = x + 3\n",
        "\n",
        "x"
      ]
    },
    {
      "cell_type": "markdown",
      "metadata": {
        "id": "42ENuvEO1Y1v"
      },
      "source": [
        "Sumamos otra lista:"
      ]
    },
    {
      "cell_type": "code",
      "execution_count": null,
      "metadata": {
        "id": "9KMQ2WVN1Y1v"
      },
      "outputs": [],
      "source": [
        "amigos = amigos + ['Pipi', 'Toto']\n",
        "print(amigos)"
      ]
    },
    {
      "cell_type": "markdown",
      "metadata": {
        "id": "eVMTRStD1Y1v"
      },
      "source": [
        "Unir una lista con un separador dado:"
      ]
    },
    {
      "cell_type": "code",
      "execution_count": null,
      "metadata": {
        "id": "kovqfuea1Y1v"
      },
      "outputs": [],
      "source": [
        "ejemplo = ['valor1', 'valor2', 'valor3']\n",
        "';'.join(ejemplo)"
      ]
    },
    {
      "cell_type": "markdown",
      "metadata": {
        "id": "pprtqjfG1Y1v"
      },
      "source": [
        "El ejercicio 1 se podría haber resuelto usando .join así:"
      ]
    },
    {
      "cell_type": "code",
      "execution_count": null,
      "metadata": {
        "id": "RSzmxQ9E1Y1v"
      },
      "outputs": [],
      "source": [
        "\" \".join([\"hola\", \"qué tal\"])"
      ]
    },
    {
      "cell_type": "markdown",
      "metadata": {
        "id": "x7j1gmER1Y1v"
      },
      "source": [
        "Borrado por valor:"
      ]
    },
    {
      "cell_type": "code",
      "execution_count": null,
      "metadata": {
        "id": "4_T1c2Ex1Y1v"
      },
      "outputs": [],
      "source": [
        "amigos.remove('Mateo')\n",
        "print(amigos)"
      ]
    },
    {
      "cell_type": "markdown",
      "metadata": {
        "id": "lotiWhcz1Y1v"
      },
      "source": [
        "Borrado por índice:"
      ]
    },
    {
      "cell_type": "code",
      "execution_count": null,
      "metadata": {
        "scrolled": true,
        "id": "j6l2QGhU1Y1v"
      },
      "outputs": [],
      "source": [
        "del amigos[0]\n",
        "print(amigos)"
      ]
    },
    {
      "cell_type": "markdown",
      "metadata": {
        "id": "HRnkjd-L1Y1v"
      },
      "source": [
        "Devuelve un elemento y lo borra de la lista:"
      ]
    },
    {
      "cell_type": "code",
      "execution_count": null,
      "metadata": {
        "id": "qnvUlBf91Y1w"
      },
      "outputs": [],
      "source": [
        "valor = amigos.pop(0)"
      ]
    },
    {
      "cell_type": "code",
      "execution_count": null,
      "metadata": {
        "id": "LSJbJ9SN1Y1w"
      },
      "outputs": [],
      "source": [
        "edades = [30, 40, 38, 30, 37]"
      ]
    },
    {
      "cell_type": "markdown",
      "metadata": {
        "id": "NvIWiqk31Y1w"
      },
      "source": [
        "Cantidad de apariciones:"
      ]
    },
    {
      "cell_type": "code",
      "execution_count": null,
      "metadata": {
        "id": "OF8qJjGs1Y1w"
      },
      "outputs": [],
      "source": [
        "print(edades.count(30))"
      ]
    },
    {
      "cell_type": "markdown",
      "metadata": {
        "id": "DobyO0Em1Y1w"
      },
      "source": [
        "Largo de la lista:"
      ]
    },
    {
      "cell_type": "code",
      "execution_count": null,
      "metadata": {
        "id": "TMBJFnjf1Y1w"
      },
      "outputs": [],
      "source": [
        "print(len(edades))"
      ]
    },
    {
      "cell_type": "markdown",
      "metadata": {
        "id": "gtqYpI7B1Y1w"
      },
      "source": [
        "Ordenar la lista:"
      ]
    },
    {
      "cell_type": "code",
      "execution_count": null,
      "metadata": {
        "id": "Ht3r-GV11Y1w"
      },
      "outputs": [],
      "source": [
        "sorted(edades)"
      ]
    },
    {
      "cell_type": "markdown",
      "metadata": {
        "id": "hkJsl0Kh1Y1w"
      },
      "source": [
        "Sumar el total:"
      ]
    },
    {
      "cell_type": "code",
      "execution_count": null,
      "metadata": {
        "id": "fIl39c2U1Y1w"
      },
      "outputs": [],
      "source": [
        "print(sum(edades))"
      ]
    },
    {
      "cell_type": "markdown",
      "metadata": {
        "id": "jar3Evjx1Y1w"
      },
      "source": [
        "Mínimo:"
      ]
    },
    {
      "cell_type": "code",
      "execution_count": null,
      "metadata": {
        "id": "yampCvfm1Y1w"
      },
      "outputs": [],
      "source": [
        "print(min(edades))"
      ]
    },
    {
      "cell_type": "markdown",
      "metadata": {
        "id": "mBXbo1Z-1Y1w"
      },
      "source": [
        "Máximo:"
      ]
    },
    {
      "cell_type": "code",
      "execution_count": null,
      "metadata": {
        "id": "pI64wxBO1Y1x"
      },
      "outputs": [],
      "source": [
        "print(max(edades))"
      ]
    },
    {
      "cell_type": "markdown",
      "metadata": {
        "id": "MVV72qaD1Y1x"
      },
      "source": [
        "Ejercicio: <a name=\"section-7\"></a>\n",
        "\n",
        "1- Calcular el promedio de edad de la lista \"edades\"\n"
      ]
    },
    {
      "cell_type": "code",
      "execution_count": null,
      "metadata": {
        "id": "7bmvbPB71Y1x"
      },
      "outputs": [],
      "source": [
        "# Ejercicio 1"
      ]
    },
    {
      "cell_type": "markdown",
      "metadata": {
        "id": "Y5g6aXpa1Y1x"
      },
      "source": [
        "## Diccionarios <a name=\"section-8\"></a>\n",
        "\n",
        "Los diccionarios consisten en estructuras que contienen pares de una **llave** y un **valor**. Los elementos NO están ordenados, con lo cual no se puede acceder por posición ni slicing.\n",
        "\n",
        "Veamos un ejemplo"
      ]
    },
    {
      "cell_type": "code",
      "execution_count": null,
      "metadata": {
        "id": "6XkV42l-1Y1x"
      },
      "outputs": [],
      "source": [
        "dnis = {'Herrera':32676585, 'Guzmán':9564787,\n",
        "        'Pérez':5676898, 'Hernández':40565999,\n",
        "        'Abraham':28375814,\n",
        "       \"soy_una_llave\":\"soy_un_valor\"}"
      ]
    },
    {
      "cell_type": "markdown",
      "metadata": {
        "id": "Yf_XX97J1Y1x"
      },
      "source": [
        "Sin embargo, sí podemos acceder a un elemento por su llave. Accedemos al valor de \"Abraham\""
      ]
    },
    {
      "cell_type": "code",
      "execution_count": null,
      "metadata": {
        "id": "N4kj9Yh_1Y1x"
      },
      "outputs": [],
      "source": [
        "dnis['Abraham'] # noten que se usa la misma notación que con las listas"
      ]
    },
    {
      "cell_type": "markdown",
      "metadata": {
        "id": "_1iv9Zvn1Y1x"
      },
      "source": [
        "¿Qué pasa si tratamos un diccionario como una lista?"
      ]
    },
    {
      "cell_type": "code",
      "execution_count": null,
      "metadata": {
        "id": "vPM8wTx01Y1x"
      },
      "outputs": [],
      "source": [
        "dnis[0]"
      ]
    },
    {
      "cell_type": "markdown",
      "metadata": {
        "id": "4lXDoCql1Y1x"
      },
      "source": [
        "Tenemos un error, tratemos de interpretarlo: KeyError se refierre a que no existe una llave (Key) a la que se trató de acceder. En este caso la llave que se trató de acceder es 0."
      ]
    },
    {
      "cell_type": "markdown",
      "metadata": {
        "id": "ev9LA25x1Y1x"
      },
      "source": [
        "Podemos ver todas las llaves:"
      ]
    },
    {
      "cell_type": "code",
      "execution_count": null,
      "metadata": {
        "id": "TPuMga0o1Y1x"
      },
      "outputs": [],
      "source": [
        "dnis.keys()"
      ]
    },
    {
      "cell_type": "markdown",
      "metadata": {
        "id": "7qzmQluL1Y1y"
      },
      "source": [
        "Traer todos los pares de elementos:"
      ]
    },
    {
      "cell_type": "code",
      "execution_count": null,
      "metadata": {
        "id": "KTUzfgRV1Y1y"
      },
      "outputs": [],
      "source": [
        "dnis.items()"
      ]
    },
    {
      "cell_type": "markdown",
      "metadata": {
        "id": "glCoYIVI1Y1y"
      },
      "source": [
        "Y utilizar los mismos métodos para borrar y extrar como en las listas:"
      ]
    },
    {
      "cell_type": "code",
      "execution_count": null,
      "metadata": {
        "id": "wIXyIaRp1Y1y"
      },
      "outputs": [],
      "source": [
        "dnis.pop('Herrera')"
      ]
    },
    {
      "cell_type": "markdown",
      "metadata": {
        "id": "-xBYD94A1Y1y"
      },
      "source": [
        "Los diccionarios tienen longitud, de la misma forma que las listas y string"
      ]
    },
    {
      "cell_type": "code",
      "execution_count": null,
      "metadata": {
        "id": "ubAvzsjS1Y1y"
      },
      "outputs": [],
      "source": [
        "len(dnis)"
      ]
    },
    {
      "cell_type": "markdown",
      "metadata": {
        "id": "p_SHO0a61Y1y"
      },
      "source": [
        "## Condicionales <a name=\"section-9\"></a>\n",
        "\n",
        "El condicional tiene la siguiente sintáxis:\n",
        "\n",
        "    if CONDICIÓN:\n",
        "        código1\n",
        "    elif CONDICIÓN2:\n",
        "        código2\n",
        "    else:\n",
        "        código3\n",
        "        \n",
        "Donde la condición es un operador que devuelve un objeto de tipo booleano. La **indentación** del código define qué parte se incluye como condicional.\n",
        "\n",
        "El término \"elif\" viene de \"else if\". La condición sólo se evaluará si la condición del \"if\" no se cumple."
      ]
    },
    {
      "cell_type": "code",
      "execution_count": null,
      "metadata": {
        "id": "HaH3Y7s71Y1y"
      },
      "outputs": [],
      "source": [
        "precio_dolar = 62\n",
        "\n",
        "if precio_dolar >= 90:\n",
        "    print(\"El dólar se fue por las nubes\")\n",
        "elif (precio_dolar < 90) and (precio_dolar >= 70):\n",
        "    print(\"El dolar subió\")\n",
        "else:\n",
        "    print(\"El dólar es menor a 70\")\n",
        "\n",
        "print(precio_dolar)"
      ]
    },
    {
      "cell_type": "markdown",
      "metadata": {
        "id": "yTHcHY2L1Y1y"
      },
      "source": [
        "## Bucles o Loops\n",
        "\n",
        "Los bucles son un tipo de sentencia donde se realiza el código contenido repetidamente. Existen dos tipos. En el bucle **for**, se **itera** o recorre un conjunto de elementos actuando por cada uno de ellos. En el bucle **while** se itera hasta que se cumple una condiciónn de corte."
      ]
    },
    {
      "cell_type": "markdown",
      "metadata": {
        "id": "e-DQl15H1Y1y"
      },
      "source": [
        "### For loop"
      ]
    },
    {
      "cell_type": "code",
      "execution_count": null,
      "metadata": {
        "id": "jYvvgl4b1Y1y"
      },
      "outputs": [],
      "source": [
        "for n in [1,2,'3']:\n",
        "    print(f'EL tipo es {n*2} {type(n*2)}')"
      ]
    },
    {
      "cell_type": "code",
      "execution_count": null,
      "metadata": {
        "id": "TXNHKpvF1Y1y"
      },
      "outputs": [],
      "source": [
        "lista = [1,2,3,4,5]\n",
        "\n",
        "for n in lista:\n",
        "    print(n * 2)"
      ]
    },
    {
      "cell_type": "markdown",
      "metadata": {
        "id": "WprkuHQ-1Y1z"
      },
      "source": [
        "También agreguemos la función **range** a nuestro repertorio. La función range consta de tres parámetros importante: start, stop, step. Si pasamos un sólo parámetro, estamos pasando el \"stop\" y tomamos 0 como valor default de \"start\". Del mismo modo que cuando vimos listas, el stop no está incluído y el step por default es 1.\n",
        "\n",
        "Veamos cómo funciona:"
      ]
    },
    {
      "cell_type": "code",
      "execution_count": null,
      "metadata": {
        "id": "1Y9VR_Sq1Y1z"
      },
      "outputs": [],
      "source": [
        "for n in range(5):\n",
        "    print(n)"
      ]
    },
    {
      "cell_type": "markdown",
      "metadata": {
        "id": "beE36NcQ1Y1z"
      },
      "source": [
        "Si pasamos dos parámetros, estamos pasando el start y el stop, el primer valor es el \"start\" y el segundo el \"stop\"."
      ]
    },
    {
      "cell_type": "code",
      "execution_count": null,
      "metadata": {
        "id": "eDBaWoNm1Y1z"
      },
      "outputs": [],
      "source": [
        "for n in range(0,5):\n",
        "    print(n)"
      ]
    },
    {
      "cell_type": "markdown",
      "metadata": {
        "id": "qTiqfX991Y1z"
      },
      "source": [
        "Noten que el valor de start se incluye y el de stop no:"
      ]
    },
    {
      "cell_type": "code",
      "execution_count": null,
      "metadata": {
        "id": "4eQ3JjKJ1Y1z"
      },
      "outputs": [],
      "source": [
        "for n in range(1, 6): # esto nos da el mismo resultado que un par de celdas más arriba\n",
        "    print(n * 2)"
      ]
    },
    {
      "cell_type": "markdown",
      "metadata": {
        "id": "a_91BqUg1Y1z"
      },
      "source": [
        "Por último, el tercer parámetro es el step..."
      ]
    },
    {
      "cell_type": "markdown",
      "metadata": {
        "id": "rEq9lAn31Y1z"
      },
      "source": [
        "Ejercicios combinando lo visto hasta el momento:\n",
        "\n",
        "1- Imprimir los valores de 1 a 50, salteando de a un valor por vez...\n",
        "\n",
        "2- Dada la siguiente lista: medios = [\"cheques\", \"bonos\", \"acciones\", 1000, \"transferencia\"]. Acceder al 2do elemento, y luego al 3er elemento (de ese 2do elemento) y responder qué devulve.\n",
        "\n",
        "3- De manera similar, ahora accedan al 4to elemento, y luego al 3er elemento de éste, ¿qué ocurre?\n",
        "\n",
        "4- Agreguen una lista vacía al final de esa lista.\n",
        "\n",
        "5- Recorran *medios* (iteren) y si el tipo del elemento es string, hagan un print de su primer elemento, si es int (entero) pásenlo a string y hagan un print de su primer elemento y si no es nada de eso hagan un print que diga \"Es otro tipo\". Tip1: para pasar un elemento a tipo string pueden usar la función str(variable), donde variable es el elemento que quieren transformar. Tip2: para arrancar este ejercicio pueden copiar lo siguiente:"
      ]
    },
    {
      "cell_type": "code",
      "execution_count": null,
      "metadata": {
        "id": "_iXG95un1Y1z"
      },
      "outputs": [],
      "source": [
        "for medio in medios:\n",
        "    pass # pass no hace nada, sólo pasa sin ejecutar nada... Reemplácenlo y completen con las condiciones."
      ]
    },
    {
      "cell_type": "markdown",
      "metadata": {
        "id": "0M1NpVpl1Y1z"
      },
      "source": [
        "### While loop"
      ]
    },
    {
      "cell_type": "markdown",
      "metadata": {
        "id": "SyOdg5dJ1Y1z"
      },
      "source": [
        "Los bucles **while** se definen con una condición, y el código contenido se ejecuta mientras la misma evalue como True. Es importante definir correctamente cuándo la condición pasa de True a False, si no lo hacemos podemos dejar corriendo un programa infinitamente sin que corte. Si eso llega a suceder tienen un botón de stop arriba en la notebook."
      ]
    },
    {
      "cell_type": "code",
      "execution_count": null,
      "metadata": {
        "id": "RvgZTqrs1Y1z"
      },
      "outputs": [],
      "source": [
        "contador = 0\n",
        "\n",
        "while contador < 20:\n",
        "    contador += 1 # esto equivale a count = count + 1\n",
        "    print(contador)"
      ]
    },
    {
      "cell_type": "markdown",
      "metadata": {
        "id": "0URdfLfu1Y10"
      },
      "source": [
        "---\n",
        "\n",
        "## Recursos y tips\n",
        "\n",
        "\n",
        "- [Google!](https://google.com)\n",
        "- [StackOverflow](https://stackoverflow.com)\n",
        "- [Google Colab](https://colab.research.google.com)\n",
        "- [Slicing](https://python-reference.readthedocs.io/en/latest/docs/brackets/slicing.html)\n",
        "---\n",
        "\n",
        "## Tips en la práctica\n",
        "\n",
        "- Ver _docstring_ con Shift + TAB o help()\n",
        "- Leer Errores\n",
        "- Print"
      ]
    },
    {
      "cell_type": "code",
      "execution_count": null,
      "metadata": {
        "id": "5x6PhvQh1Y10"
      },
      "outputs": [],
      "source": []
    }
  ],
  "metadata": {
    "kernelspec": {
      "display_name": "conda_python3",
      "language": "python",
      "name": "conda_python3"
    },
    "language_info": {
      "codemirror_mode": {
        "name": "ipython",
        "version": 3
      },
      "file_extension": ".py",
      "mimetype": "text/x-python",
      "name": "python",
      "nbconvert_exporter": "python",
      "pygments_lexer": "ipython3",
      "version": "3.6.10"
    },
    "colab": {
      "provenance": []
    }
  },
  "nbformat": 4,
  "nbformat_minor": 0
}