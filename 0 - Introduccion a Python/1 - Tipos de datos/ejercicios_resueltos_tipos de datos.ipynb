{
  "cells": [
    {
      "cell_type": "markdown",
      "metadata": {
        "id": "OYShUfTTjUVM"
      },
      "source": [
        "<a href=\"https://colab.research.google.com/github/institutohumai/cursos-python/blob/master/Introduccion/1_TiposDatos/ejercicio/ejercicios-solucion.ipynb\"> <img src='https://colab.research.google.com/assets/colab-badge.svg' /> </a>\n",
        "<div align=\"center\"> Recordá abrir en una nueva pestaña </div>\n"
      ]
    },
    {
      "cell_type": "markdown",
      "metadata": {
        "id": "fv2hUu7EjUWb"
      },
      "source": [
        "# 1- Cambiar un texto\n",
        "\n",
        "Necesitamos mostrar en nuestra web la sinopsis de las películas. El problema es que tenemos los textos separados por pipes (\"|\") en lugar de saltos de línea."
      ]
    },
    {
      "cell_type": "code",
      "execution_count": null,
      "metadata": {
        "id": "X-2ksEoyjUWd"
      },
      "outputs": [],
      "source": [
        "string = 'Sinopsis | Marty McFly, un típico adolescente americano de los años ochenta, '\\\n",
        "'es accidentalmente enviado de vuelta a 1955 en una \"máquina del tiempo\" realizada con'\\\n",
        "'un DeLorean inventada por un científico un poco loco. | En este viaje, Marty debe '\\\n",
        "'asegurarse de que sus padres se encuentren y se enamoren, para que pueda volver a su tiempo. '"
      ]
    },
    {
      "cell_type": "code",
      "execution_count": null,
      "metadata": {
        "id": "eVBQO21ujUWf",
        "outputId": "57231395-c2be-491d-8a87-e87e678755a0"
      },
      "outputs": [
        {
          "name": "stdout",
          "output_type": "stream",
          "text": [
            "Sinopsis | Marty McFly, un típico adolescente americano de los años ochenta, es accidentalmente enviado de vuelta a 1955 en una \"máquina del tiempo\" realizada conun DeLorean inventada por un científico un poco loco. | En este viaje, Marty debe asegurarse de que sus padres se encuentren y se enamoren, para que pueda volver a su tiempo. \n"
          ]
        }
      ],
      "source": [
        "print(string)"
      ]
    },
    {
      "cell_type": "markdown",
      "metadata": {
        "id": "sYwYQWVKjUWg"
      },
      "source": [
        "¿Cómo podríamos hacer para que la función \"print\" muestre saltos de línea en lugar de pipes?"
      ]
    },
    {
      "cell_type": "code",
      "execution_count": null,
      "metadata": {
        "id": "0neyVCAwjUWg"
      },
      "outputs": [],
      "source": [
        "string2 = string.replace('|','\\n')"
      ]
    },
    {
      "cell_type": "code",
      "execution_count": null,
      "metadata": {
        "id": "6FBDUiPkjUWh",
        "outputId": "577b58d5-3d40-4f44-a72b-0226c4d0a597"
      },
      "outputs": [
        {
          "name": "stdout",
          "output_type": "stream",
          "text": [
            "Sinopsis \n",
            " Marty McFly, un típico adolescente americano de los años ochenta, es accidentalmente enviado de vuelta a 1955 en una \"máquina del tiempo\" realizada conun DeLorean inventada por un científico un poco loco. \n",
            " En este viaje, Marty debe asegurarse de que sus padres se encuentren y se enamoren, para que pueda volver a su tiempo. \n"
          ]
        }
      ],
      "source": [
        "print(string2)"
      ]
    },
    {
      "cell_type": "markdown",
      "metadata": {
        "id": "NDX-izV9jUWh"
      },
      "source": [
        "# 2 - Crear un acrónimo\n",
        "\n",
        "Ahora nos piden crear un acrónimo (una palabra compuesta por la primera letra de cada palabra) de cada título. Pero antes de eso es necesario que transformemos los títulos a \"title case\" porque no todos van a llegar prolijos. Entonces, el acrónimo de \"Volver al futuro\" debería ser \"VAF\".\n"
      ]
    },
    {
      "cell_type": "code",
      "execution_count": null,
      "metadata": {
        "id": "SBvZG79RjUWi"
      },
      "outputs": [],
      "source": [
        "titulo = 'Volver al futuro'"
      ]
    },
    {
      "cell_type": "code",
      "execution_count": null,
      "metadata": {
        "id": "Pee9rghjjUWj"
      },
      "outputs": [],
      "source": [
        "# 1. Transformar el string a \"title case\"\n",
        "\n",
        "titulo = titulo.title()"
      ]
    },
    {
      "cell_type": "code",
      "execution_count": null,
      "metadata": {
        "id": "QBy2XjzajUWj"
      },
      "outputs": [],
      "source": [
        "# 2. Crear una lista con todas las palabras del string\n",
        "\n",
        "lista_palabras = titulo.split(' ')"
      ]
    },
    {
      "cell_type": "code",
      "execution_count": null,
      "metadata": {
        "id": "NSsHEoN-jUWk",
        "outputId": "a58103d3-d4ed-4b17-8f96-dca18f38cba4"
      },
      "outputs": [
        {
          "name": "stdout",
          "output_type": "stream",
          "text": [
            "VAF\n"
          ]
        }
      ],
      "source": [
        "# 3. Recorrer la lista y agregar al acrónimo la primera letra de cada palabra\n",
        "\n",
        "acronimo = ''\n",
        "for palabra in lista_palabras:\n",
        "    acronimo = acronimo + palabra[0]\n",
        "\n",
        "print(acronimo)"
      ]
    },
    {
      "cell_type": "markdown",
      "metadata": {
        "id": "X7NNnszFjUWk"
      },
      "source": [
        "# 3 - Evaluar si un número es par o impar\n",
        "Con que operación podríamos evaluar si un número es par o impar?"
      ]
    },
    {
      "cell_type": "code",
      "execution_count": null,
      "metadata": {
        "id": "sD_C_HHSjUWl",
        "outputId": "52c452fe-7412-420b-f546-c893003a4451"
      },
      "outputs": [
        {
          "name": "stdout",
          "output_type": "stream",
          "text": [
            "El número es impar.\n"
          ]
        }
      ],
      "source": [
        "numero = 3\n",
        "\n",
        "if numero % 2 == 0: # Recordemos que el operador '%' devuelve el resto de la división.\n",
        "  print('El número es par.')\n",
        "else:\n",
        "  print('El número es impar.')"
      ]
    },
    {
      "cell_type": "markdown",
      "metadata": {
        "id": "FMudWLj-jUWl"
      },
      "source": [
        "# 4 - Dividir pares e impartes  \n",
        "\n",
        "Dado el siguiente rango de valores enteros con distancia de una unidad:\n",
        "\n",
        "```\n",
        "range(4,10)\n",
        "```\n",
        "\n",
        "separar en listas los números pares e impares iterando por cada elemento del intervalo"
      ]
    },
    {
      "cell_type": "code",
      "execution_count": null,
      "metadata": {
        "id": "qQicg0VyjUWm",
        "outputId": "689ee988-1690-4cd7-dc8f-c9ef88a34a77"
      },
      "outputs": [
        {
          "name": "stdout",
          "output_type": "stream",
          "text": [
            "pares: [4, 6, 8] impares: [5, 7, 9]\n"
          ]
        }
      ],
      "source": [
        "pares = []\n",
        "impares = []\n",
        "\n",
        "for i in range(4,10):\n",
        "  if i%2 == 0:\n",
        "    pares.append(i)\n",
        "  else:\n",
        "    impares.append(i)\n",
        "\n",
        "print('pares:', pares, 'impares:', impares)"
      ]
    },
    {
      "cell_type": "code",
      "execution_count": null,
      "metadata": {
        "id": "e3ILaMv5jUWm",
        "outputId": "0af358ab-c5ff-4829-917e-14eac0156bf9"
      },
      "outputs": [
        {
          "name": "stdout",
          "output_type": "stream",
          "text": [
            "pares: [4, 6, 8] impares: [5, 7, 9]\n"
          ]
        }
      ],
      "source": [
        "# Otra posibilidad es utilizar listas de comprensión\n",
        "\n",
        "pares = [i for i in range(4,10) if i%2 == 0]\n",
        "impares = [i for i in range(4,10) if i%2 != 0]\n",
        "\n",
        "print('pares:', pares, 'impares:', impares)"
      ]
    }
  ],
  "metadata": {
    "kernelspec": {
      "display_name": "env_humai_estudiantes",
      "language": "python",
      "name": "python3"
    },
    "language_info": {
      "codemirror_mode": {
        "name": "ipython",
        "version": 3
      },
      "file_extension": ".py",
      "mimetype": "text/x-python",
      "name": "python",
      "nbconvert_exporter": "python",
      "pygments_lexer": "ipython3",
      "version": "3.10.9"
    },
    "colab": {
      "provenance": []
    }
  },
  "nbformat": 4,
  "nbformat_minor": 0
}