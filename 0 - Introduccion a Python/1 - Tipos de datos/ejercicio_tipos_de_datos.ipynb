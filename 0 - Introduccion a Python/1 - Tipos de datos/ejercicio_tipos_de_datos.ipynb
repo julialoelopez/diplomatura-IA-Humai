{
  "cells": [
    {
      "cell_type": "markdown",
      "metadata": {
        "id": "Wk4h6mjY_9Yu"
      },
      "source": [
        "<a href=\"https://colab.research.google.com/github/institutohumai/cursos-python/blob/master/Introduccion/1_TiposDatos/ejercicio/ejercicios.ipynb\"> <img src='https://colab.research.google.com/assets/colab-badge.svg' /> </a>\n",
        "<div align=\"center\"> Recordá abrir en una nueva pestaña </div>\n"
      ]
    },
    {
      "cell_type": "markdown",
      "metadata": {
        "id": "icvqxGGg_9Y6"
      },
      "source": [
        "# Ejercicios I"
      ]
    },
    {
      "cell_type": "markdown",
      "metadata": {
        "id": "5BT4_2Gd_9Y7"
      },
      "source": [
        "## 1- Cambiar un texto\n",
        "\n",
        "Necesitamos mostrar en nuestra web la sinopsis de las películas. El problema es que tenemos los textos separados por pipes (\"|\") en lugar de saltos de línea."
      ]
    },
    {
      "cell_type": "code",
      "execution_count": null,
      "metadata": {
        "id": "YjRIKwyb_9Y9"
      },
      "outputs": [],
      "source": [
        "string = 'Sinopsis | Marty McFly, un típico adolescente americano de los años ochenta, '\\\n",
        "'es accidentalmente enviado de vuelta a 1955 en una \"máquina del tiempo\" realizada con'\\\n",
        "'un DeLorean inventada por un científico un poco loco. | En este viaje, Marty debe '\\\n",
        "'asegurarse de que sus padres se encuentren y se enamoren, para que pueda volver a su tiempo. '"
      ]
    },
    {
      "cell_type": "code",
      "execution_count": null,
      "metadata": {
        "id": "S-JDll4__9ZA",
        "outputId": "bd1620a3-1931-45e0-b633-de504d679be7",
        "colab": {
          "base_uri": "https://localhost:8080/"
        }
      },
      "outputs": [
        {
          "output_type": "stream",
          "name": "stdout",
          "text": [
            "Sinopsis | Marty McFly, un típico adolescente americano de los años ochenta, es accidentalmente enviado de vuelta a 1955 en una \"máquina del tiempo\" realizada conun DeLorean inventada por un científico un poco loco. | En este viaje, Marty debe asegurarse de que sus padres se encuentren y se enamoren, para que pueda volver a su tiempo. \n"
          ]
        }
      ],
      "source": [
        "print(string)"
      ]
    },
    {
      "cell_type": "code",
      "source": [
        "string = string.replace('|' , '\\n')\n",
        "print(string)"
      ],
      "metadata": {
        "id": "1bVKSfXPIlMv",
        "outputId": "56e7d020-6f9f-4055-9785-78c3a7ac5387",
        "colab": {
          "base_uri": "https://localhost:8080/"
        }
      },
      "execution_count": null,
      "outputs": [
        {
          "output_type": "stream",
          "name": "stdout",
          "text": [
            "Sinopsis \n",
            " Marty McFly, un típico adolescente americano de los años ochenta, es accidentalmente enviado de vuelta a 1955 en una \"máquina del tiempo\" realizada conun DeLorean inventada por un científico un poco loco. \n",
            " En este viaje, Marty debe asegurarse de que sus padres se encuentren y se enamoren, para que pueda volver a su tiempo. \n"
          ]
        }
      ]
    },
    {
      "cell_type": "markdown",
      "metadata": {
        "id": "WR5pRiH3_9ZD"
      },
      "source": [
        "## 2 - Crear un acrónimo\n",
        "\n",
        "Ahora nos piden crear un acrónimo (una palabra compuesta por la primera letra de cada palabra) de cada título. Pero antes de eso es necesario que transformemos los títulos a \"title case\" porque no todos van a llegar prolijos. Entonces, el acrónimo de \"Volver al futuro\" debería ser \"VAF\".\n"
      ]
    },
    {
      "cell_type": "code",
      "execution_count": null,
      "metadata": {
        "id": "9pGrRm4B_9ZE"
      },
      "outputs": [],
      "source": [
        "titulo = 'Volver al futuro'"
      ]
    },
    {
      "cell_type": "code",
      "execution_count": null,
      "metadata": {
        "id": "PuN3KLdB_9ZG"
      },
      "outputs": [],
      "source": [
        "# 1. Transformar el string a \"title case\""
      ]
    },
    {
      "cell_type": "code",
      "source": [
        "titulo = titulo.title()\n",
        "titulo"
      ],
      "metadata": {
        "id": "y8HG3JgCJdIf",
        "outputId": "5ae68031-6475-41d9-80c9-7eaa2765285d",
        "colab": {
          "base_uri": "https://localhost:8080/",
          "height": 35
        }
      },
      "execution_count": null,
      "outputs": [
        {
          "output_type": "execute_result",
          "data": {
            "text/plain": [
              "'Volver Al Futuro'"
            ],
            "application/vnd.google.colaboratory.intrinsic+json": {
              "type": "string"
            }
          },
          "metadata": {},
          "execution_count": 11
        }
      ]
    },
    {
      "cell_type": "code",
      "execution_count": null,
      "metadata": {
        "id": "t_p2fgdr_9ZK"
      },
      "outputs": [],
      "source": [
        "# 2. Crear una lista con todas las palabras del string"
      ]
    },
    {
      "cell_type": "code",
      "source": [
        "lista = titulo.split()\n",
        "lista"
      ],
      "metadata": {
        "id": "M8aLbpeNK-8m",
        "outputId": "a2bffd6d-9d61-42ee-d56d-aaeef3e38bcf",
        "colab": {
          "base_uri": "https://localhost:8080/"
        }
      },
      "execution_count": null,
      "outputs": [
        {
          "output_type": "execute_result",
          "data": {
            "text/plain": [
              "['Volver', 'Al', 'Futuro']"
            ]
          },
          "metadata": {},
          "execution_count": 13
        }
      ]
    },
    {
      "cell_type": "code",
      "execution_count": null,
      "metadata": {
        "id": "leJ7MZGd_9ZL",
        "outputId": "c83699de-09c9-4966-df20-dd7057421a3c",
        "colab": {
          "base_uri": "https://localhost:8080/"
        }
      },
      "outputs": [
        {
          "output_type": "stream",
          "name": "stdout",
          "text": [
            "VAF\n"
          ]
        }
      ],
      "source": [
        "# 3. Recorrer la lista y agregar al acrónimo la primera letra de cada palabra\n",
        "acronimo = ''\n",
        "for palabra in lista:\n",
        "  acronimo += palabra[0]\n",
        "print(acronimo)"
      ]
    },
    {
      "cell_type": "markdown",
      "source": [
        "## 3 - Evaluar si un número es par o impar\n",
        "\n",
        "Con que operación podríamos evaluar si un número es par o impar"
      ],
      "metadata": {
        "id": "uYRnWj-B4sw1"
      }
    },
    {
      "cell_type": "code",
      "source": [
        "numero = 6\n",
        "if numero % 2 == 0:\n",
        "  print('El numero es par')\n",
        "else:\n",
        "  print('El numero es impar')"
      ],
      "metadata": {
        "id": "SwHvDZHUD9ak",
        "outputId": "f97af52e-9e01-4467-817f-5379665b42ec",
        "colab": {
          "base_uri": "https://localhost:8080/"
        }
      },
      "execution_count": null,
      "outputs": [
        {
          "output_type": "stream",
          "name": "stdout",
          "text": [
            "El numero es par\n"
          ]
        }
      ]
    },
    {
      "cell_type": "markdown",
      "source": [
        "## 4 - Dividir pares e impartes  \n",
        "\n",
        "Dado un rango de valores enteros con distancia de una unidad\n",
        "\n",
        "```\n",
        "range(4,10)\n",
        "```\n",
        "\n",
        "separar en listas los números pares e impartes iterando por cada elemento del intervalo"
      ],
      "metadata": {
        "id": "xlXusP6h72uI"
      }
    },
    {
      "cell_type": "code",
      "source": [
        "pares = []\n",
        "impares = []\n",
        "for numero in range(4,10):\n",
        "  if numero % 2 == 0:\n",
        "    pares.append(numero)\n",
        "  else:\n",
        "    impares.append(numero)\n",
        "\n",
        "print(pares)\n",
        "print(impares)"
      ],
      "metadata": {
        "id": "0BNXso5oG2yd",
        "outputId": "aa3c2d11-931a-44bc-fb4b-57ad6260bed3",
        "colab": {
          "base_uri": "https://localhost:8080/"
        }
      },
      "execution_count": null,
      "outputs": [
        {
          "output_type": "stream",
          "name": "stdout",
          "text": [
            "[4, 6, 8]\n",
            "[5, 7, 9]\n"
          ]
        }
      ]
    },
    {
      "cell_type": "code",
      "source": [],
      "metadata": {
        "id": "-oCrV_1fMoCF"
      },
      "execution_count": null,
      "outputs": []
    }
  ],
  "metadata": {
    "kernelspec": {
      "display_name": "conda_python3",
      "language": "python",
      "name": "conda_python3"
    },
    "language_info": {
      "codemirror_mode": {
        "name": "ipython",
        "version": 3
      },
      "file_extension": ".py",
      "mimetype": "text/x-python",
      "name": "python",
      "nbconvert_exporter": "python",
      "pygments_lexer": "ipython3",
      "version": "3.6.10"
    },
    "colab": {
      "provenance": []
    }
  },
  "nbformat": 4,
  "nbformat_minor": 0
}