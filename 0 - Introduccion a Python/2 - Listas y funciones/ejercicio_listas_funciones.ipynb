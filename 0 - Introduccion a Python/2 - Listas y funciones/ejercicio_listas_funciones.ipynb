{
  "cells": [
    {
      "cell_type": "markdown",
      "metadata": {
        "id": "No2inve0psvz"
      },
      "source": [
        "<a href=\"https://colab.research.google.com/github/institutohumai/cursos-python/blob/master/Introduccion/2_Listas_Y_Funciones/ejercicio/ejercicio.ipynb\"> <img src='https://colab.research.google.com/assets/colab-badge.svg' /> </a>\n",
        "<div align=\"center\"> Recordá abrir en una nueva pestaña </div>\n"
      ]
    },
    {
      "cell_type": "markdown",
      "metadata": {
        "id": "VMJqCRU2psv3"
      },
      "source": [
        "# Ejercicios II"
      ]
    },
    {
      "cell_type": "markdown",
      "metadata": {
        "id": "JwgKH03ypsv4"
      },
      "source": [
        "## El contador de palabras\n",
        "\n",
        "Una revista científica quiere publicar los abstracts de los trabajos que aprobó recientemente pero primero tiene que asegurarse de que ninguno de los abstracts tenga más de 200 palabras.\n",
        "\n",
        "Para interactuar con los archivos que tenemos en nuestro \"file system\" vamos a utilizar el módulo os. No se preocupen por entender todos los detalles ahora, vamos a ir profundizando en la utilización de módulos."
      ]
    },
    {
      "cell_type": "code",
      "execution_count": null,
      "metadata": {
        "id": "4TRapNc0psv4",
        "colab": {
          "base_uri": "https://localhost:8080/"
        },
        "outputId": "91a0ec86-8c2e-4538-bee3-0ec02ad67966"
      },
      "outputs": [
        {
          "output_type": "stream",
          "name": "stdout",
          "text": [
            "--2024-02-17 00:01:50--  https://datasets-humai.s3.amazonaws.com/datasets/publicaciones.zip\n",
            "Resolving datasets-humai.s3.amazonaws.com (datasets-humai.s3.amazonaws.com)... 54.231.166.89, 54.231.172.217, 52.217.66.12, ...\n",
            "Connecting to datasets-humai.s3.amazonaws.com (datasets-humai.s3.amazonaws.com)|54.231.166.89|:443... connected.\n",
            "HTTP request sent, awaiting response... 200 OK\n",
            "Length: 4342 (4.2K) [application/zip]\n",
            "Saving to: ‘publicaciones.zip’\n",
            "\n",
            "publicaciones.zip   100%[===================>]   4.24K  --.-KB/s    in 0s      \n",
            "\n",
            "2024-02-17 00:01:50 (39.6 MB/s) - ‘publicaciones.zip’ saved [4342/4342]\n",
            "\n"
          ]
        }
      ],
      "source": [
        "!wget https://datasets-humai.s3.amazonaws.com/datasets/publicaciones.zip"
      ]
    },
    {
      "cell_type": "code",
      "execution_count": null,
      "metadata": {
        "id": "2WtZ76A0psv7",
        "colab": {
          "base_uri": "https://localhost:8080/"
        },
        "outputId": "3ebea32f-6c47-408a-e644-fe41c54ffd95"
      },
      "outputs": [
        {
          "output_type": "stream",
          "name": "stdout",
          "text": [
            "Archive:  publicaciones.zip\n",
            "   creating: publicaciones/\n",
            "  inflating: publicaciones/Yukon Delta Salmon Management.txt  \n",
            "  inflating: publicaciones/The Citrus Solution Phase II.txt  \n",
            "  inflating: publicaciones/Characterization of Iron Deposition in Recombinant Heteropolymer.txt  \n",
            "  inflating: publicaciones/Using GIS Site Suitability Analysis to Study Adaptability.txt  \n"
          ]
        }
      ],
      "source": [
        "!unzip publicaciones.zip"
      ]
    },
    {
      "cell_type": "code",
      "execution_count": null,
      "metadata": {
        "id": "Q6Ol_T4fpsv7"
      },
      "outputs": [],
      "source": [
        "import os"
      ]
    },
    {
      "cell_type": "code",
      "execution_count": null,
      "metadata": {
        "id": "HRP882I6psv8"
      },
      "outputs": [],
      "source": [
        "archivos_directorio = os.listdir('publicaciones')"
      ]
    },
    {
      "cell_type": "code",
      "execution_count": null,
      "metadata": {
        "id": "nQiSc8bmpsv9",
        "colab": {
          "base_uri": "https://localhost:8080/"
        },
        "outputId": "a2c6ce8f-b932-4d2a-f4cf-308e8183b182"
      },
      "outputs": [
        {
          "output_type": "stream",
          "name": "stdout",
          "text": [
            "['Yukon Delta Salmon Management.txt', 'The Citrus Solution Phase II.txt', 'Using GIS Site Suitability Analysis to Study Adaptability.txt', 'Characterization of Iron Deposition in Recombinant Heteropolymer.txt']\n"
          ]
        }
      ],
      "source": [
        "print(archivos_directorio)"
      ]
    },
    {
      "cell_type": "markdown",
      "metadata": {
        "id": "frRICDEHpsv9"
      },
      "source": [
        "La función listdir nos devuelve una lista con todos los archivos que están en la carpeta publicaciones. Noten que solamente nos devuelve los nombres de los archivos, no la ruta completa que necesitamos para acceder a los mismos desde la ubicación en el filesystem donde se encuentra esta notebook.\n",
        "\n",
        "Las rutas hasta los archivos cambian con el sistema operativo, por eso si están en Windows, la forma de acceder al archivo Yukon Delta Salmon Management.txt es ejercicios\\\\Yukon Delta Salmon Management.txt mientras que si están en Linux o Unix la forma de acceder es ejercicios/Yukon Delta Salmon Management.txt .  Para evitar problemas y que el código sea ejecutable desde cualquier sistema operativo, el módulo os tiene la función os.join.\n",
        "\n",
        "Entonces para crear las rutas vamos a usar la función os.path.join y para esto es ideal una lista por comprensión"
      ]
    },
    {
      "cell_type": "code",
      "execution_count": null,
      "metadata": {
        "id": "RML7xRBzpsv_"
      },
      "outputs": [],
      "source": [
        "rutas_archivos = [os.path.join('publicaciones',archivo) for archivo in archivos_directorio]"
      ]
    },
    {
      "cell_type": "code",
      "execution_count": null,
      "metadata": {
        "id": "ZlykZtuZpswA",
        "colab": {
          "base_uri": "https://localhost:8080/"
        },
        "outputId": "5e9ed321-0b8b-4876-d57f-c82a08606205"
      },
      "outputs": [
        {
          "output_type": "execute_result",
          "data": {
            "text/plain": [
              "['publicaciones/Yukon Delta Salmon Management.txt',\n",
              " 'publicaciones/The Citrus Solution Phase II.txt',\n",
              " 'publicaciones/Using GIS Site Suitability Analysis to Study Adaptability.txt',\n",
              " 'publicaciones/Characterization of Iron Deposition in Recombinant Heteropolymer.txt']"
            ]
          },
          "metadata": {},
          "execution_count": 7
        }
      ],
      "source": [
        "rutas_archivos"
      ]
    },
    {
      "cell_type": "markdown",
      "metadata": {
        "id": "fesC2X83pswA"
      },
      "source": [
        "Ahora vamos a unir estas dos listas del mismo tamaño en una lista de tuplas utilizando la función \"zip\" de Python nativo. Como el zip de Python devuelve un objeto iterable, vamos a convertirlo en lista para trabajar mejor"
      ]
    },
    {
      "cell_type": "code",
      "execution_count": null,
      "metadata": {
        "id": "hoUqUO1bpswB"
      },
      "outputs": [],
      "source": [
        "tuplas_archivos = list(zip(rutas_archivos,archivos_directorio))"
      ]
    },
    {
      "cell_type": "code",
      "execution_count": null,
      "metadata": {
        "id": "rHjQF7vapswB",
        "colab": {
          "base_uri": "https://localhost:8080/"
        },
        "outputId": "48c0bf20-6800-4f03-d672-e94bef6941a6"
      },
      "outputs": [
        {
          "output_type": "stream",
          "name": "stdout",
          "text": [
            "('publicaciones/Yukon Delta Salmon Management.txt', 'Yukon Delta Salmon Management.txt')\n",
            "('publicaciones/The Citrus Solution Phase II.txt', 'The Citrus Solution Phase II.txt')\n",
            "('publicaciones/Using GIS Site Suitability Analysis to Study Adaptability.txt', 'Using GIS Site Suitability Analysis to Study Adaptability.txt')\n",
            "('publicaciones/Characterization of Iron Deposition in Recombinant Heteropolymer.txt', 'Characterization of Iron Deposition in Recombinant Heteropolymer.txt')\n"
          ]
        }
      ],
      "source": [
        "for tupla in tuplas_archivos:\n",
        "    print(tupla)"
      ]
    },
    {
      "cell_type": "markdown",
      "metadata": {
        "id": "Z_mvSZrtpswC"
      },
      "source": [
        "Ahora sí, vamos a pedirles que creen una función que reciba una tupla con la ruta y el nombre del archivo. Necesitamos que esta función cuente las palabras que hay en el txt que se encuentra en esa ruta y luego imprima el nombre del archivo y la cantidad.\n",
        "Después vamos a escribir un for loop que recorra la lista tuplas_archivos y devuelve una tupla con el nombre del archivo y la cantidad de palabras. Desde el loop for vamos a imprimir esa tupla.\n"
      ]
    },
    {
      "cell_type": "code",
      "execution_count": null,
      "metadata": {
        "id": "lKQQcA9NpswC"
      },
      "outputs": [],
      "source": [
        "# 1. Escribir la función\n",
        "def contarPalabras(tupla):\n",
        "    ruta = tupla[0]\n",
        "    nombre = tupla[1]\n",
        "    with open(ruta, 'r') as inp:\n",
        "        string_contenido = inp.read()\n",
        "    palabras = string_contenido.split(' ')\n",
        "    cantidad_palabras = len(palabras)\n",
        "    return (nombre, cantidad_palabras)\n"
      ]
    },
    {
      "cell_type": "code",
      "source": [
        "contarPalabras(tuplas_archivos[0])"
      ],
      "metadata": {
        "colab": {
          "base_uri": "https://localhost:8080/"
        },
        "id": "dJiwgCd8Zma8",
        "outputId": "0bd618f3-5d7f-40cd-df12-b756a9a0ff18"
      },
      "execution_count": null,
      "outputs": [
        {
          "output_type": "execute_result",
          "data": {
            "text/plain": [
              "('Yukon Delta Salmon Management.txt', 109)"
            ]
          },
          "metadata": {},
          "execution_count": 24
        }
      ]
    },
    {
      "cell_type": "code",
      "execution_count": null,
      "metadata": {
        "id": "cB_E18ENpswC",
        "colab": {
          "base_uri": "https://localhost:8080/"
        },
        "outputId": "59399617-d9f5-4d89-cde7-93f97b07e1ea"
      },
      "outputs": [
        {
          "output_type": "stream",
          "name": "stdout",
          "text": [
            "[('Yukon Delta Salmon Management.txt', 109), ('The Citrus Solution Phase II.txt', 519), ('Using GIS Site Suitability Analysis to Study Adaptability.txt', 134), ('Characterization of Iron Deposition in Recombinant Heteropolymer.txt', 217)]\n"
          ]
        }
      ],
      "source": [
        "# 2. Recorrer en un loop tuplas_archivos invocando a la función\n",
        "resultados = []\n",
        "for tupla in tuplas_archivos:\n",
        "  nombre, cantidad_palabras = contarPalabras(tupla)\n",
        "  resultado = (nombre, cantidad_palabras)\n",
        "  resultados.append(resultado)\n",
        "\n",
        "print(resultados)\n"
      ]
    },
    {
      "cell_type": "markdown",
      "metadata": {
        "id": "mWj5qylCpswD"
      },
      "source": [
        "Entonces ¿Cuáles superan las 250 palabras? Si quieren ir una milla extra modifiquen la función para que devuelva True si supera y False si no supera en lugar de devolver la cantidad."
      ]
    },
    {
      "cell_type": "code",
      "execution_count": null,
      "metadata": {
        "id": "Jl6XCVC1pswD"
      },
      "outputs": [],
      "source": [
        "# 3. Modifiquen la función\n",
        "def contarPalabras(tupla):\n",
        "    ruta = tupla[0]\n",
        "    nombre = tupla[1]\n",
        "    estado = False\n",
        "    with open(ruta, 'r') as inp:\n",
        "        string_contenido = inp.read()\n",
        "    palabras = string_contenido.split(' ')\n",
        "    cantidad_palabras = len(palabras)\n",
        "    if cantidad_palabras <= 250:\n",
        "      estado = True\n",
        "    return (nombre, estado)"
      ]
    },
    {
      "cell_type": "code",
      "execution_count": null,
      "metadata": {
        "id": "S8sSYu5YpswD",
        "colab": {
          "base_uri": "https://localhost:8080/"
        },
        "outputId": "5bee2331-f62b-42c4-bd2d-18db7c26f062"
      },
      "outputs": [
        {
          "output_type": "stream",
          "name": "stdout",
          "text": [
            "[('Yukon Delta Salmon Management.txt', True), ('The Citrus Solution Phase II.txt', False), ('Using GIS Site Suitability Analysis to Study Adaptability.txt', True), ('Characterization of Iron Deposition in Recombinant Heteropolymer.txt', True)]\n"
          ]
        }
      ],
      "source": [
        "#4. Vuelvan a llamarla\n",
        "resultados = []\n",
        "for tupla in tuplas_archivos:\n",
        "  nombre, cantidad_palabras = contarPalabras(tupla)\n",
        "  resultado = (nombre, cantidad_palabras)\n",
        "  resultados.append(resultado)\n",
        "\n",
        "print(resultados)"
      ]
    },
    {
      "cell_type": "code",
      "execution_count": null,
      "metadata": {
        "id": "T3DEJuzBpswE",
        "colab": {
          "base_uri": "https://localhost:8080/"
        },
        "outputId": "921b76d6-3a65-4f5a-fe34-bed30c5c71ff"
      },
      "outputs": [
        {
          "output_type": "stream",
          "name": "stdout",
          "text": [
            "['Yukon Delta Salmon Management.txt', 'Using GIS Site Suitability Analysis to Study Adaptability.txt', 'Characterization of Iron Deposition in Recombinant Heteropolymer.txt']\n"
          ]
        }
      ],
      "source": [
        "lista = [n[0] for n in resultados if n[1] == True]\n",
        "print(lista)"
      ]
    },
    {
      "cell_type": "code",
      "source": [],
      "metadata": {
        "id": "jv0dW1Gmg2Hd"
      },
      "execution_count": null,
      "outputs": []
    }
  ],
  "metadata": {
    "kernelspec": {
      "display_name": "conda_python3",
      "language": "python",
      "name": "conda_python3"
    },
    "language_info": {
      "codemirror_mode": {
        "name": "ipython",
        "version": 3
      },
      "file_extension": ".py",
      "mimetype": "text/x-python",
      "name": "python",
      "nbconvert_exporter": "python",
      "pygments_lexer": "ipython3",
      "version": "3.6.10"
    },
    "colab": {
      "provenance": []
    }
  },
  "nbformat": 4,
  "nbformat_minor": 0
}