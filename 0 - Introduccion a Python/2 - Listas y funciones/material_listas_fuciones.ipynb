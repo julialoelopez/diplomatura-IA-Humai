{
  "cells": [
    {
      "cell_type": "markdown",
      "metadata": {
        "id": "OtgTAhQspsJj"
      },
      "source": [
        "<a href=\"https://colab.research.google.com/github/institutohumai/cursos-python/blob/master/Introduccion/2_Listas_Y_Funciones/listas-funciones.ipynb\"> <img src='https://colab.research.google.com/assets/colab-badge.svg' /> </a>\n",
        "<div align=\"center\"> Recordá abrir en una nueva pestaña </div>\n",
        "\n",
        "\n",
        "## Listas, Funciones, Errores\n"
      ]
    },
    {
      "cell_type": "markdown",
      "metadata": {
        "id": "e8awVuRmpsJn"
      },
      "source": [
        "- [Control de flujo](#Control-de-flujo)\n",
        "- [Tuplas](#Tuplas)\n",
        "- [Errores](#Errores)\n",
        "- [List Comprehension](#List-Comprehension)\n",
        "- [Funciones](#Funciones)"
      ]
    },
    {
      "cell_type": "markdown",
      "metadata": {
        "id": "FXtPHtImpsJo"
      },
      "source": [
        "### Pequeño Repaso"
      ]
    },
    {
      "cell_type": "code",
      "execution_count": null,
      "metadata": {
        "id": "bqdDzXB4psJo",
        "outputId": "7dda09ea-192f-47c8-f150-7fcc303d515e"
      },
      "outputs": [
        {
          "name": "stdout",
          "output_type": "stream",
          "text": [
            "El número 2 es par\n",
            "El número 4 es par\n",
            "El número 6 es par\n",
            "El número 8 es par\n"
          ]
        }
      ],
      "source": [
        "for i in range(1, 10):\n",
        "    if i % 2 == 0:\n",
        "        print(f\"El número {i} es par\")"
      ]
    },
    {
      "cell_type": "markdown",
      "metadata": {
        "id": "CKm1XSsjpsJr"
      },
      "source": [
        "## Control de flujo\n",
        "\n",
        "Contamos con 3 _keywords_ que modifican el orden de ejecución **dentro de un bucle**\n",
        "\n",
        "- **continue**: interrumpe el flujo del bucle y retoma la ejecución en la siguiente iteración\n",
        "- **break**: termina el bucle\n",
        "- **pass**: no tiene efecto, se usa para evitar error cuando lo exige la sintáxis\n"
      ]
    },
    {
      "cell_type": "markdown",
      "metadata": {
        "id": "C95PbRvkpsJr"
      },
      "source": [
        "Vamos a simular una base de datos de usuarios empleando un diccionario. Este diccionario tiene como llave un id representando por un entero. Como valor tiene un diccionario con nombre, apellido y dni."
      ]
    },
    {
      "cell_type": "code",
      "execution_count": null,
      "metadata": {
        "id": "8lQPA7q4psJs"
      },
      "outputs": [],
      "source": [
        "base = {\n",
        "    1: {\"nombre\":\"Fernanda\",\n",
        "        \"apellido\":\"Fernandez\",\n",
        "        \"dni\":333333331},\n",
        "    2: {\"nombre\":\"Gonzalo\",\n",
        "        \"apellido\":\"Gonzalez\",\n",
        "        \"dni\":333333332},\n",
        "    3: {\"nombre\":\"Rodrigo\",\n",
        "        \"apellido\":\"Rodriguez\",\n",
        "        \"dni\":333333333}\n",
        "    }"
      ]
    },
    {
      "cell_type": "markdown",
      "metadata": {
        "id": "ixl9ookypsJs"
      },
      "source": [
        "Supongamos que en una página web tenemos un formulario en el cual las personas que acceden completan con su dni y queremos saber el nombre y apellido si contamos con el mismo en la base, y si no lo tenemos sólo queremos saber cuál es el dni."
      ]
    },
    {
      "cell_type": "code",
      "execution_count": null,
      "metadata": {
        "id": "DlSAGFNHpsJt"
      },
      "outputs": [],
      "source": [
        "dnis = [333333331, 333333336, 333333339, 333333332, None, 333333333]"
      ]
    },
    {
      "cell_type": "code",
      "execution_count": null,
      "metadata": {
        "id": "CYZmVxOApsJt",
        "outputId": "f6ef7e7e-8607-4fca-be5d-73765e4b5df0"
      },
      "outputs": [
        {
          "name": "stdout",
          "output_type": "stream",
          "text": [
            "Fernanda Fernandez ingreso a nuestra web\n",
            "Hasta el momento se encontraron 1 casos\n",
            "El dni 333333336 no se encuentra en la base...\n",
            "El dni 333333339 no se encuentra en la base...\n",
            "Gonzalo Gonzalez ingreso a nuestra web\n",
            "Hasta el momento se encontraron 2 casos\n",
            "Rodrigo Rodriguez ingreso a nuestra web\n",
            "Hasta el momento se encontraron 3 casos\n"
          ]
        }
      ],
      "source": [
        "n_encontrados = 0\n",
        "\n",
        "for dni in dnis: # itero por todos los dnis\n",
        "\n",
        "    if type(dni) == int: # si el tipo es entero\n",
        "        dni_encontrado = False # inicializo una variable con valor False, ya van a ver para qué :-)\n",
        "\n",
        "        # Ahora viene la parte complicada, ¿cómo sé si ese dni ya está en mi base?\n",
        "        # 1- Recordemos que base es un diccionario y como tal tiene el método items(), pruébenlo afuera de esta celda\n",
        "        # me devuelve una tupla, con la llave en el primer elemento y el valor en el segundo\n",
        "\n",
        "        # itero por todos los elementos\n",
        "        for i in base.items():\n",
        "            valor = i[1] # guardo el valor en una variable\n",
        "            if dni == valor[\"dni\"]: # si el dni es el mismo que estoy buscando...\n",
        "                dni_encontrado = True\n",
        "                nombre_completo = valor[\"nombre\"] + \" \" + valor[\"apellido\"]\n",
        "                n_encontrados += 1 # esto equivale a encontrados = encontrados + 1, agrega uno\n",
        "                break # freno la búsqueda, ésto evita que siga buscando\n",
        "\n",
        "        if dni_encontrado: # entra acá si es True\n",
        "            print(f\"{nombre_completo.title()} ingreso a nuestra web\")\n",
        "\n",
        "        elif not dni_encontrado: # noten el not\n",
        "            print(f'El dni {dni} no se encuentra en la base...')\n",
        "            continue # sigo con la búsqueda, NO paso a la siguiente línea\n",
        "\n",
        "        print(f\"Hasta el momento se encontraron {n_encontrados} casos\")\n",
        "\n",
        "    else:\n",
        "        pass # si dni no es un entero entonces no hacemos nada, suponemos que hubo algún tipo de error"
      ]
    },
    {
      "cell_type": "markdown",
      "metadata": {
        "id": "v8Kd5YKgpsJu"
      },
      "source": [
        "## Tuplas"
      ]
    },
    {
      "cell_type": "markdown",
      "metadata": {
        "id": "8VOizlbvpsJu"
      },
      "source": [
        "Una **tupla** es una secuencia **inmutable** de longitud fija. Las tuplas generalmente se utilizan para representar secuencias de elementos que tienen longitud fija."
      ]
    },
    {
      "cell_type": "code",
      "execution_count": null,
      "metadata": {
        "id": "uAETnCmjpsJu"
      },
      "outputs": [],
      "source": [
        "registro = ('Argentina', 112000, 'Bariloche')"
      ]
    },
    {
      "cell_type": "markdown",
      "metadata": {
        "id": "c7_DohunpsJv"
      },
      "source": [
        "Podemos acceder a un elemento por un índice como con una lista"
      ]
    },
    {
      "cell_type": "code",
      "execution_count": null,
      "metadata": {
        "colab": {
          "base_uri": "https://localhost:8080/",
          "height": 34
        },
        "id": "ckk0oAhZGgJY",
        "outputId": "fe1c10d5-4084-4ff0-b7f8-28211fda61de"
      },
      "outputs": [
        {
          "data": {
            "text/plain": [
              "'Argentina'"
            ]
          },
          "execution_count": 6,
          "metadata": {},
          "output_type": "execute_result"
        }
      ],
      "source": [
        "registro[0]"
      ]
    },
    {
      "cell_type": "markdown",
      "metadata": {
        "id": "Ap8NGL5ipsJv"
      },
      "source": [
        "#### Unpacking\n",
        "\n",
        "Con una tupla, o una lista podemos separar una secuencia en variables de la siguiente manera"
      ]
    },
    {
      "cell_type": "code",
      "execution_count": null,
      "metadata": {
        "id": "p6K_H0ccpsJv",
        "outputId": "29f13dcd-a3a7-4003-a96a-c7f5f9f099ce"
      },
      "outputs": [
        {
          "name": "stdout",
          "output_type": "stream",
          "text": [
            "País: Argentina\n",
            "Población: 112000\n",
            "Ciudad: Bariloche\n"
          ]
        }
      ],
      "source": [
        "pais, poblacion, ciudad = registro\n",
        "\n",
        "print(\"País:\", pais)\n",
        "print(\"Población:\", poblacion)\n",
        "print(\"Ciudad:\", ciudad)"
      ]
    },
    {
      "cell_type": "code",
      "execution_count": null,
      "metadata": {
        "id": "ck5lAsi-JUsX",
        "outputId": "25d58c5c-4df8-4536-8875-2cf2d5ee4a11"
      },
      "outputs": [
        {
          "data": {
            "text/plain": [
              "('Brasil', 477000, 'Florianópolis')"
            ]
          },
          "execution_count": 8,
          "metadata": {},
          "output_type": "execute_result"
        }
      ],
      "source": [
        "registros = [registro, ('Brasil', 477000, 'Florianópolis')]\n",
        "registros[1]"
      ]
    },
    {
      "cell_type": "markdown",
      "metadata": {
        "id": "FUCciCMJpsJw"
      },
      "source": [
        "Pero como las tuplas son **inmutables** no se pueden modificar"
      ]
    },
    {
      "cell_type": "code",
      "execution_count": null,
      "metadata": {
        "id": "aM4O6UkGpsJw",
        "outputId": "72cb6efd-64e8-4307-eed6-672a03b7784f"
      },
      "outputs": [
        {
          "data": {
            "text/plain": [
              "[4, 2, 3]"
            ]
          },
          "execution_count": 9,
          "metadata": {},
          "output_type": "execute_result"
        }
      ],
      "source": [
        "# Una lista sí se puede modificar\n",
        "lista = [1, 2, 3]\n",
        "\n",
        "lista[0] = 4\n",
        "\n",
        "lista"
      ]
    },
    {
      "cell_type": "markdown",
      "metadata": {
        "id": "iOwHMRYzpsJw"
      },
      "source": [
        "En cambio una tupla no se puede modificar o, como dice el cartel de error, no permite asignación:"
      ]
    },
    {
      "cell_type": "code",
      "execution_count": null,
      "metadata": {
        "colab": {
          "base_uri": "https://localhost:8080/",
          "height": 184
        },
        "id": "jfOf0WAymLDQ",
        "outputId": "0613d744-ecf9-48d8-f891-673c31ea5eca"
      },
      "outputs": [
        {
          "name": "stdout",
          "output_type": "stream",
          "text": [
            "('Argentina', 112000, 'Bariloche')\n"
          ]
        },
        {
          "ename": "TypeError",
          "evalue": "'tuple' object does not support item assignment",
          "output_type": "error",
          "traceback": [
            "\u001b[0;31m---------------------------------------------------------------------------\u001b[0m",
            "\u001b[0;31mTypeError\u001b[0m                                 Traceback (most recent call last)",
            "\u001b[0;32m<ipython-input-10-943f179ec8dc>\u001b[0m in \u001b[0;36m<module>\u001b[0;34m\u001b[0m\n\u001b[1;32m      1\u001b[0m \u001b[0mprint\u001b[0m\u001b[0;34m(\u001b[0m\u001b[0mregistro\u001b[0m\u001b[0;34m)\u001b[0m\u001b[0;34m\u001b[0m\u001b[0;34m\u001b[0m\u001b[0m\n\u001b[0;32m----> 2\u001b[0;31m \u001b[0mregistro\u001b[0m\u001b[0;34m[\u001b[0m\u001b[0;36m0\u001b[0m\u001b[0;34m]\u001b[0m \u001b[0;34m=\u001b[0m \u001b[0;34m'Chile'\u001b[0m\u001b[0;34m\u001b[0m\u001b[0;34m\u001b[0m\u001b[0m\n\u001b[0m",
            "\u001b[0;31mTypeError\u001b[0m: 'tuple' object does not support item assignment"
          ]
        }
      ],
      "source": [
        "print(registro)\n",
        "registro[0] = 'Chile'"
      ]
    },
    {
      "cell_type": "code",
      "execution_count": null,
      "metadata": {
        "id": "YZoHddcWpsJx",
        "outputId": "2b80957d-c254-4c2b-adc8-0de4f938625e"
      },
      "outputs": [
        {
          "ename": "TypeError",
          "evalue": "'tuple' object doesn't support item deletion",
          "output_type": "error",
          "traceback": [
            "\u001b[0;31m---------------------------------------------------------------------------\u001b[0m",
            "\u001b[0;31mTypeError\u001b[0m                                 Traceback (most recent call last)",
            "\u001b[0;32m<ipython-input-11-de3b5b100261>\u001b[0m in \u001b[0;36m<module>\u001b[0;34m\u001b[0m\n\u001b[1;32m      1\u001b[0m \u001b[0;31m# tampoco se puede borrar ninguno de sus elementos\u001b[0m\u001b[0;34m\u001b[0m\u001b[0;34m\u001b[0m\u001b[0;34m\u001b[0m\u001b[0m\n\u001b[0;32m----> 2\u001b[0;31m \u001b[0;32mdel\u001b[0m \u001b[0mregistro\u001b[0m\u001b[0;34m[\u001b[0m\u001b[0;36m0\u001b[0m\u001b[0;34m]\u001b[0m\u001b[0;34m\u001b[0m\u001b[0;34m\u001b[0m\u001b[0m\n\u001b[0m",
            "\u001b[0;31mTypeError\u001b[0m: 'tuple' object doesn't support item deletion"
          ]
        }
      ],
      "source": [
        "# tampoco se puede borrar ninguno de sus elementos\n",
        "del registro[0]"
      ]
    },
    {
      "cell_type": "markdown",
      "metadata": {
        "id": "EeO0OEvhpsJx"
      },
      "source": [
        "## Tipos de errores\n",
        "\n",
        "En el ejemplo de arriba vimos una pantalla de error. El **traceback** o **stack trace** nos muestra el camino del error: veremos más adelante que cuando tenemos funciones anidadas, vemos aquí como el error se propaga.\n",
        "\n",
        "Las cosas a las que en principio les debemos prestar atención son:\n",
        "\n",
        "   1. El nombre del error, en este caso **TypeError**\n",
        "   2. La explicación dada en el último renglón: \"'tuple' object doesn't support item deletion\"\n",
        "   3. La flecha que nos indica la línea en la que ocurrió el error"
      ]
    },
    {
      "cell_type": "markdown",
      "metadata": {
        "id": "Gf0LykwRpsJx"
      },
      "source": [
        "Existen distintos tipos de errores en Python, pueden consultar la lista de todas las excepciones básicas acá:\n",
        "https://docs.python.org/3/library/exceptions.html#bltin-exceptions\n",
        "\n",
        "Sin embargo, las excepciones más frecuentes son:\n",
        "\n",
        "**AttributeError**: cuando tratamos de llamar a una referencia que no existe.\n",
        "\n",
        "**NameError**: cuando se llama a una variable u otro nombre que no está definido en el ambiente en que estamos trabajando.\n",
        "\n",
        "**KeyError**: cuando queremos llamar a una llave que no existe, por ejemplo, en un diccionario.\n",
        "\n",
        "**SyntaxError**: cuando hay un problema de sintaxis, errores muy comunes al comienzo pueden ser que no se cerró una llave o corchete, que falta alguna coma o dos puntos.\n",
        "\n",
        "**TypeError**: cuando el tipo de soporta una determinada operación.\n",
        "\n",
        "**IndexError**: cuando el índice al que se quiere acceder no existe, generalmente debido a que se llama a un índice mayor al largo de la lista."
      ]
    },
    {
      "cell_type": "markdown",
      "metadata": {
        "id": "a331tiJ_psJx"
      },
      "source": [
        "Veamos algunos ejemplos:"
      ]
    },
    {
      "cell_type": "code",
      "execution_count": null,
      "metadata": {
        "id": "Y-S0hF6upsJx",
        "outputId": "ebe0436b-2dd6-4a96-d570-ed477f944722"
      },
      "outputs": [
        {
          "ename": "NameError",
          "evalue": "name 'no_definido' is not defined",
          "output_type": "error",
          "traceback": [
            "\u001b[0;31m---------------------------------------------------------------------------\u001b[0m",
            "\u001b[0;31mNameError\u001b[0m                                 Traceback (most recent call last)",
            "\u001b[0;32m<ipython-input-12-7eac29aaea1e>\u001b[0m in \u001b[0;36m<module>\u001b[0;34m\u001b[0m\n\u001b[0;32m----> 1\u001b[0;31m \u001b[0mprint\u001b[0m\u001b[0;34m(\u001b[0m\u001b[0mno_definido\u001b[0m\u001b[0;34m)\u001b[0m\u001b[0;34m\u001b[0m\u001b[0;34m\u001b[0m\u001b[0m\n\u001b[0m",
            "\u001b[0;31mNameError\u001b[0m: name 'no_definido' is not defined"
          ]
        }
      ],
      "source": [
        "print(no_definido)"
      ]
    },
    {
      "cell_type": "code",
      "execution_count": null,
      "metadata": {
        "id": "2ZV3Ky9-psJx",
        "outputId": "3d31c47d-4ece-45e6-ee31-5c2873eb6d3a"
      },
      "outputs": [
        {
          "name": "stdout",
          "output_type": "stream",
          "text": [
            "{1: {'nombre': 'Fernanda', 'apellido': 'Fernandez', 'dni': 333333331}, 2: {'nombre': 'Gonzalo', 'apellido': 'Gonzalez', 'dni': 333333332}, 3: {'nombre': 'Rodrigo', 'apellido': 'Rodriguez', 'dni': 333333333}}\n"
          ]
        }
      ],
      "source": [
        "print(base) # recordamos base"
      ]
    },
    {
      "cell_type": "code",
      "execution_count": null,
      "metadata": {
        "id": "0Vj2g2oopsJy",
        "outputId": "1132f58f-31c0-45ed-a874-cbb8011bc376"
      },
      "outputs": [
        {
          "ename": "KeyError",
          "evalue": "'Gertrudis'",
          "output_type": "error",
          "traceback": [
            "\u001b[0;31m---------------------------------------------------------------------------\u001b[0m",
            "\u001b[0;31mKeyError\u001b[0m                                  Traceback (most recent call last)",
            "\u001b[0;32m<ipython-input-14-dfebdfd799e0>\u001b[0m in \u001b[0;36m<module>\u001b[0;34m\u001b[0m\n\u001b[0;32m----> 1\u001b[0;31m \u001b[0mbase\u001b[0m\u001b[0;34m[\u001b[0m\u001b[0;34m'Gertrudis'\u001b[0m\u001b[0;34m]\u001b[0m\u001b[0;34m\u001b[0m\u001b[0;34m\u001b[0m\u001b[0m\n\u001b[0m",
            "\u001b[0;31mKeyError\u001b[0m: 'Gertrudis'"
          ]
        }
      ],
      "source": [
        "base['Gertrudis']"
      ]
    },
    {
      "cell_type": "markdown",
      "metadata": {
        "id": "E9hZEtkdpsJy"
      },
      "source": [
        "### Ejercicios"
      ]
    },
    {
      "cell_type": "markdown",
      "metadata": {
        "id": "zQew5P_qpsJy"
      },
      "source": [
        "Prueben y arreglen los siguientes errores de código:\n",
        "\n",
        "\n",
        "1. ¿Qué está pasando en este código?"
      ]
    },
    {
      "cell_type": "code",
      "execution_count": null,
      "metadata": {
        "id": "lEL0lQyxpsJy",
        "outputId": "25c61737-4e1b-4077-89e2-143abca6c23e"
      },
      "outputs": [
        {
          "ename": "SyntaxError",
          "evalue": "invalid syntax (<ipython-input-15-c797e0e0635f>, line 1)",
          "output_type": "error",
          "traceback": [
            "\u001b[0;36m  File \u001b[0;32m\"<ipython-input-15-c797e0e0635f>\"\u001b[0;36m, line \u001b[0;32m1\u001b[0m\n\u001b[0;31m    if 10 > 5\u001b[0m\n\u001b[0m             ^\u001b[0m\n\u001b[0;31mSyntaxError\u001b[0m\u001b[0;31m:\u001b[0m invalid syntax\n"
          ]
        }
      ],
      "source": [
        "if 10 > 5\n",
        "    print('Qué está pasando?')"
      ]
    },
    {
      "cell_type": "markdown",
      "metadata": {
        "id": "0LIaoUgmpsJy"
      },
      "source": [
        "2. ¿Y en este? Traten de arreglarlo"
      ]
    },
    {
      "cell_type": "code",
      "execution_count": null,
      "metadata": {
        "id": "ZvegpzCjpsJy",
        "outputId": "3dbb6bc8-8488-4b63-e63c-97157a8a88ed"
      },
      "outputs": [
        {
          "ename": "TypeError",
          "evalue": "unsupported operand type(s) for +: 'int' and 'str'",
          "output_type": "error",
          "traceback": [
            "\u001b[0;31m---------------------------------------------------------------------------\u001b[0m",
            "\u001b[0;31mTypeError\u001b[0m                                 Traceback (most recent call last)",
            "\u001b[0;32m<ipython-input-16-715f0e881b0b>\u001b[0m in \u001b[0;36m<module>\u001b[0;34m\u001b[0m\n\u001b[1;32m      1\u001b[0m \u001b[0ma\u001b[0m \u001b[0;34m=\u001b[0m \u001b[0;36m5\u001b[0m\u001b[0;34m\u001b[0m\u001b[0;34m\u001b[0m\u001b[0m\n\u001b[1;32m      2\u001b[0m \u001b[0mb\u001b[0m \u001b[0;34m=\u001b[0m \u001b[0;34m\"3\"\u001b[0m\u001b[0;34m\u001b[0m\u001b[0;34m\u001b[0m\u001b[0m\n\u001b[0;32m----> 3\u001b[0;31m \u001b[0ma\u001b[0m \u001b[0;34m+\u001b[0m \u001b[0mb\u001b[0m \u001b[0;34m==\u001b[0m \u001b[0;36m8\u001b[0m\u001b[0;34m\u001b[0m\u001b[0;34m\u001b[0m\u001b[0m\n\u001b[0m",
            "\u001b[0;31mTypeError\u001b[0m: unsupported operand type(s) for +: 'int' and 'str'"
          ]
        }
      ],
      "source": [
        "a = 5\n",
        "b = \"3\"\n",
        "a + b == 8"
      ]
    },
    {
      "cell_type": "markdown",
      "metadata": {
        "id": "PtQhW0YwpsJz"
      },
      "source": [
        "3. ¿Y continuación?"
      ]
    },
    {
      "cell_type": "code",
      "execution_count": null,
      "metadata": {
        "id": "bfZzcns9psJz",
        "outputId": "187502ed-924f-4231-e9b2-f78de88f1659"
      },
      "outputs": [
        {
          "ename": "IndexError",
          "evalue": "list index out of range",
          "output_type": "error",
          "traceback": [
            "\u001b[0;31m---------------------------------------------------------------------------\u001b[0m",
            "\u001b[0;31mIndexError\u001b[0m                                Traceback (most recent call last)",
            "\u001b[0;32m<ipython-input-17-5956792cce49>\u001b[0m in \u001b[0;36m<module>\u001b[0;34m\u001b[0m\n\u001b[1;32m      1\u001b[0m \u001b[0ma\u001b[0m \u001b[0;34m=\u001b[0m \u001b[0;34m[\u001b[0m\u001b[0;34m\"the beatles\"\u001b[0m\u001b[0;34m,\u001b[0m \u001b[0;34m\"the rolling stones\"\u001b[0m\u001b[0;34m,\u001b[0m \u001b[0;34m\"queen\"\u001b[0m\u001b[0;34m,\u001b[0m \u001b[0;34m\"led zepellin\"\u001b[0m\u001b[0;34m]\u001b[0m\u001b[0;34m\u001b[0m\u001b[0;34m\u001b[0m\u001b[0m\n\u001b[1;32m      2\u001b[0m \u001b[0;34m\u001b[0m\u001b[0m\n\u001b[0;32m----> 3\u001b[0;31m \u001b[0ma\u001b[0m\u001b[0;34m[\u001b[0m\u001b[0;36m4\u001b[0m\u001b[0;34m]\u001b[0m\u001b[0;34m\u001b[0m\u001b[0;34m\u001b[0m\u001b[0m\n\u001b[0m",
            "\u001b[0;31mIndexError\u001b[0m: list index out of range"
          ]
        }
      ],
      "source": [
        "a = [\"the beatles\", \"the rolling stones\", \"queen\", \"led zepellin\"]\n",
        "\n",
        "a[4]"
      ]
    },
    {
      "cell_type": "markdown",
      "metadata": {
        "id": "bzi-EA9hpsJz"
      },
      "source": [
        "4- ¿Y acá? ¿qué pasó?"
      ]
    },
    {
      "cell_type": "code",
      "execution_count": null,
      "metadata": {
        "id": "loU8GHVOpsJz",
        "outputId": "6c6c841a-0494-4263-e58a-61b320f4b2ee"
      },
      "outputs": [
        {
          "ename": "AttributeError",
          "evalue": "'list' object has no attribute 'appended'",
          "output_type": "error",
          "traceback": [
            "\u001b[0;31m---------------------------------------------------------------------------\u001b[0m",
            "\u001b[0;31mAttributeError\u001b[0m                            Traceback (most recent call last)",
            "\u001b[0;32m<ipython-input-18-fb0e2f01d423>\u001b[0m in \u001b[0;36m<module>\u001b[0;34m\u001b[0m\n\u001b[0;32m----> 1\u001b[0;31m \u001b[0ma\u001b[0m\u001b[0;34m.\u001b[0m\u001b[0mappended\u001b[0m\u001b[0;34m(\u001b[0m\u001b[0;34m[\u001b[0m\u001b[0;34m\"cream\"\u001b[0m\u001b[0;34m]\u001b[0m\u001b[0;34m)\u001b[0m\u001b[0;34m\u001b[0m\u001b[0;34m\u001b[0m\u001b[0m\n\u001b[0m",
            "\u001b[0;31mAttributeError\u001b[0m: 'list' object has no attribute 'appended'"
          ]
        }
      ],
      "source": [
        "a.appended([\"cream\"])"
      ]
    },
    {
      "cell_type": "markdown",
      "metadata": {
        "id": "coz9NhmqpsJz"
      },
      "source": [
        "## Manejo de errores"
      ]
    },
    {
      "cell_type": "markdown",
      "metadata": {
        "id": "k9de_eWTpsJ4"
      },
      "source": [
        "Para anticipar y manejar los errores, podemos usar la clausula **try** y **except**"
      ]
    },
    {
      "cell_type": "code",
      "execution_count": null,
      "metadata": {
        "id": "QwfEGPpqpsJ4",
        "outputId": "3867909c-e79b-4795-a22b-4f86f1bc48d7"
      },
      "outputs": [
        {
          "name": "stdout",
          "output_type": "stream",
          "text": [
            "25\n"
          ]
        }
      ],
      "source": [
        "a = '20'\n",
        "b = 5\n",
        "\n",
        "try:\n",
        "    print(a+b)\n",
        "except:\n",
        "    print(int(a)+int(b)) # convierto a int ambas variables"
      ]
    },
    {
      "cell_type": "markdown",
      "metadata": {
        "id": "U3Vgf-2fpsJ4"
      },
      "source": [
        "Si queremos ver qué excepción ocurrió, podemos usar la siguiente sintáxis:"
      ]
    },
    {
      "cell_type": "code",
      "execution_count": null,
      "metadata": {
        "id": "nKE8offPpsJ4",
        "outputId": "a310311f-4725-47b0-94a4-d1fb0a2afc04"
      },
      "outputs": [
        {
          "name": "stdout",
          "output_type": "stream",
          "text": [
            "El error fue can only concatenate str (not \"int\") to str\n"
          ]
        }
      ],
      "source": [
        "try:\n",
        "    print(a+b)\n",
        "except Exception as e:\n",
        "    print(f\"El error fue {e}\")"
      ]
    },
    {
      "cell_type": "markdown",
      "metadata": {
        "id": "AIL0z4repsJ5"
      },
      "source": [
        "También podemos especificar qué hacer para distintos tipos de error:"
      ]
    },
    {
      "cell_type": "code",
      "execution_count": null,
      "metadata": {
        "id": "p3IX3B2YpsJ5",
        "outputId": "841762c7-2a0b-4634-ba4e-8845e846a210"
      },
      "outputs": [
        {
          "name": "stdout",
          "output_type": "stream",
          "text": [
            "la tupla es ('3', 8)\n",
            "intento dividir...\n",
            "Error en el tipo de datos\n",
            "la tupla es (5, 0)\n",
            "intento dividir...\n",
            "No se puede dividir por cero\n",
            "la tupla es (3,)\n",
            "intento dividir...\n",
            "El largo está mal\n",
            "la tupla es (4, 6)\n",
            "intento dividir...\n",
            "0.6666666666666666\n",
            "éxito!\n"
          ]
        }
      ],
      "source": [
        "lista_tuplas = [('3', 8),\n",
        "                (5, 0),\n",
        "                (3, ),\n",
        "                (4, 6)]\n",
        "\n",
        "for t in lista_tuplas:\n",
        "    print(f\"la tupla es {t}\")\n",
        "\n",
        "    try:\n",
        "        print(\"intento dividir...\")\n",
        "        print(t[0] / t[1])\n",
        "        print(\"éxito!\")\n",
        "    except IndexError:\n",
        "        print('El largo está mal')\n",
        "    except TypeError:\n",
        "        print('Error en el tipo de datos')\n",
        "    except ZeroDivisionError:\n",
        "        print(\"No se puede dividir por cero\")"
      ]
    },
    {
      "cell_type": "markdown",
      "metadata": {
        "id": "0wSh747MpsJ5"
      },
      "source": [
        "# Listas por comprensión (List Comprehension)"
      ]
    },
    {
      "cell_type": "markdown",
      "metadata": {
        "id": "_WS8BlOPpsJ5"
      },
      "source": [
        "Las **listas por comprensión** son una funcionalidad muy flexible de Python que permite crear listas de un modo más \"descriptivo\", basandose en la notación de definición de conjuntos."
      ]
    },
    {
      "cell_type": "markdown",
      "metadata": {
        "id": "mGW1bJTqpsJ6"
      },
      "source": [
        "Supongamos que necesitamos obtener una lista con los elementos de una lista original elevados al cuadrado.\n",
        "\n",
        "Sin listas por comprensión haríamos..."
      ]
    },
    {
      "cell_type": "code",
      "execution_count": null,
      "metadata": {
        "id": "HmdSnuZspsJ6",
        "outputId": "34552c39-07bf-49d7-ddf7-1e11a7db04db"
      },
      "outputs": [
        {
          "data": {
            "text/plain": [
              "[1, 4, 9, 16, 25]"
            ]
          },
          "execution_count": 22,
          "metadata": {},
          "output_type": "execute_result"
        }
      ],
      "source": [
        "lista = [1,2,3,4,5]\n",
        "\n",
        "cuadrados = []\n",
        "\n",
        "for x in lista:\n",
        "    cuadrados.append(x**2)\n",
        "\n",
        "cuadrados"
      ]
    },
    {
      "cell_type": "markdown",
      "metadata": {
        "id": "AkAbAOdEpsJ6"
      },
      "source": [
        "En cambio, con listas por comprensión usamos esta expresión:"
      ]
    },
    {
      "cell_type": "code",
      "execution_count": null,
      "metadata": {
        "id": "hHonCCODpsJ6"
      },
      "outputs": [],
      "source": [
        "cuadrados = [x**2 for x in lista]"
      ]
    },
    {
      "cell_type": "markdown",
      "metadata": {
        "id": "i-MqgNrTpsJ6"
      },
      "source": [
        "En las listas por comprensión también podemos incluir condicionales en una sola línea, vean la siguiente expresión:"
      ]
    },
    {
      "cell_type": "code",
      "execution_count": null,
      "metadata": {
        "id": "5yEK5Oz6psJ7",
        "outputId": "e82efd7c-09bb-44ba-f8c3-9e29d590436e"
      },
      "outputs": [
        {
          "name": "stdout",
          "output_type": "stream",
          "text": [
            "0\n"
          ]
        }
      ],
      "source": [
        "x = 10\n",
        "print(x if x > 15 else 0)"
      ]
    },
    {
      "cell_type": "code",
      "execution_count": null,
      "metadata": {
        "id": "hV4inCgRpsJ7",
        "outputId": "0c61f4ce-b30c-41be-c1da-6bbdbac9dc59"
      },
      "outputs": [
        {
          "name": "stdout",
          "output_type": "stream",
          "text": [
            "16\n"
          ]
        }
      ],
      "source": [
        "x = 16\n",
        "print(x if x > 15 else 0)"
      ]
    },
    {
      "cell_type": "markdown",
      "metadata": {
        "id": "HORR8uYYpsJ7"
      },
      "source": [
        "Ahora vamos a generar una lista por comprensión sólo con los números donde el cuadrado sea menor a 15"
      ]
    },
    {
      "cell_type": "code",
      "execution_count": null,
      "metadata": {
        "id": "s6vupn0VpsJ7",
        "outputId": "5315d1c8-7a90-44fe-afb6-c26b3a07a356"
      },
      "outputs": [
        {
          "data": {
            "text/plain": [
              "[1, 4, 9]"
            ]
          },
          "execution_count": 26,
          "metadata": {},
          "output_type": "execute_result"
        }
      ],
      "source": [
        "cuadrados = [x**2 for x in lista if x**2 < 15]\n",
        "cuadrados"
      ]
    },
    {
      "cell_type": "markdown",
      "metadata": {
        "id": "YIFtcOTMpsJ7"
      },
      "source": [
        "La sintáxis para **filtrar** con condicionales es\n",
        "\n",
        "> [ (elemento) ( for x in (iterable) ) ( if condicion ) ]\n",
        "\n",
        "Donde \"elemento\" es lo que vayamos a guardar en la lista. Incluyendo un **else**:\n",
        "\n",
        "> [ (elemento) (if condicion else otro_elemento) ( for x in (iterable) ) ]\n",
        "\n",
        "Pueden hacerse loops anidados:\n",
        "\n",
        "> [i for i in range(x) for j in range(y)]"
      ]
    },
    {
      "cell_type": "markdown",
      "metadata": {
        "id": "vkvUF83zpsJ8"
      },
      "source": [
        "Otra forma de pensar la sintaxis es a partir de teoría de conjuntos. Por ejemplo:\n",
        "Un conjunto S definido por todos los números X / 4 que pertenecen a los Naturales y cumplen que su cuadrado es menor a 20\n",
        "\n",
        "$$S=\\{\\,\\frac{x}{4}\\mid x \\in \\mathbb{N},\\ x^2<60\\,\\}$$"
      ]
    },
    {
      "cell_type": "markdown",
      "metadata": {
        "id": "SBADbflkpsJ8"
      },
      "source": [
        "Con un loop for:"
      ]
    },
    {
      "cell_type": "code",
      "execution_count": null,
      "metadata": {
        "id": "QHirPOhVpsJ8",
        "outputId": "cea1fe2b-4b48-4699-f376-255efaa0fe13"
      },
      "outputs": [
        {
          "data": {
            "text/plain": [
              "[0.0, 0.25, 0.5, 0.75, 1.0, 1.25, 1.5, 1.75]"
            ]
          },
          "execution_count": 27,
          "metadata": {},
          "output_type": "execute_result"
        }
      ],
      "source": [
        "S = []\n",
        "\n",
        "for x in range(1000):\n",
        "    if x ** 2 < 60:\n",
        "        S.append(x/4)\n",
        "S"
      ]
    },
    {
      "cell_type": "markdown",
      "metadata": {
        "id": "M4-YPEIcpsJ8"
      },
      "source": [
        "Con listas por comprensión:"
      ]
    },
    {
      "cell_type": "code",
      "execution_count": null,
      "metadata": {
        "id": "_VFhcbllpsJ8",
        "outputId": "413e5d35-7ae3-4ce7-97e5-d24fe72899b4"
      },
      "outputs": [
        {
          "data": {
            "text/plain": [
              "[0.0, 0.25, 0.5, 0.75, 1.0, 1.25, 1.5, 1.75]"
            ]
          },
          "execution_count": 28,
          "metadata": {},
          "output_type": "execute_result"
        }
      ],
      "source": [
        "S = [x/4 for x in range(1000) if x**2 < 60]\n",
        "S"
      ]
    },
    {
      "cell_type": "code",
      "execution_count": null,
      "metadata": {
        "id": "fEq1HHDJpsJ8",
        "outputId": "c0f02168-d9c3-4a84-877b-7ae722621b8a"
      },
      "outputs": [
        {
          "name": "stdout",
          "output_type": "stream",
          "text": [
            "0 a\n",
            "0 b\n",
            "0 c\n",
            "1 a\n",
            "1 b\n",
            "1 c\n",
            "2 a\n",
            "2 b\n",
            "2 c\n"
          ]
        }
      ],
      "source": [
        "for x in range(3):\n",
        "    for y in 'abc':\n",
        "        print(x,y)"
      ]
    },
    {
      "cell_type": "code",
      "execution_count": null,
      "metadata": {
        "id": "oY0K1m-8psJ9",
        "outputId": "3518f38a-ec60-427b-ebf2-fde78c73ee49"
      },
      "outputs": [
        {
          "data": {
            "text/plain": [
              "[(0, 'a'),\n",
              " (0, 'b'),\n",
              " (0, 'c'),\n",
              " (1, 'a'),\n",
              " (1, 'b'),\n",
              " (1, 'c'),\n",
              " (2, 'a'),\n",
              " (2, 'b'),\n",
              " (2, 'c')]"
            ]
          },
          "execution_count": 30,
          "metadata": {},
          "output_type": "execute_result"
        }
      ],
      "source": [
        "[(x, y) for x in range(3) for y in 'abc']"
      ]
    },
    {
      "cell_type": "markdown",
      "metadata": {
        "id": "lBN38QvQpsJ9"
      },
      "source": [
        "O comprensiones anidadas:\n",
        "\n",
        "> [ [i for i in range(x) ] for j in range(y) ]"
      ]
    },
    {
      "cell_type": "code",
      "execution_count": null,
      "metadata": {
        "id": "ArZuqLFopsJ9",
        "outputId": "b8b75d20-9103-4be6-ff9e-cbac0ffd1a28"
      },
      "outputs": [
        {
          "data": {
            "text/plain": [
              "[['', '', ''], ['a', 'b', 'c'], ['aa', 'bb', 'cc']]"
            ]
          },
          "execution_count": 31,
          "metadata": {},
          "output_type": "execute_result"
        }
      ],
      "source": [
        "[[l*n for l in 'abc'] for n in range(3)]"
      ]
    },
    {
      "cell_type": "markdown",
      "metadata": {
        "id": "avLJvAVYpsJ9"
      },
      "source": [
        "Además, el elemento que se genera puede ser de otro tipo, en este caso una tupla:"
      ]
    },
    {
      "cell_type": "code",
      "execution_count": null,
      "metadata": {
        "id": "GdY1Mp-wpsJ9",
        "outputId": "241b6ce7-63bd-4222-8f74-4d772e03cc6e"
      },
      "outputs": [
        {
          "data": {
            "text/plain": [
              "[('mantarraya', 10), ('pandas', 6), ('narval', 6), ('unicornio', 9)]"
            ]
          },
          "execution_count": 32,
          "metadata": {},
          "output_type": "execute_result"
        }
      ],
      "source": [
        "animales = ['mantarraya', 'pandas', 'narval', 'unicornio']\n",
        "\n",
        "[(a, len(a)) for a in animales]"
      ]
    },
    {
      "cell_type": "markdown",
      "metadata": {
        "id": "ANn1q5KKpsJ9"
      },
      "source": [
        "### Ejercicios"
      ]
    },
    {
      "cell_type": "markdown",
      "metadata": {
        "id": "NuLfuM7RpsJ-"
      },
      "source": [
        "1- Dado el siguiente grupo de palabras, crear otra lista que contenga sólo la primera letra de cada una"
      ]
    },
    {
      "cell_type": "code",
      "execution_count": null,
      "metadata": {
        "id": "ITw3idLjpsJ-"
      },
      "outputs": [],
      "source": [
        "lista = ['a','ante','bajo','cabe','con']"
      ]
    },
    {
      "cell_type": "markdown",
      "metadata": {
        "id": "Hrn0a1MnpsJ-"
      },
      "source": [
        "2- Dada la siguiente frase, crear una lista con el largo de cada palabra.\n",
        "Tip: Antes de aplicar listas por comprensión pueden usar la función split que vimos la clase pasada y la función replace para remover la puntuación."
      ]
    },
    {
      "cell_type": "code",
      "execution_count": null,
      "metadata": {
        "id": "RuElYFaZpsJ-"
      },
      "outputs": [],
      "source": [
        "frase = 'Cambiar el mundo, amigo Sancho, no es ni utopía ni locura, es justicia'"
      ]
    },
    {
      "cell_type": "markdown",
      "metadata": {
        "id": "TB1th04upsJ-"
      },
      "source": [
        "# I/O\n",
        "\n",
        "Ahora veremos como abrir archivos usando Python base. Para hacerlo usaremos la sentencia **with** para definir un **contexto** del siguiente modo:\n",
        "\n",
        "    with open('corpus.txt', 'r') as inp:\n",
        "        string_contenido = inp.read()\n",
        "        \n",
        "Lo que significa: con el archivo \"corpus.txt\" abierto en **modo** lectura (\"r\" de read) con el **alias** _inp_, definimos la variable contenido usando el método **.read()** para leer el archivo. Algunas aclaraciones:\n",
        "\n",
        "- El método .read() es propio del objeto de input, que **en esta ocasión** llamamos _inp_. Otro método útil es **.readlines()** que nos permite iterar por renglones.\n",
        "- La ruta al archivo puede ser **relativa** como en este caso, donde el archivo se encontraría en la misma carpeta que la notebook. También se puede dar el path completo, como podría ser \"C:/Usuarios/Matías/Documentos/corpus.txt\""
      ]
    },
    {
      "cell_type": "markdown",
      "metadata": {
        "id": "hazAEy6vpsJ-"
      },
      "source": [
        "Existen varios modos de abrir un archivo, incluyendo:\n",
        "\n",
        "    - r: read, lectura\n",
        "    - w: write, escritura\n",
        "    - a: append, agregar al final del archivo\n",
        "   \n",
        "Por ejemplo, para escribir en un archivo, haríamos:\n",
        "\n",
        "    with open(outpath, 'w') as f:\n",
        "        f.write(string)"
      ]
    },
    {
      "cell_type": "code",
      "execution_count": null,
      "metadata": {
        "id": "jHkdDpUFpsJ-"
      },
      "outputs": [],
      "source": [
        "with open('nuevo.txt', 'w') as f:\n",
        "    f.write('ejemplo de escritura')"
      ]
    },
    {
      "cell_type": "code",
      "execution_count": null,
      "metadata": {
        "id": "CytaWAz5psJ_",
        "outputId": "5a4dded0-5f2e-4fcf-c25b-4c9c2e2bb2f0"
      },
      "outputs": [
        {
          "name": "stdout",
          "output_type": "stream",
          "text": [
            "ejemplo de escritura\n"
          ]
        }
      ],
      "source": [
        "with open('nuevo.txt', 'r') as f:\n",
        "    contenido = f.read()\n",
        "\n",
        "print(contenido)"
      ]
    },
    {
      "cell_type": "markdown",
      "metadata": {
        "id": "VTneFHvSpsJ_"
      },
      "source": [
        "En Python se puede pedir un input del usuario de la siguiente manera:"
      ]
    },
    {
      "cell_type": "code",
      "execution_count": null,
      "metadata": {
        "id": "8ZNRjDXGpsJ_",
        "outputId": "37fa01e8-16f1-4b37-eddb-897dc924c623"
      },
      "outputs": [
        {
          "name": "stdout",
          "output_type": "stream",
          "text": [
            "Ingrese un numero\n",
            "No anduvo, intente de nuevo\n",
            "Ingrese un numero1\n",
            "Su numero fue 1! :D\n"
          ]
        }
      ],
      "source": [
        "while True:\n",
        "    usuario_dijo = input('Ingrese un numero')\n",
        "\n",
        "    try:\n",
        "        num = int(usuario_dijo)\n",
        "        break\n",
        "    except:\n",
        "        print('No anduvo, intente de nuevo')\n",
        "\n",
        "print(f'Su numero fue {num}! :D')"
      ]
    },
    {
      "cell_type": "markdown",
      "metadata": {
        "id": "h8IIXsswpsJ_"
      },
      "source": [
        "# Funciones\n",
        "\n",
        "Las funciones nos permiten estandarizar y reutilizar un proceso en múltiples ocasiones.\n",
        "\n",
        "Como patrón de diseño, las funciones tienen que ser lo más atómicas posibles, es decir, resolver un problema lo más pequeño posible y bien definido.\n",
        "\n",
        "Los nombres también son importantes, el nombre de la función tiene que reflejar lo mejor posible lo que hace.\n",
        "\n",
        "\n",
        "Las funciones se definen de la siguiente manera:\n",
        "\n",
        "    def nombre_de_funcion(argumentos):\n",
        "        \"\"\"docstring opcional\"\"\"\n",
        "        resultado = procedimiento(argumentos)\n",
        "        return resultado\n",
        "        \n",
        "Las variables definidias en el contexto de una función son locales, es decir, sólo viven dentro de esa función. Por otra parte, si desde una función se llama a una variable que no está definida en la función tratará de buscarla afuera. En general, es buena práctica usar sólo variables definidas dentro de la función o argumentos.\n",
        "\n",
        "Los argumentos son variables que le pasamos a la función para que *haga algo*.\n",
        "\n",
        "Las funciones emplean dos términos reservados:\n",
        "\n",
        "- def: que indica el comienzo de la definición de la función\n",
        "\n",
        "- return: establece la variable o variables que devuelve la función\n",
        "\n",
        "En este punto vale la pena mencionar que en Python los nombres (de variables, funciones, etc.) se almacenan y ordenan en NameSpaces. En este punto, la información definida dentro de la función no es compartida con el exterior de la función (salvo algunas excepciones que no vienen al caso), por lo tanto, para compartirla, la función debe enviar desde el NameSpace local (el de la función) al NameSpace global (donde está el resto del programa). Para ello, el término return indica qué se devolverá al ambiente global. Para que efectivamente esa/s variable/s que la función devuelve se guarden una variable en el ambiente global debemos asignar el resultado a una variable. Esto va a quedar más claro con el código.\n",
        "\n",
        "Por último, vale la pena mencionar que *print* sólo nos muestra el contenido de una variable pero no envía la información desde la función hacia afuera."
      ]
    },
    {
      "cell_type": "code",
      "execution_count": null,
      "metadata": {
        "id": "iZvHlaeDpsKA"
      },
      "outputs": [],
      "source": [
        "def promedio(lista):\n",
        "    return sum(lista) / len(lista)"
      ]
    },
    {
      "cell_type": "code",
      "execution_count": null,
      "metadata": {
        "id": "DOSbkDOwpsKA",
        "outputId": "abc2d59d-df6d-4a6c-de29-560a137cb6e1"
      },
      "outputs": [
        {
          "name": "stdout",
          "output_type": "stream",
          "text": [
            "1.5\n"
          ]
        }
      ],
      "source": [
        "resultado = promedio([0,1,2,3]) # asigno el resultado\n",
        "print(resultado)"
      ]
    },
    {
      "cell_type": "code",
      "execution_count": null,
      "metadata": {
        "id": "SeEFIWPUpsKA"
      },
      "outputs": [],
      "source": [
        "def suma(a,b):\n",
        "    \"\"\"Esta función recibe dos numeros y devuelve la suma\"\"\"\n",
        "    return a+b"
      ]
    },
    {
      "cell_type": "code",
      "execution_count": null,
      "metadata": {
        "id": "EJj8lEa5psKA",
        "outputId": "3bc606bf-e130-4119-b72d-d13c1709f719"
      },
      "outputs": [
        {
          "name": "stdout",
          "output_type": "stream",
          "text": [
            "8\n"
          ]
        }
      ],
      "source": [
        "r = suma(3,5) # asigno el resultado\n",
        "print(r)"
      ]
    },
    {
      "cell_type": "code",
      "execution_count": null,
      "metadata": {
        "id": "5hgW9Jm8psKA"
      },
      "outputs": [],
      "source": [
        "def rango(lista):\n",
        "    return max(lista) - min(lista)"
      ]
    },
    {
      "cell_type": "code",
      "execution_count": null,
      "metadata": {
        "id": "F3yHweuypsKB",
        "outputId": "7a658e9c-ad18-422d-c139-1b7fb19c5417"
      },
      "outputs": [
        {
          "data": {
            "text/plain": [
              "113"
            ]
          },
          "execution_count": 43,
          "metadata": {},
          "output_type": "execute_result"
        }
      ],
      "source": [
        "lista = [89, -24, 9, 2]\n",
        "rango(lista)"
      ]
    },
    {
      "cell_type": "markdown",
      "metadata": {
        "id": "nwoXoJO0psKB"
      },
      "source": [
        "### Ejercicios:\n",
        "\n",
        "1- Escribir una función que reciba una lista con números y devuelva la suma de todos los pares\n",
        "\n",
        "2- Escribir una función que tome una lista con distintos elementos (de cualquier tipo) y devuelva una lista sólo con los últimos tres números que aparecen."
      ]
    },
    {
      "cell_type": "markdown",
      "metadata": {
        "id": "qn3pJQJBpsKB"
      },
      "source": [
        "En las funciones existen argumentos se pueden pasar por posición o por su nombre. Algunos de los argumentos tienen un valor por default."
      ]
    },
    {
      "cell_type": "code",
      "execution_count": null,
      "metadata": {
        "id": "9YbplN2-psKB"
      },
      "outputs": [],
      "source": [
        "def unir_lista(lista, conector=' '):\n",
        "    \"\"\"Esta funcion recibe dos argumentos, una lista y un conector\n",
        "    y devuelve la lista unida usando el conector.\"\"\"\n",
        "\n",
        "    unida = conector.join([str(e) for e in lista])\n",
        "\n",
        "    return unida"
      ]
    },
    {
      "cell_type": "code",
      "execution_count": null,
      "metadata": {
        "id": "PumG-2FOpsKB",
        "outputId": "47072c52-071e-481a-d152-f5838c747368"
      },
      "outputs": [
        {
          "data": {
            "text/plain": [
              "'unir 3 cosas'"
            ]
          },
          "execution_count": 45,
          "metadata": {},
          "output_type": "execute_result"
        }
      ],
      "source": [
        "unir_lista(['unir',3,'cosas'])"
      ]
    },
    {
      "cell_type": "code",
      "execution_count": null,
      "metadata": {
        "id": "NLZIcng6psKB",
        "outputId": "83887c8c-913f-4376-c182-44879d868457"
      },
      "outputs": [
        {
          "data": {
            "text/plain": [
              "'probando,unir,lista,123'"
            ]
          },
          "execution_count": 46,
          "metadata": {},
          "output_type": "execute_result"
        }
      ],
      "source": [
        "unir_lista(['probando', 'unir', 'lista', 123], conector = ',')"
      ]
    },
    {
      "cell_type": "markdown",
      "metadata": {
        "id": "8CBzGxtZpsKC"
      },
      "source": [
        "Lo que no podemos hacer es pasar el argumento nombrado antes de el o los posicionales"
      ]
    },
    {
      "cell_type": "code",
      "execution_count": null,
      "metadata": {
        "id": "XYzfgrMhpsKC",
        "outputId": "4f797ef0-64c6-41cc-d198-3f8e1768ad0a"
      },
      "outputs": [
        {
          "ename": "SyntaxError",
          "evalue": "positional argument follows keyword argument (<ipython-input-47-81791f827422>, line 1)",
          "output_type": "error",
          "traceback": [
            "\u001b[0;36m  File \u001b[0;32m\"<ipython-input-47-81791f827422>\"\u001b[0;36m, line \u001b[0;32m1\u001b[0m\n\u001b[0;31m    unir_lista(conector = ',',['probando', 'unir', 'lista', 123])\u001b[0m\n\u001b[0m                             ^\u001b[0m\n\u001b[0;31mSyntaxError\u001b[0m\u001b[0;31m:\u001b[0m positional argument follows keyword argument\n"
          ]
        }
      ],
      "source": [
        "unir_lista(conector = ',',['probando', 'unir', 'lista', 123])"
      ]
    },
    {
      "cell_type": "markdown",
      "metadata": {
        "id": "BfoEo-AUpsKC"
      },
      "source": [
        "Cuando uso los argumentos por su nombre, puedo pasarlos en cualquier orden"
      ]
    },
    {
      "cell_type": "code",
      "execution_count": null,
      "metadata": {
        "id": "2W1kBXyYpsKC",
        "outputId": "815d6048-0862-4c6e-8565-e5476b9e0805"
      },
      "outputs": [
        {
          "data": {
            "text/plain": [
              "'probando,unir,lista,123'"
            ]
          },
          "execution_count": 48,
          "metadata": {},
          "output_type": "execute_result"
        }
      ],
      "source": [
        "unir_lista(conector = ',',lista = ['probando', 'unir', 'lista', 123])"
      ]
    },
    {
      "cell_type": "markdown",
      "metadata": {
        "id": "uzQh8oE6psKC"
      },
      "source": [
        "Existen distintos tipos de argumentos, principalmente los llamados \"args\" y \"kwargs\", o argumentos y \"keyword arguments\" es decir argumentos nombrados."
      ]
    },
    {
      "cell_type": "markdown",
      "metadata": {
        "id": "SMWFJH8ApsKC"
      },
      "source": [
        "También podemos tener un numero variable de argumentos, usando el symbolo *, por conveción al parámetro se le llama 'args'"
      ]
    },
    {
      "cell_type": "markdown",
      "metadata": {
        "id": "biB9rNVQpsKD"
      },
      "source": [
        "Internamente, los elementos de *args se tratan como una tupla"
      ]
    },
    {
      "cell_type": "code",
      "execution_count": null,
      "metadata": {
        "id": "noEb-QuWpsKD"
      },
      "outputs": [],
      "source": [
        "def suma_todos(*args):\n",
        "    print(type(args))\n",
        "    return sum(args)"
      ]
    },
    {
      "cell_type": "code",
      "execution_count": null,
      "metadata": {
        "id": "9w9klApopsKD",
        "outputId": "5e350fd4-0c3e-431e-f5ad-ba5e5a4876e6"
      },
      "outputs": [
        {
          "name": "stdout",
          "output_type": "stream",
          "text": [
            "<class 'tuple'>\n"
          ]
        },
        {
          "data": {
            "text/plain": [
              "16"
            ]
          },
          "execution_count": 9,
          "metadata": {},
          "output_type": "execute_result"
        }
      ],
      "source": [
        "suma_todos(9,1,4,2)"
      ]
    },
    {
      "cell_type": "markdown",
      "metadata": {
        "id": "o77OH0bUpsKD"
      },
      "source": [
        "En cambio los elementos de **kwargs se tratan como un diccionario"
      ]
    },
    {
      "cell_type": "code",
      "execution_count": null,
      "metadata": {
        "id": "1clswI_NpsKD"
      },
      "outputs": [],
      "source": [
        "def consulta(**kwargs):\n",
        "    print(type(kwargs))\n",
        "    texto = f\"Su consulta es {kwargs['fecha']} a las {kwargs['hora']}\"\n",
        "    return texto"
      ]
    },
    {
      "cell_type": "code",
      "execution_count": null,
      "metadata": {
        "id": "anJkRi6ypsKD",
        "outputId": "d4b60f89-3800-4f3f-c0d4-683c8d0e2ea4"
      },
      "outputs": [
        {
          "name": "stdout",
          "output_type": "stream",
          "text": [
            "<class 'dict'>\n"
          ]
        },
        {
          "data": {
            "text/plain": [
              "'Su consulta es hoy a las 4PM'"
            ]
          },
          "execution_count": 11,
          "metadata": {},
          "output_type": "execute_result"
        }
      ],
      "source": [
        "consulta(fecha='hoy',hora='4PM')"
      ]
    },
    {
      "cell_type": "markdown",
      "metadata": {
        "id": "9ljpgZ5GpsKE"
      },
      "source": [
        "Finalmente, podemos juntar todo lo visto en una misma función, es decir, tener argumentos sin nombre sin valor default, argumentos con valores default, args y kwargs. Esto es especialmente útil cuando necesitamos enviar args o kwargs a otras funciones usadas dentro de una función."
      ]
    },
    {
      "cell_type": "code",
      "execution_count": null,
      "metadata": {
        "id": "_5ZwUJDApsKE"
      },
      "outputs": [],
      "source": [
        "valor_consulta = {\"consulta\":10, \"arreglos_caries\":20, \"flúor\":15}"
      ]
    },
    {
      "cell_type": "code",
      "execution_count": null,
      "metadata": {
        "id": "NuvP5q8cpsKE",
        "outputId": "74962f10-dd2e-400a-fae7-cac5f7327768"
      },
      "outputs": [
        {
          "data": {
            "text/plain": [
              "[10, 20, 15]"
            ]
          },
          "execution_count": 13,
          "metadata": {},
          "output_type": "execute_result"
        }
      ],
      "source": [
        "costos = list(valor_consulta.values())\n",
        "costos"
      ]
    },
    {
      "cell_type": "code",
      "execution_count": null,
      "metadata": {
        "id": "c7xYaq7EpsKE"
      },
      "outputs": [],
      "source": [
        "def emitir_factura(nombre, dni, tipo=\"DNI\", *args, **kwargs):\n",
        "    factura = \"\"\n",
        "    factura += f\"Gracias por su visita Nombre:{nombre} \\n\"\n",
        "    factura += f\"{tipo} {dni} \\n\"\n",
        "    costo = suma_todos(*args) # hago unpacking de args\n",
        "    factura += f\"El costo es {costo} \\n\"\n",
        "    factura += consulta(**kwargs) # hago unpacking de kwargs\n",
        "    return factura"
      ]
    },
    {
      "cell_type": "code",
      "execution_count": null,
      "metadata": {
        "id": "_wnPH2dupsKE",
        "outputId": "f3c15d71-0bf7-44d8-bbe7-bd6bd20c030e"
      },
      "outputs": [
        {
          "name": "stdout",
          "output_type": "stream",
          "text": [
            "<class 'tuple'>\n",
            "<class 'dict'>\n"
          ]
        }
      ],
      "source": [
        "factura = emitir_factura(\"Obi Wan\", 370310455, \"DNI\", *costos, fecha=\"hoy\", hora=\"5PM\")"
      ]
    },
    {
      "cell_type": "code",
      "execution_count": null,
      "metadata": {
        "id": "RL_RznncpsKE",
        "outputId": "e783b9cf-2d15-44de-8510-fcf8169d3580"
      },
      "outputs": [
        {
          "name": "stdout",
          "output_type": "stream",
          "text": [
            "Gracias por su visita Nombre:Obi Wan \n",
            "DNI 370310455 \n",
            "El costo es 45 \n",
            "Su consulta es hoy a las 5PM\n"
          ]
        }
      ],
      "source": [
        "print(factura)"
      ]
    },
    {
      "cell_type": "code",
      "execution_count": null,
      "metadata": {
        "id": "h9DR_1MJpsKF"
      },
      "outputs": [],
      "source": []
    }
  ],
  "metadata": {
    "kernelspec": {
      "display_name": "Python (base)",
      "language": "python",
      "name": "base"
    },
    "language_info": {
      "codemirror_mode": {
        "name": "ipython",
        "version": 3
      },
      "file_extension": ".py",
      "mimetype": "text/x-python",
      "name": "python",
      "nbconvert_exporter": "python",
      "pygments_lexer": "ipython3",
      "version": "3.7.3"
    },
    "colab": {
      "provenance": []
    }
  },
  "nbformat": 4,
  "nbformat_minor": 0
}